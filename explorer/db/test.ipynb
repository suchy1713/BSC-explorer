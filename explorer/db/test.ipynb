{
 "metadata": {
  "language_info": {
   "codemirror_mode": {
    "name": "ipython",
    "version": 3
   },
   "file_extension": ".py",
   "mimetype": "text/x-python",
   "name": "python",
   "nbconvert_exporter": "python",
   "pygments_lexer": "ipython3",
   "version": "3.8.3-final"
  },
  "orig_nbformat": 2,
  "kernelspec": {
   "name": "python3",
   "display_name": "Python 3"
  }
 },
 "nbformat": 4,
 "nbformat_minor": 2,
 "cells": [
  {
   "cell_type": "code",
   "execution_count": 8,
   "metadata": {},
   "outputs": [
    {
     "output_type": "stream",
     "name": "stdout",
     "text": [
      "SELECT games.gameDate,COUNT(DISTINCT games.gameDate) aaa FROM teams JOIN games ON teams.gameId=games.id GROUP BY games.gameDate\n"
     ]
    },
    {
     "output_type": "execute_result",
     "data": {
      "text/plain": [
       "      gameDate  aaa\n",
       "0   2019-08-11    1\n",
       "1   2019-12-01    1\n",
       "2   2019-12-07    1\n",
       "3   2019-12-26    1\n",
       "4   2020-09-12    1\n",
       "5   2020-09-20    1\n",
       "6   2020-09-26    1\n",
       "7   2020-09-28    1\n",
       "8   2020-10-04    1\n",
       "9   2020-10-17    1\n",
       "10  2020-10-24    1\n",
       "11  2020-10-31    1\n",
       "12  2020-11-02    1\n",
       "13  2020-11-07    1\n",
       "14  2020-11-08    1"
      ],
      "text/html": "<div>\n<style scoped>\n    .dataframe tbody tr th:only-of-type {\n        vertical-align: middle;\n    }\n\n    .dataframe tbody tr th {\n        vertical-align: top;\n    }\n\n    .dataframe thead th {\n        text-align: right;\n    }\n</style>\n<table border=\"1\" class=\"dataframe\">\n  <thead>\n    <tr style=\"text-align: right;\">\n      <th></th>\n      <th>gameDate</th>\n      <th>aaa</th>\n    </tr>\n  </thead>\n  <tbody>\n    <tr>\n      <th>0</th>\n      <td>2019-08-11</td>\n      <td>1</td>\n    </tr>\n    <tr>\n      <th>1</th>\n      <td>2019-12-01</td>\n      <td>1</td>\n    </tr>\n    <tr>\n      <th>2</th>\n      <td>2019-12-07</td>\n      <td>1</td>\n    </tr>\n    <tr>\n      <th>3</th>\n      <td>2019-12-26</td>\n      <td>1</td>\n    </tr>\n    <tr>\n      <th>4</th>\n      <td>2020-09-12</td>\n      <td>1</td>\n    </tr>\n    <tr>\n      <th>5</th>\n      <td>2020-09-20</td>\n      <td>1</td>\n    </tr>\n    <tr>\n      <th>6</th>\n      <td>2020-09-26</td>\n      <td>1</td>\n    </tr>\n    <tr>\n      <th>7</th>\n      <td>2020-09-28</td>\n      <td>1</td>\n    </tr>\n    <tr>\n      <th>8</th>\n      <td>2020-10-04</td>\n      <td>1</td>\n    </tr>\n    <tr>\n      <th>9</th>\n      <td>2020-10-17</td>\n      <td>1</td>\n    </tr>\n    <tr>\n      <th>10</th>\n      <td>2020-10-24</td>\n      <td>1</td>\n    </tr>\n    <tr>\n      <th>11</th>\n      <td>2020-10-31</td>\n      <td>1</td>\n    </tr>\n    <tr>\n      <th>12</th>\n      <td>2020-11-02</td>\n      <td>1</td>\n    </tr>\n    <tr>\n      <th>13</th>\n      <td>2020-11-07</td>\n      <td>1</td>\n    </tr>\n    <tr>\n      <th>14</th>\n      <td>2020-11-08</td>\n      <td>1</td>\n    </tr>\n  </tbody>\n</table>\n</div>"
     },
     "metadata": {},
     "execution_count": 8
    }
   ],
   "source": [
    "import mysql.connector\n",
    "import pandas as pd\n",
    "from pypika import Table, Query, functions\n",
    "\n",
    "user = 'root'\n",
    "password = '24082408'\n",
    "host = 'localhost'\n",
    "database = 'bsc-explorer'\n",
    "\n",
    "cnx = mysql.connector.connect(\n",
    "    user='root',\n",
    "    password='24082408',\n",
    "    host='localhost',\n",
    "    database='bsc-explorer'\n",
    ")\n",
    "\n",
    "season = '2020-21'\n",
    "competition = 'UEFA Nations League A'\n",
    "\n",
    "t_games = Table('games')\n",
    "t_teams = Table('teams')\n",
    "\n",
    "query = Query.from_(t_teams).join(\n",
    "            t_games\n",
    "        ).on(\n",
    "            t_teams.gameId == t_games.id\n",
    "        ).groupby(\n",
    "            t_games.gameDate\n",
    "        ).select(\n",
    "            t_games.gameDate,\n",
    "            functions.Count(t_games.gameDate).distinct().as_('aaa')\n",
    "        )\n",
    "print(query.get_sql())\n",
    "\n",
    "\n",
    "seasons = pd.read_sql(query.get_sql(), cnx)\n",
    "seasons"
   ]
  }
 ]
}
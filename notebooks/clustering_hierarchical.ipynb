{
 "metadata": {
  "language_info": {
   "codemirror_mode": {
    "name": "ipython",
    "version": 3
   },
   "file_extension": ".py",
   "mimetype": "text/x-python",
   "name": "python",
   "nbconvert_exporter": "python",
   "pygments_lexer": "ipython3",
   "version": "3.8.3-final"
  },
  "orig_nbformat": 2,
  "kernelspec": {
   "name": "Python 3.8.3 64-bit ('base': conda)",
   "display_name": "Python 3.8.3 64-bit ('base': conda)",
   "metadata": {
    "interpreter": {
     "hash": "092b1be93d0df02c8bd1e4aef8cdf398adffafb0bcd89d0936e511bc26d58a53"
    }
   }
  }
 },
 "nbformat": 4,
 "nbformat_minor": 2,
 "cells": [
  {
   "cell_type": "code",
   "execution_count": 1,
   "metadata": {},
   "outputs": [],
   "source": [
    "import json\n",
    "import pandas as pd\n",
    "import numpy as np\n",
    "import matplotlib.pyplot as plt\n",
    "from field import draw_field\n",
    "from plot import set_style"
   ]
  },
  {
   "cell_type": "code",
   "execution_count": 2,
   "metadata": {},
   "outputs": [],
   "source": [
    "def init_plot():\n",
    "    fig = plt.figure(figsize=(150, 100))\n",
    "    ax = plt.axes([0.05, 0.9, 0.05, 0.9])\n",
    "    set_style()\n",
    "    draw_field(ax, correct_aspect=True, arrow=False)\n",
    "\n",
    "    return fig, ax"
   ]
  },
  {
   "cell_type": "code",
   "execution_count": 3,
   "metadata": {},
   "outputs": [
    {
     "output_type": "execute_result",
     "data": {
      "text/plain": [
       "                name        x        y  left  right  up  down     angle  \\\n",
       "0    Héctor Bellerín  51.5340   3.0498     4      5   9     0  0.969149   \n",
       "1     Kieran Tierney  60.5640  59.5578     6      3   0     9  0.963999   \n",
       "2  Gabriel Magalhães  36.3090  47.9978     1      8   3     6  0.371277   \n",
       "3        Bukayo Saka  63.0840  54.0498     7      2   2     7  0.824022   \n",
       "4      Dani Ceballos  42.5565  40.8238     2      7   4     5  0.201031   \n",
       "\n",
       "                           game team_name  \n",
       "0  Arsenal_Sheff Utd_2020-10-04   Arsenal  \n",
       "1  Arsenal_Sheff Utd_2020-10-04   Arsenal  \n",
       "2  Arsenal_Sheff Utd_2020-10-04   Arsenal  \n",
       "3  Arsenal_Sheff Utd_2020-10-04   Arsenal  \n",
       "4  Arsenal_Sheff Utd_2020-10-04   Arsenal  "
      ],
      "text/html": "<div>\n<style scoped>\n    .dataframe tbody tr th:only-of-type {\n        vertical-align: middle;\n    }\n\n    .dataframe tbody tr th {\n        vertical-align: top;\n    }\n\n    .dataframe thead th {\n        text-align: right;\n    }\n</style>\n<table border=\"1\" class=\"dataframe\">\n  <thead>\n    <tr style=\"text-align: right;\">\n      <th></th>\n      <th>name</th>\n      <th>x</th>\n      <th>y</th>\n      <th>left</th>\n      <th>right</th>\n      <th>up</th>\n      <th>down</th>\n      <th>angle</th>\n      <th>game</th>\n      <th>team_name</th>\n    </tr>\n  </thead>\n  <tbody>\n    <tr>\n      <th>0</th>\n      <td>Héctor Bellerín</td>\n      <td>51.5340</td>\n      <td>3.0498</td>\n      <td>4</td>\n      <td>5</td>\n      <td>9</td>\n      <td>0</td>\n      <td>0.969149</td>\n      <td>Arsenal_Sheff Utd_2020-10-04</td>\n      <td>Arsenal</td>\n    </tr>\n    <tr>\n      <th>1</th>\n      <td>Kieran Tierney</td>\n      <td>60.5640</td>\n      <td>59.5578</td>\n      <td>6</td>\n      <td>3</td>\n      <td>0</td>\n      <td>9</td>\n      <td>0.963999</td>\n      <td>Arsenal_Sheff Utd_2020-10-04</td>\n      <td>Arsenal</td>\n    </tr>\n    <tr>\n      <th>2</th>\n      <td>Gabriel Magalhães</td>\n      <td>36.3090</td>\n      <td>47.9978</td>\n      <td>1</td>\n      <td>8</td>\n      <td>3</td>\n      <td>6</td>\n      <td>0.371277</td>\n      <td>Arsenal_Sheff Utd_2020-10-04</td>\n      <td>Arsenal</td>\n    </tr>\n    <tr>\n      <th>3</th>\n      <td>Bukayo Saka</td>\n      <td>63.0840</td>\n      <td>54.0498</td>\n      <td>7</td>\n      <td>2</td>\n      <td>2</td>\n      <td>7</td>\n      <td>0.824022</td>\n      <td>Arsenal_Sheff Utd_2020-10-04</td>\n      <td>Arsenal</td>\n    </tr>\n    <tr>\n      <th>4</th>\n      <td>Dani Ceballos</td>\n      <td>42.5565</td>\n      <td>40.8238</td>\n      <td>2</td>\n      <td>7</td>\n      <td>4</td>\n      <td>5</td>\n      <td>0.201031</td>\n      <td>Arsenal_Sheff Utd_2020-10-04</td>\n      <td>Arsenal</td>\n    </tr>\n  </tbody>\n</table>\n</div>"
     },
     "metadata": {},
     "execution_count": 3
    }
   ],
   "source": [
    "df = pd.read_csv('data/coordinates.csv')\n",
    "\n",
    "df.head()"
   ]
  },
  {
   "cell_type": "code",
   "execution_count": 4,
   "metadata": {},
   "outputs": [
    {
     "output_type": "execute_result",
     "data": {
      "text/plain": [
       "[<matplotlib.lines.Line2D at 0x22270f287c0>]"
      ]
     },
     "metadata": {},
     "execution_count": 4
    },
    {
     "output_type": "display_data",
     "data": {
      "text/plain": "<Figure size 10800x7200 with 1 Axes>",
      "image/svg+xml": "<?xml version=\"1.0\" encoding=\"utf-8\" standalone=\"no\"?>\r\n<!DOCTYPE svg PUBLIC \"-//W3C//DTD SVG 1.1//EN\"\r\n  \"http://www.w3.org/Graphics/SVG/1.1/DTD/svg11.dtd\">\r\n<!-- Created with matplotlib (https://matplotlib.org/) -->\r\n<svg height=\"356.234862pt\" version=\"1.1\" viewBox=\"0 0 554.4 356.234862\" width=\"554.4pt\" xmlns=\"http://www.w3.org/2000/svg\" xmlns:xlink=\"http://www.w3.org/1999/xlink\">\r\n <defs>\r\n  <style type=\"text/css\">\r\n*{stroke-linecap:butt;stroke-linejoin:round;}\r\n  </style>\r\n </defs>\r\n <g id=\"figure_1\">\r\n  <g id=\"patch_1\">\r\n   <path d=\"M 0 356.234862 \r\nL 554.4 356.234862 \r\nL 554.4 0 \r\nL 0 0 \r\nz\r\n\" style=\"fill:none;\"/>\r\n  </g>\r\n  <g id=\"axes_1\">\r\n   <g id=\"patch_2\">\r\n    <path clip-path=\"url(#p60e621cf73)\" d=\"M 277.2 223.447706 \r\nC 289.22173 223.447706 300.752699 218.671423 309.253345 210.170776 \r\nC 317.753991 201.67013 322.530275 190.139161 322.530275 178.117431 \r\nC 322.530275 166.095702 317.753991 154.564733 309.253345 146.064086 \r\nC 300.752699 137.56344 289.22173 132.787156 277.2 132.787156 \r\nC 265.17827 132.787156 253.647301 137.56344 245.146655 146.064086 \r\nC 236.646009 154.564733 231.869725 166.095702 231.869725 178.117431 \r\nC 231.869725 190.139161 236.646009 201.67013 245.146655 210.170776 \r\nC 253.647301 218.671423 265.17827 223.447706 277.2 223.447706 \r\nz\r\n\" style=\"fill:none;stroke:#474747;stroke-linejoin:miter;stroke-width:2.5;\"/>\r\n   </g>\r\n   <g id=\"patch_3\">\r\n    <path clip-path=\"url(#p60e621cf73)\" d=\"M 277.2 180.099083 \r\nC 277.72554 180.099083 278.229626 179.890283 278.601239 179.51867 \r\nC 278.972852 179.147057 279.181651 178.642971 279.181651 178.117431 \r\nC 279.181651 177.591891 278.972852 177.087805 278.601239 176.716192 \r\nC 278.229626 176.344579 277.72554 176.13578 277.2 176.13578 \r\nC 276.67446 176.13578 276.170374 176.344579 275.798761 176.716192 \r\nC 275.427148 177.087805 275.218349 177.591891 275.218349 178.117431 \r\nC 275.218349 178.642971 275.427148 179.147057 275.798761 179.51867 \r\nC 276.170374 179.890283 276.67446 180.099083 277.2 180.099083 \r\nz\r\n\" style=\"fill:#474747;stroke:#474747;stroke-linejoin:miter;stroke-width:2.5;\"/>\r\n   </g>\r\n   <g id=\"patch_4\">\r\n    <path clip-path=\"url(#p60e621cf73)\" d=\"M 71.60367 180.099083 \r\nC 72.12921 180.099083 72.633296 179.890283 73.004909 179.51867 \r\nC 73.376522 179.147057 73.585321 178.642971 73.585321 178.117431 \r\nC 73.585321 177.591891 73.376522 177.087805 73.004909 176.716192 \r\nC 72.633296 176.344579 72.12921 176.13578 71.60367 176.13578 \r\nC 71.07813 176.13578 70.574044 176.344579 70.202431 176.716192 \r\nC 69.830818 177.087805 69.622018 177.591891 69.622018 178.117431 \r\nC 69.622018 178.642971 69.830818 179.147057 70.202431 179.51867 \r\nC 70.574044 179.890283 71.07813 180.099083 71.60367 180.099083 \r\nz\r\n\" style=\"fill:#474747;stroke:#474747;stroke-linejoin:miter;stroke-width:2.5;\"/>\r\n   </g>\r\n   <g id=\"patch_5\">\r\n    <path clip-path=\"url(#p60e621cf73)\" d=\"M 482.79633 180.099083 \r\nC 483.32187 180.099083 483.825956 179.890283 484.197569 179.51867 \r\nC 484.569182 179.147057 484.777982 178.642971 484.777982 178.117431 \r\nC 484.777982 177.591891 484.569182 177.087805 484.197569 176.716192 \r\nC 483.825956 176.344579 483.32187 176.13578 482.79633 176.13578 \r\nC 482.27079 176.13578 481.766704 176.344579 481.395091 176.716192 \r\nC 481.023478 177.087805 480.814679 177.591891 480.814679 178.117431 \r\nC 480.814679 178.642971 481.023478 179.147057 481.395091 179.51867 \r\nC 481.766704 179.890283 482.27079 180.099083 482.79633 180.099083 \r\nz\r\n\" style=\"fill:#474747;stroke:#474747;stroke-linejoin:miter;stroke-width:2.5;\"/>\r\n   </g>\r\n   <g id=\"patch_6\">\r\n    <path clip-path=\"url(#p60e621cf73)\" d=\"M 98.264345 212.842437 \r\nC 103.334839 208.587787 107.412451 203.273739 110.209787 197.274833 \r\nC 113.007123 191.275928 114.456881 184.736491 114.456881 178.117431 \r\nC 114.456881 171.498371 113.007123 164.958935 110.209787 158.960029 \r\nC 107.412451 152.961123 103.334839 147.647076 98.264345 143.392426 \r\n\" style=\"fill:none;stroke:#474747;stroke-linejoin:miter;stroke-width:2.5;\"/>\r\n   </g>\r\n   <g id=\"patch_7\">\r\n    <path clip-path=\"url(#p60e621cf73)\" d=\"M 456.135655 143.392426 \r\nC 451.065161 147.647076 446.987549 152.961123 444.190213 158.960029 \r\nC 441.392877 164.958935 439.943119 171.498371 439.943119 178.117431 \r\nC 439.943119 184.736491 441.392877 191.275928 444.190213 197.274833 \r\nC 446.987549 203.273739 451.065161 208.587787 456.135655 212.842437 \r\n\" style=\"fill:none;stroke:#474747;stroke-linejoin:miter;stroke-width:2.5;\"/>\r\n   </g>\r\n   <g id=\"patch_8\">\r\n    <path clip-path=\"url(#p60e621cf73)\" d=\"M 537.291743 341.60367 \r\nC 535.97833 341.60367 534.717368 342.125977 533.788645 343.0547 \r\nC 532.859922 343.983423 532.337615 345.244386 532.337615 346.557798 \r\n\" style=\"fill:none;stroke:#474747;stroke-linejoin:miter;stroke-width:2.5;\"/>\r\n   </g>\r\n   <g id=\"patch_9\">\r\n    <path clip-path=\"url(#p60e621cf73)\" d=\"M 532.337615 9.677064 \r\nC 532.337615 10.990477 532.859922 12.251439 533.788645 13.180162 \r\nC 534.717368 14.108885 535.97833 14.631193 537.291743 14.631193 \r\n\" style=\"fill:none;stroke:#474747;stroke-linejoin:miter;stroke-width:2.5;\"/>\r\n   </g>\r\n   <g id=\"patch_10\">\r\n    <path clip-path=\"url(#p60e621cf73)\" d=\"M 17.108257 14.631193 \r\nC 18.42167 14.631193 19.682632 14.108885 20.611355 13.180162 \r\nC 21.540078 12.251439 22.062385 10.990477 22.062385 9.677064 \r\n\" style=\"fill:none;stroke:#474747;stroke-linejoin:miter;stroke-width:2.5;\"/>\r\n   </g>\r\n   <g id=\"patch_11\">\r\n    <path clip-path=\"url(#p60e621cf73)\" d=\"M 22.062385 346.557798 \r\nC 22.062385 345.244386 21.540078 343.983423 20.611355 343.0547 \r\nC 19.682632 342.125977 18.42167 341.60367 17.108257 341.60367 \r\n\" style=\"fill:none;stroke:#474747;stroke-linejoin:miter;stroke-width:2.5;\"/>\r\n   </g>\r\n   <g id=\"line2d_1\">\r\n    <path clip-path=\"url(#p60e621cf73)\" d=\"M 277.2 346.557798 \r\nL 277.2 9.677064 \r\n\" style=\"fill:none;stroke:#474747;stroke-linecap:round;stroke-width:2.5;\"/>\r\n   </g>\r\n   <g id=\"line2d_2\">\r\n    <path clip-path=\"url(#p60e621cf73)\" d=\"M 98.851376 277.943119 \r\nL 98.851376 78.291743 \r\n\" style=\"fill:none;stroke:#474747;stroke-linecap:round;stroke-width:2.5;\"/>\r\n   </g>\r\n   <g id=\"line2d_3\">\r\n    <path clip-path=\"url(#p60e621cf73)\" d=\"M 17.108257 78.291743 \r\nL 98.851376 78.291743 \r\n\" style=\"fill:none;stroke:#474747;stroke-linecap:round;stroke-width:2.5;\"/>\r\n   </g>\r\n   <g id=\"line2d_4\">\r\n    <path clip-path=\"url(#p60e621cf73)\" d=\"M 98.851376 277.943119 \r\nL 17.108257 277.943119 \r\n\" style=\"fill:none;stroke:#474747;stroke-linecap:round;stroke-width:2.5;\"/>\r\n   </g>\r\n   <g id=\"line2d_5\">\r\n    <path clip-path=\"url(#p60e621cf73)\" d=\"M 537.291743 78.291743 \r\nL 455.548624 78.291743 \r\n\" style=\"fill:none;stroke:#474747;stroke-linecap:round;stroke-width:2.5;\"/>\r\n   </g>\r\n   <g id=\"line2d_6\">\r\n    <path clip-path=\"url(#p60e621cf73)\" d=\"M 455.548624 78.291743 \r\nL 455.548624 277.943119 \r\n\" style=\"fill:none;stroke:#474747;stroke-linecap:round;stroke-width:2.5;\"/>\r\n   </g>\r\n   <g id=\"line2d_7\">\r\n    <path clip-path=\"url(#p60e621cf73)\" d=\"M 455.548624 277.943119 \r\nL 537.291743 277.943119 \r\n\" style=\"fill:none;stroke:#474747;stroke-linecap:round;stroke-width:2.5;\"/>\r\n   </g>\r\n   <g id=\"line2d_8\">\r\n    <path clip-path=\"url(#p60e621cf73)\" d=\"M 17.108257 132.787156 \r\nL 44.355963 132.787156 \r\n\" style=\"fill:none;stroke:#474747;stroke-linecap:round;stroke-width:2.5;\"/>\r\n   </g>\r\n   <g id=\"line2d_9\">\r\n    <path clip-path=\"url(#p60e621cf73)\" d=\"M 44.355963 132.787156 \r\nL 44.355963 223.447706 \r\n\" style=\"fill:none;stroke:#474747;stroke-linecap:round;stroke-width:2.5;\"/>\r\n   </g>\r\n   <g id=\"line2d_10\">\r\n    <path clip-path=\"url(#p60e621cf73)\" d=\"M 44.355963 223.447706 \r\nL 17.108257 223.447706 \r\n\" style=\"fill:none;stroke:#474747;stroke-linecap:round;stroke-width:2.5;\"/>\r\n   </g>\r\n   <g id=\"line2d_11\">\r\n    <path clip-path=\"url(#p60e621cf73)\" d=\"M 537.291743 132.787156 \r\nL 510.044037 132.787156 \r\n\" style=\"fill:none;stroke:#474747;stroke-linecap:round;stroke-width:2.5;\"/>\r\n   </g>\r\n   <g id=\"line2d_12\">\r\n    <path clip-path=\"url(#p60e621cf73)\" d=\"M 510.044037 132.787156 \r\nL 510.044037 223.447706 \r\n\" style=\"fill:none;stroke:#474747;stroke-linecap:round;stroke-width:2.5;\"/>\r\n   </g>\r\n   <g id=\"line2d_13\">\r\n    <path clip-path=\"url(#p60e621cf73)\" d=\"M 510.044037 223.447706 \r\nL 537.291743 223.447706 \r\n\" style=\"fill:none;stroke:#474747;stroke-linecap:round;stroke-width:2.5;\"/>\r\n   </g>\r\n   <g id=\"line2d_14\">\r\n    <path clip-path=\"url(#p60e621cf73)\" d=\"M 17.108257 196.2 \r\nL 12.154128 196.2 \r\n\" style=\"fill:none;stroke:#474747;stroke-linecap:round;stroke-width:2.5;\"/>\r\n   </g>\r\n   <g id=\"line2d_15\">\r\n    <path clip-path=\"url(#p60e621cf73)\" d=\"M 17.108257 160.034862 \r\nL 12.154128 160.034862 \r\n\" style=\"fill:none;stroke:#474747;stroke-linecap:round;stroke-width:2.5;\"/>\r\n   </g>\r\n   <g id=\"line2d_16\">\r\n    <path clip-path=\"url(#p60e621cf73)\" d=\"M 12.154128 196.2 \r\nL 12.154128 160.034862 \r\n\" style=\"fill:none;stroke:#474747;stroke-linecap:round;stroke-width:2.5;\"/>\r\n   </g>\r\n   <g id=\"line2d_17\">\r\n    <path clip-path=\"url(#p60e621cf73)\" d=\"M 537.291743 196.2 \r\nL 542.245872 196.2 \r\n\" style=\"fill:none;stroke:#474747;stroke-linecap:round;stroke-width:2.5;\"/>\r\n   </g>\r\n   <g id=\"line2d_18\">\r\n    <path clip-path=\"url(#p60e621cf73)\" d=\"M 537.291743 160.034862 \r\nL 542.245872 160.034862 \r\n\" style=\"fill:none;stroke:#474747;stroke-linecap:round;stroke-width:2.5;\"/>\r\n   </g>\r\n   <g id=\"line2d_19\">\r\n    <path clip-path=\"url(#p60e621cf73)\" d=\"M 542.245872 196.2 \r\nL 542.245872 160.034862 \r\n\" style=\"fill:none;stroke:#474747;stroke-linecap:round;stroke-width:2.5;\"/>\r\n   </g>\r\n   <g id=\"line2d_20\">\r\n    <defs>\r\n     <path d=\"M 0 5 \r\nC 1.326016 5 2.597899 4.473168 3.535534 3.535534 \r\nC 4.473168 2.597899 5 1.326016 5 0 \r\nC 5 -1.326016 4.473168 -2.597899 3.535534 -3.535534 \r\nC 2.597899 -4.473168 1.326016 -5 0 -5 \r\nC -1.326016 -5 -2.597899 -4.473168 -3.535534 -3.535534 \r\nC -4.473168 -2.597899 -5 -1.326016 -5 0 \r\nC -5 1.326016 -4.473168 2.597899 -3.535534 3.535534 \r\nC -2.597899 4.473168 -1.326016 5 0 5 \r\nz\r\n\" id=\"mf7e3958e73\" style=\"stroke:#1f77b4;\"/>\r\n    </defs>\r\n    <g clip-path=\"url(#p60e621cf73)\">\r\n     <use style=\"fill:#1f77b4;stroke:#1f77b4;\" x=\"272.414312\" xlink:href=\"#mf7e3958e73\" y=\"331.448697\"/>\r\n     <use style=\"fill:#1f77b4;stroke:#1f77b4;\" x=\"317.150092\" xlink:href=\"#mf7e3958e73\" y=\"51.500807\"/>\r\n     <use style=\"fill:#1f77b4;stroke:#1f77b4;\" x=\"196.987706\" xlink:href=\"#mf7e3958e73\" y=\"108.770532\"/>\r\n     <use style=\"fill:#1f77b4;stroke:#1f77b4;\" x=\"329.634495\" xlink:href=\"#mf7e3958e73\" y=\"78.788147\"/>\r\n     <use style=\"fill:#1f77b4;stroke:#1f77b4;\" x=\"227.938624\" xlink:href=\"#mf7e3958e73\" y=\"144.31145\"/>\r\n     <use style=\"fill:#1f77b4;stroke:#1f77b4;\" x=\"314.549174\" xlink:href=\"#mf7e3958e73\" y=\"301.129431\"/>\r\n     <use style=\"fill:#1f77b4;stroke:#1f77b4;\" x=\"345.24\" xlink:href=\"#mf7e3958e73\" y=\"62.617872\"/>\r\n     <use style=\"fill:#1f77b4;stroke:#1f77b4;\" x=\"167.597339\" xlink:href=\"#mf7e3958e73\" y=\"252.281725\"/>\r\n     <use style=\"fill:#1f77b4;stroke:#1f77b4;\" x=\"268.773028\" xlink:href=\"#mf7e3958e73\" y=\"277.54778\"/>\r\n     <use style=\"fill:#1f77b4;stroke:#1f77b4;\" x=\"331.715229\" xlink:href=\"#mf7e3958e73\" y=\"172.777872\"/>\r\n     <use style=\"fill:#1f77b4;stroke:#1f77b4;\" x=\"294.079954\" xlink:href=\"#mf7e3958e73\" y=\"330.16855\"/>\r\n     <use style=\"fill:#1f77b4;stroke:#1f77b4;\" x=\"314.36711\" xlink:href=\"#mf7e3958e73\" y=\"85.930018\"/>\r\n     <use style=\"fill:#1f77b4;stroke:#1f77b4;\" x=\"231.137752\" xlink:href=\"#mf7e3958e73\" y=\"298.670202\"/>\r\n     <use style=\"fill:#1f77b4;stroke:#1f77b4;\" x=\"254.025826\" xlink:href=\"#mf7e3958e73\" y=\"179.751303\"/>\r\n     <use style=\"fill:#1f77b4;stroke:#1f77b4;\" x=\"247.26344\" xlink:href=\"#mf7e3958e73\" y=\"209.228367\"/>\r\n     <use style=\"fill:#1f77b4;stroke:#1f77b4;\" x=\"166.114817\" xlink:href=\"#mf7e3958e73\" y=\"188.678642\"/>\r\n     <use style=\"fill:#1f77b4;stroke:#1f77b4;\" x=\"332.573532\" xlink:href=\"#mf7e3958e73\" y=\"107.827266\"/>\r\n     <use style=\"fill:#1f77b4;stroke:#1f77b4;\" x=\"328.412064\" xlink:href=\"#mf7e3958e73\" y=\"138.483413\"/>\r\n     <use style=\"fill:#1f77b4;stroke:#1f77b4;\" x=\"282.635917\" xlink:href=\"#mf7e3958e73\" y=\"111.196073\"/>\r\n     <use style=\"fill:#1f77b4;stroke:#1f77b4;\" x=\"321.389587\" xlink:href=\"#mf7e3958e73\" y=\"131.240477\"/>\r\n     <use style=\"fill:#1f77b4;stroke:#1f77b4;\" x=\"292.207294\" xlink:href=\"#mf7e3958e73\" y=\"337.664147\"/>\r\n     <use style=\"fill:#1f77b4;stroke:#1f77b4;\" x=\"176.206376\" xlink:href=\"#mf7e3958e73\" y=\"141.262679\"/>\r\n     <use style=\"fill:#1f77b4;stroke:#1f77b4;\" x=\"295.848578\" xlink:href=\"#mf7e3958e73\" y=\"77.59222\"/>\r\n     <use style=\"fill:#1f77b4;stroke:#1f77b4;\" x=\"272.700413\" xlink:href=\"#mf7e3958e73\" y=\"228.85167\"/>\r\n     <use style=\"fill:#1f77b4;stroke:#1f77b4;\" x=\"349.947661\" xlink:href=\"#mf7e3958e73\" y=\"184.720294\"/>\r\n     <use style=\"fill:#1f77b4;stroke:#1f77b4;\" x=\"347.346743\" xlink:href=\"#mf7e3958e73\" y=\"248.053872\"/>\r\n     <use style=\"fill:#1f77b4;stroke:#1f77b4;\" x=\"334.602248\" xlink:href=\"#mf7e3958e73\" y=\"83.824514\"/>\r\n     <use style=\"fill:#1f77b4;stroke:#1f77b4;\" x=\"168.923807\" xlink:href=\"#mf7e3958e73\" y=\"276.014972\"/>\r\n     <use style=\"fill:#1f77b4;stroke:#1f77b4;\" x=\"285.444908\" xlink:href=\"#mf7e3958e73\" y=\"57.042495\"/>\r\n     <use style=\"fill:#1f77b4;stroke:#1f77b4;\" x=\"248.771972\" xlink:href=\"#mf7e3958e73\" y=\"146.14745\"/>\r\n     <use style=\"fill:#1f77b4;stroke:#1f77b4;\" x=\"250.592615\" xlink:href=\"#mf7e3958e73\" y=\"70.95567\"/>\r\n     <use style=\"fill:#1f77b4;stroke:#1f77b4;\" x=\"324.45867\" xlink:href=\"#mf7e3958e73\" y=\"82.409615\"/>\r\n     <use style=\"fill:#1f77b4;stroke:#1f77b4;\" x=\"371.275183\" xlink:href=\"#mf7e3958e73\" y=\"322.605578\"/>\r\n     <use style=\"fill:#1f77b4;stroke:#1f77b4;\" x=\"201.175183\" xlink:href=\"#mf7e3958e73\" y=\"160.229064\"/>\r\n     <use style=\"fill:#1f77b4;stroke:#1f77b4;\" x=\"186.089862\" xlink:href=\"#mf7e3958e73\" y=\"310.477872\"/>\r\n     <use style=\"fill:#1f77b4;stroke:#1f77b4;\" x=\"293.767844\" xlink:href=\"#mf7e3958e73\" y=\"342.144661\"/>\r\n     <use style=\"fill:#1f77b4;stroke:#1f77b4;\" x=\"298.189404\" xlink:href=\"#mf7e3958e73\" y=\"58.827963\"/>\r\n     <use style=\"fill:#1f77b4;stroke:#1f77b4;\" x=\"258.395367\" xlink:href=\"#mf7e3958e73\" y=\"171.346128\"/>\r\n     <use style=\"fill:#1f77b4;stroke:#1f77b4;\" x=\"332.781606\" xlink:href=\"#mf7e3958e73\" y=\"103.633101\"/>\r\n     <use style=\"fill:#1f77b4;stroke:#1f77b4;\" x=\"255.274266\" xlink:href=\"#mf7e3958e73\" y=\"158.544661\"/>\r\n     <use style=\"fill:#1f77b4;stroke:#1f77b4;\" x=\"264.533532\" xlink:href=\"#mf7e3958e73\" y=\"289.843927\"/>\r\n     <use style=\"fill:#1f77b4;stroke:#1f77b4;\" x=\"103.796835\" xlink:href=\"#mf7e3958e73\" y=\"246.049431\"/>\r\n     <use style=\"fill:#1f77b4;stroke:#1f77b4;\" x=\"172.461055\" xlink:href=\"#mf7e3958e73\" y=\"112.644661\"/>\r\n     <use style=\"fill:#1f77b4;stroke:#1f77b4;\" x=\"322.533991\" xlink:href=\"#mf7e3958e73\" y=\"208.65567\"/>\r\n     <use style=\"fill:#1f77b4;stroke:#1f77b4;\" x=\"265.573899\" xlink:href=\"#mf7e3958e73\" y=\"172.440991\"/>\r\n     <use style=\"fill:#1f77b4;stroke:#1f77b4;\" x=\"338.399587\" xlink:href=\"#mf7e3958e73\" y=\"76.935303\"/>\r\n     <use style=\"fill:#1f77b4;stroke:#1f77b4;\" x=\"337.879404\" xlink:href=\"#mf7e3958e73\" y=\"155.765394\"/>\r\n     <use style=\"fill:#1f77b4;stroke:#1f77b4;\" x=\"362.328028\" xlink:href=\"#mf7e3958e73\" y=\"282.09567\"/>\r\n     <use style=\"fill:#1f77b4;stroke:#1f77b4;\" x=\"293.143624\" xlink:href=\"#mf7e3958e73\" y=\"55.711817\"/>\r\n     <use style=\"fill:#1f77b4;stroke:#1f77b4;\" x=\"311.350046\" xlink:href=\"#mf7e3958e73\" y=\"181.03145\"/>\r\n     <use style=\"fill:#1f77b4;stroke:#1f77b4;\" x=\"100.18156\" xlink:href=\"#mf7e3958e73\" y=\"145.338936\"/>\r\n     <use style=\"fill:#1f77b4;stroke:#1f77b4;\" x=\"132.432936\" xlink:href=\"#mf7e3958e73\" y=\"208.335633\"/>\r\n     <use style=\"fill:#1f77b4;stroke:#1f77b4;\" x=\"356.111835\" xlink:href=\"#mf7e3958e73\" y=\"224.842789\"/>\r\n     <use style=\"fill:#1f77b4;stroke:#1f77b4;\" x=\"332.183394\" xlink:href=\"#mf7e3958e73\" y=\"38.884624\"/>\r\n     <use style=\"fill:#1f77b4;stroke:#1f77b4;\" x=\"246.873303\" xlink:href=\"#mf7e3958e73\" y=\"297.945908\"/>\r\n     <use style=\"fill:#1f77b4;stroke:#1f77b4;\" x=\"348.309083\" xlink:href=\"#mf7e3958e73\" y=\"292.555817\"/>\r\n     <use style=\"fill:#1f77b4;stroke:#1f77b4;\" x=\"294.730183\" xlink:href=\"#mf7e3958e73\" y=\"179.36389\"/>\r\n     <use style=\"fill:#1f77b4;stroke:#1f77b4;\" x=\"274.443028\" xlink:href=\"#mf7e3958e73\" y=\"183.069578\"/>\r\n     <use style=\"fill:#1f77b4;stroke:#1f77b4;\" x=\"336.865046\" xlink:href=\"#mf7e3958e73\" y=\"31.810128\"/>\r\n     <use style=\"fill:#1f77b4;stroke:#1f77b4;\" x=\"349.869633\" xlink:href=\"#mf7e3958e73\" y=\"179.027009\"/>\r\n     <use style=\"fill:#1f77b4;stroke:#1f77b4;\" x=\"223.491055\" xlink:href=\"#mf7e3958e73\" y=\"275.509651\"/>\r\n     <use style=\"fill:#1f77b4;stroke:#1f77b4;\" x=\"203.463991\" xlink:href=\"#mf7e3958e73\" y=\"228.85167\"/>\r\n     <use style=\"fill:#1f77b4;stroke:#1f77b4;\" x=\"208.145642\" xlink:href=\"#mf7e3958e73\" y=\"167.202495\"/>\r\n     <use style=\"fill:#1f77b4;stroke:#1f77b4;\" x=\"216.988761\" xlink:href=\"#mf7e3958e73\" y=\"196.174239\"/>\r\n     <use style=\"fill:#1f77b4;stroke:#1f77b4;\" x=\"254.702064\" xlink:href=\"#mf7e3958e73\" y=\"148.674055\"/>\r\n     <use style=\"fill:#1f77b4;stroke:#1f77b4;\" x=\"355.877752\" xlink:href=\"#mf7e3958e73\" y=\"75.907817\"/>\r\n     <use style=\"fill:#1f77b4;stroke:#1f77b4;\" x=\"348.075\" xlink:href=\"#mf7e3958e73\" y=\"149.684697\"/>\r\n     <use style=\"fill:#1f77b4;stroke:#1f77b4;\" x=\"336.370872\" xlink:href=\"#mf7e3958e73\" y=\"314.587817\"/>\r\n     <use style=\"fill:#1f77b4;stroke:#1f77b4;\" x=\"266.406193\" xlink:href=\"#mf7e3958e73\" y=\"48.620477\"/>\r\n     <use style=\"fill:#1f77b4;stroke:#1f77b4;\" x=\"358.47867\" xlink:href=\"#mf7e3958e73\" y=\"175.961394\"/>\r\n     <use style=\"fill:#1f77b4;stroke:#1f77b4;\" x=\"246.743257\" xlink:href=\"#mf7e3958e73\" y=\"175.995083\"/>\r\n     <use style=\"fill:#1f77b4;stroke:#1f77b4;\" x=\"166.635\" xlink:href=\"#mf7e3958e73\" y=\"138.601321\"/>\r\n     <use style=\"fill:#1f77b4;stroke:#1f77b4;\" x=\"274.05289\" xlink:href=\"#mf7e3958e73\" y=\"86.384807\"/>\r\n     <use style=\"fill:#1f77b4;stroke:#1f77b4;\" x=\"298.761606\" xlink:href=\"#mf7e3958e73\" y=\"242.192147\"/>\r\n     <use style=\"fill:#1f77b4;stroke:#1f77b4;\" x=\"345.578119\" xlink:href=\"#mf7e3958e73\" y=\"165.55178\"/>\r\n     <use style=\"fill:#1f77b4;stroke:#1f77b4;\" x=\"308.124908\" xlink:href=\"#mf7e3958e73\" y=\"275.71178\"/>\r\n     <use style=\"fill:#1f77b4;stroke:#1f77b4;\" x=\"180.679954\" xlink:href=\"#mf7e3958e73\" y=\"244.381872\"/>\r\n     <use style=\"fill:#1f77b4;stroke:#1f77b4;\" x=\"401.757936\" xlink:href=\"#mf7e3958e73\" y=\"77.289028\"/>\r\n     <use style=\"fill:#1f77b4;stroke:#1f77b4;\" x=\"317.488211\" xlink:href=\"#mf7e3958e73\" y=\"50.67545\"/>\r\n     <use style=\"fill:#1f77b4;stroke:#1f77b4;\" x=\"232.178119\" xlink:href=\"#mf7e3958e73\" y=\"324.391046\"/>\r\n     <use style=\"fill:#1f77b4;stroke:#1f77b4;\" x=\"277.226009\" xlink:href=\"#mf7e3958e73\" y=\"294.745541\"/>\r\n     <use style=\"fill:#1f77b4;stroke:#1f77b4;\" x=\"110.24711\" xlink:href=\"#mf7e3958e73\" y=\"238.654899\"/>\r\n     <use style=\"fill:#1f77b4;stroke:#1f77b4;\" x=\"152.381972\" xlink:href=\"#mf7e3958e73\" y=\"108.282055\"/>\r\n     <use style=\"fill:#1f77b4;stroke:#1f77b4;\" x=\"266.302156\" xlink:href=\"#mf7e3958e73\" y=\"191.323156\"/>\r\n     <use style=\"fill:#1f77b4;stroke:#1f77b4;\" x=\"319.881055\" xlink:href=\"#mf7e3958e73\" y=\"216.589211\"/>\r\n     <use style=\"fill:#1f77b4;stroke:#1f77b4;\" x=\"333.145734\" xlink:href=\"#mf7e3958e73\" y=\"99.354716\"/>\r\n     <use style=\"fill:#1f77b4;stroke:#1f77b4;\" x=\"323.002156\" xlink:href=\"#mf7e3958e73\" y=\"146.181138\"/>\r\n     <use style=\"fill:#1f77b4;stroke:#1f77b4;\" x=\"302.715\" xlink:href=\"#mf7e3958e73\" y=\"116.535633\"/>\r\n     <use style=\"fill:#1f77b4;stroke:#1f77b4;\" x=\"353.172798\" xlink:href=\"#mf7e3958e73\" y=\"321.359119\"/>\r\n     <use style=\"fill:#1f77b4;stroke:#1f77b4;\" x=\"333.926009\" xlink:href=\"#mf7e3958e73\" y=\"48.148844\"/>\r\n     <use style=\"fill:#1f77b4;stroke:#1f77b4;\" x=\"315.61555\" xlink:href=\"#mf7e3958e73\" y=\"308.860844\"/>\r\n     <use style=\"fill:#1f77b4;stroke:#1f77b4;\" x=\"290.646743\" xlink:href=\"#mf7e3958e73\" y=\"63.94855\"/>\r\n     <use style=\"fill:#1f77b4;stroke:#1f77b4;\" x=\"283.884358\" xlink:href=\"#mf7e3958e73\" y=\"42.051303\"/>\r\n     <use style=\"fill:#1f77b4;stroke:#1f77b4;\" x=\"223.02289\" xlink:href=\"#mf7e3958e73\" y=\"76.413138\"/>\r\n     <use style=\"fill:#1f77b4;stroke:#1f77b4;\" x=\"224.58344\" xlink:href=\"#mf7e3958e73\" y=\"327.726165\"/>\r\n     <use style=\"fill:#1f77b4;stroke:#1f77b4;\" x=\"315.61555\" xlink:href=\"#mf7e3958e73\" y=\"342.717358\"/>\r\n     <use style=\"fill:#1f77b4;stroke:#1f77b4;\" x=\"249.292156\" xlink:href=\"#mf7e3958e73\" y=\"159.285798\"/>\r\n     <use style=\"fill:#1f77b4;stroke:#1f77b4;\" x=\"197.533899\" xlink:href=\"#mf7e3958e73\" y=\"260.518459\"/>\r\n     <use style=\"fill:#1f77b4;stroke:#1f77b4;\" x=\"359.831147\" xlink:href=\"#mf7e3958e73\" y=\"105.384881\"/>\r\n     <use style=\"fill:#1f77b4;stroke:#1f77b4;\" x=\"311.974266\" xlink:href=\"#mf7e3958e73\" y=\"94.267817\"/>\r\n     <use style=\"fill:#1f77b4;stroke:#1f77b4;\" x=\"283.780321\" xlink:href=\"#mf7e3958e73\" y=\"336.21556\"/>\r\n     <use style=\"fill:#1f77b4;stroke:#1f77b4;\" x=\"154.254633\" xlink:href=\"#mf7e3958e73\" y=\"276.92455\"/>\r\n     <use style=\"fill:#1f77b4;stroke:#1f77b4;\" x=\"232.022064\" xlink:href=\"#mf7e3958e73\" y=\"70.921982\"/>\r\n     <use style=\"fill:#1f77b4;stroke:#1f77b4;\" x=\"163.097752\" xlink:href=\"#mf7e3958e73\" y=\"174.849688\"/>\r\n     <use style=\"fill:#1f77b4;stroke:#1f77b4;\" x=\"283.780321\" xlink:href=\"#mf7e3958e73\" y=\"202.305468\"/>\r\n     <use style=\"fill:#1f77b4;stroke:#1f77b4;\" x=\"360.767477\" xlink:href=\"#mf7e3958e73\" y=\"191.188404\"/>\r\n     <use style=\"fill:#1f77b4;stroke:#1f77b4;\" x=\"349.32344\" xlink:href=\"#mf7e3958e73\" y=\"89.113541\"/>\r\n     <use style=\"fill:#1f77b4;stroke:#1f77b4;\" x=\"354.005092\" xlink:href=\"#mf7e3958e73\" y=\"228.413725\"/>\r\n     <use style=\"fill:#1f77b4;stroke:#1f77b4;\" x=\"295.224358\" xlink:href=\"#mf7e3958e73\" y=\"172.154642\"/>\r\n     <use style=\"fill:#1f77b4;stroke:#1f77b4;\" x=\"295.744541\" xlink:href=\"#mf7e3958e73\" y=\"39.086752\"/>\r\n     <use style=\"fill:#1f77b4;stroke:#1f77b4;\" x=\"255.664404\" xlink:href=\"#mf7e3958e73\" y=\"34.875743\"/>\r\n     <use style=\"fill:#1f77b4;stroke:#1f77b4;\" x=\"204.946514\" xlink:href=\"#mf7e3958e73\" y=\"238.688587\"/>\r\n     <use style=\"fill:#1f77b4;stroke:#1f77b4;\" x=\"246.821284\" xlink:href=\"#mf7e3958e73\" y=\"114.884917\"/>\r\n     <use style=\"fill:#1f77b4;stroke:#1f77b4;\" x=\"258.525413\" xlink:href=\"#mf7e3958e73\" y=\"244.41556\"/>\r\n     <use style=\"fill:#1f77b4;stroke:#1f77b4;\" x=\"366.203394\" xlink:href=\"#mf7e3958e73\" y=\"182.766385\"/>\r\n     <use style=\"fill:#1f77b4;stroke:#1f77b4;\" x=\"358.920826\" xlink:href=\"#mf7e3958e73\" y=\"231.277211\"/>\r\n     <use style=\"fill:#1f77b4;stroke:#1f77b4;\" x=\"197.143761\" xlink:href=\"#mf7e3958e73\" y=\"109.663266\"/>\r\n     <use style=\"fill:#1f77b4;stroke:#1f77b4;\" x=\"383.889633\" xlink:href=\"#mf7e3958e73\" y=\"37.739229\"/>\r\n     <use style=\"fill:#1f77b4;stroke:#1f77b4;\" x=\"260.085963\" xlink:href=\"#mf7e3958e73\" y=\"323.245651\"/>\r\n     <use style=\"fill:#1f77b4;stroke:#1f77b4;\" x=\"239.798807\" xlink:href=\"#mf7e3958e73\" y=\"263.617761\"/>\r\n     <use style=\"fill:#1f77b4;stroke:#1f77b4;\" x=\"259.305688\" xlink:href=\"#mf7e3958e73\" y=\"332.745688\"/>\r\n     <use style=\"fill:#1f77b4;stroke:#1f77b4;\" x=\"215.610275\" xlink:href=\"#mf7e3958e73\" y=\"295.857248\"/>\r\n     <use style=\"fill:#1f77b4;stroke:#1f77b4;\" x=\"175.556147\" xlink:href=\"#mf7e3958e73\" y=\"73.684404\"/>\r\n     <use style=\"fill:#1f77b4;stroke:#1f77b4;\" x=\"165.672661\" xlink:href=\"#mf7e3958e73\" y=\"203.383486\"/>\r\n     <use style=\"fill:#1f77b4;stroke:#1f77b4;\" x=\"414.320367\" xlink:href=\"#mf7e3958e73\" y=\"95.244771\"/>\r\n     <use style=\"fill:#1f77b4;stroke:#1f77b4;\" x=\"383.109358\" xlink:href=\"#mf7e3958e73\" y=\"115.457615\"/>\r\n     <use style=\"fill:#1f77b4;stroke:#1f77b4;\" x=\"366.98367\" xlink:href=\"#mf7e3958e73\" y=\"266.548624\"/>\r\n     <use style=\"fill:#1f77b4;stroke:#1f77b4;\" x=\"259.825872\" xlink:href=\"#mf7e3958e73\" y=\"204.731009\"/>\r\n     <use style=\"fill:#1f77b4;stroke:#1f77b4;\" x=\"270.229541\" xlink:href=\"#mf7e3958e73\" y=\"158.241468\"/>\r\n     <use style=\"fill:#1f77b4;stroke:#1f77b4;\" x=\"261.386422\" xlink:href=\"#mf7e3958e73\" y=\"35.28\"/>\r\n     <use style=\"fill:#1f77b4;stroke:#1f77b4;\" x=\"181.408211\" xlink:href=\"#mf7e3958e73\" y=\"253.662936\"/>\r\n     <use style=\"fill:#1f77b4;stroke:#1f77b4;\" x=\"187.390321\" xlink:href=\"#mf7e3958e73\" y=\"107.962018\"/>\r\n     <use style=\"fill:#1f77b4;stroke:#1f77b4;\" x=\"249.552248\" xlink:href=\"#mf7e3958e73\" y=\"242.545872\"/>\r\n     <use style=\"fill:#1f77b4;stroke:#1f77b4;\" x=\"356.710046\" xlink:href=\"#mf7e3958e73\" y=\"113.18367\"/>\r\n     <use style=\"fill:#1f77b4;stroke:#1f77b4;\" x=\"364.512798\" xlink:href=\"#mf7e3958e73\" y=\"70.399817\"/>\r\n     <use style=\"fill:#1f77b4;stroke:#1f77b4;\" x=\"346.82656\" xlink:href=\"#mf7e3958e73\" y=\"301.836881\"/>\r\n     <use style=\"fill:#1f77b4;stroke:#1f77b4;\" x=\"316.135734\" xlink:href=\"#mf7e3958e73\" y=\"187.297431\"/>\r\n     <use style=\"fill:#1f77b4;stroke:#1f77b4;\" x=\"304.691697\" xlink:href=\"#mf7e3958e73\" y=\"46.144404\"/>\r\n     <use style=\"fill:#1f77b4;stroke:#1f77b4;\" x=\"237.067844\" xlink:href=\"#mf7e3958e73\" y=\"320.870642\"/>\r\n     <use style=\"fill:#1f77b4;stroke:#1f77b4;\" x=\"227.704541\" xlink:href=\"#mf7e3958e73\" y=\"137.270642\"/>\r\n     <use style=\"fill:#1f77b4;stroke:#1f77b4;\" x=\"254.962156\" xlink:href=\"#mf7e3958e73\" y=\"22.983853\"/>\r\n     <use style=\"fill:#1f77b4;stroke:#1f77b4;\" x=\"244.038303\" xlink:href=\"#mf7e3958e73\" y=\"228.14422\"/>\r\n     <use style=\"fill:#1f77b4;stroke:#1f77b4;\" x=\"302.819037\" xlink:href=\"#mf7e3958e73\" y=\"196.477431\"/>\r\n     <use style=\"fill:#1f77b4;stroke:#1f77b4;\" x=\"279.930963\" xlink:href=\"#mf7e3958e73\" y=\"209.61578\"/>\r\n     <use style=\"fill:#1f77b4;stroke:#1f77b4;\" x=\"395.671789\" xlink:href=\"#mf7e3958e73\" y=\"69.473394\"/>\r\n     <use style=\"fill:#1f77b4;stroke:#1f77b4;\" x=\"172.773165\" xlink:href=\"#mf7e3958e73\" y=\"109.899083\"/>\r\n     <use style=\"fill:#1f77b4;stroke:#1f77b4;\" x=\"253.401606\" xlink:href=\"#mf7e3958e73\" y=\"118.994862\"/>\r\n     <use style=\"fill:#1f77b4;stroke:#1f77b4;\" x=\"303.33922\" xlink:href=\"#mf7e3958e73\" y=\"286.424587\"/>\r\n     <use style=\"fill:#1f77b4;stroke:#1f77b4;\" x=\"252.361239\" xlink:href=\"#mf7e3958e73\" y=\"322.133945\"/>\r\n     <use style=\"fill:#1f77b4;stroke:#1f77b4;\" x=\"312.702523\" xlink:href=\"#mf7e3958e73\" y=\"217.027156\"/>\r\n     <use style=\"fill:#1f77b4;stroke:#1f77b4;\" x=\"171.446697\" xlink:href=\"#mf7e3958e73\" y=\"212.479266\"/>\r\n     <use style=\"fill:#1f77b4;stroke:#1f77b4;\" x=\"207.859541\" xlink:href=\"#mf7e3958e73\" y=\"121.858349\"/>\r\n     <use style=\"fill:#1f77b4;stroke:#1f77b4;\" x=\"319.178807\" xlink:href=\"#mf7e3958e73\" y=\"137.691743\"/>\r\n     <use style=\"fill:#1f77b4;stroke:#1f77b4;\" x=\"233.868716\" xlink:href=\"#mf7e3958e73\" y=\"202.035963\"/>\r\n     <use style=\"fill:#1f77b4;stroke:#1f77b4;\" x=\"373.27789\" xlink:href=\"#mf7e3958e73\" y=\"217.532477\"/>\r\n     <use style=\"fill:#1f77b4;stroke:#1f77b4;\" x=\"345.708165\" xlink:href=\"#mf7e3958e73\" y=\"43.365138\"/>\r\n     <use style=\"fill:#1f77b4;stroke:#1f77b4;\" x=\"387.322844\" xlink:href=\"#mf7e3958e73\" y=\"280.023853\"/>\r\n     <use style=\"fill:#1f77b4;stroke:#1f77b4;\" x=\"224.505413\" xlink:href=\"#mf7e3958e73\" y=\"220.227523\"/>\r\n     <use style=\"fill:#1f77b4;stroke:#1f77b4;\" x=\"277.564128\" xlink:href=\"#mf7e3958e73\" y=\"39.99633\"/>\r\n     <use style=\"fill:#1f77b4;stroke:#1f77b4;\" x=\"231.267798\" xlink:href=\"#mf7e3958e73\" y=\"305.96367\"/>\r\n     <use style=\"fill:#1f77b4;stroke:#1f77b4;\" x=\"183.358899\" xlink:href=\"#mf7e3958e73\" y=\"227.655743\"/>\r\n     <use style=\"fill:#1f77b4;stroke:#1f77b4;\" x=\"260.606147\" xlink:href=\"#mf7e3958e73\" y=\"235.909321\"/>\r\n     <use style=\"fill:#1f77b4;stroke:#1f77b4;\" x=\"249.942385\" xlink:href=\"#mf7e3958e73\" y=\"124.570239\"/>\r\n     <use style=\"fill:#1f77b4;stroke:#1f77b4;\" x=\"356.58\" xlink:href=\"#mf7e3958e73\" y=\"274.482165\"/>\r\n     <use style=\"fill:#1f77b4;stroke:#1f77b4;\" x=\"378.427706\" xlink:href=\"#mf7e3958e73\" y=\"173.081064\"/>\r\n     <use style=\"fill:#1f77b4;stroke:#1f77b4;\" x=\"179.197431\" xlink:href=\"#mf7e3958e73\" y=\"95.935376\"/>\r\n     <use style=\"fill:#1f77b4;stroke:#1f77b4;\" x=\"339.413945\" xlink:href=\"#mf7e3958e73\" y=\"72.690606\"/>\r\n     <use style=\"fill:#1f77b4;stroke:#1f77b4;\" x=\"246.301101\" xlink:href=\"#mf7e3958e73\" y=\"36.644367\"/>\r\n     <use style=\"fill:#1f77b4;stroke:#1f77b4;\" x=\"250.722661\" xlink:href=\"#mf7e3958e73\" y=\"299.411339\"/>\r\n     <use style=\"fill:#1f77b4;stroke:#1f77b4;\" x=\"327.449725\" xlink:href=\"#mf7e3958e73\" y=\"240.794092\"/>\r\n     <use style=\"fill:#1f77b4;stroke:#1f77b4;\" x=\"270.333578\" xlink:href=\"#mf7e3958e73\" y=\"336.720881\"/>\r\n     <use style=\"fill:#1f77b4;stroke:#1f77b4;\" x=\"255.508349\" xlink:href=\"#mf7e3958e73\" y=\"53.741064\"/>\r\n     <use style=\"fill:#1f77b4;stroke:#1f77b4;\" x=\"200.368899\" xlink:href=\"#mf7e3958e73\" y=\"131.560514\"/>\r\n     <use style=\"fill:#1f77b4;stroke:#1f77b4;\" x=\"236.26156\" xlink:href=\"#mf7e3958e73\" y=\"184.78767\"/>\r\n     <use style=\"fill:#1f77b4;stroke:#1f77b4;\" x=\"251.346881\" xlink:href=\"#mf7e3958e73\" y=\"212.41189\"/>\r\n     <use style=\"fill:#1f77b4;stroke:#1f77b4;\" x=\"376.190917\" xlink:href=\"#mf7e3958e73\" y=\"138.635009\"/>\r\n     <use style=\"fill:#1f77b4;stroke:#1f77b4;\" x=\"346.540459\" xlink:href=\"#mf7e3958e73\" y=\"135.939963\"/>\r\n     <use style=\"fill:#1f77b4;stroke:#1f77b4;\" x=\"335.096422\" xlink:href=\"#mf7e3958e73\" y=\"78.333358\"/>\r\n     <use style=\"fill:#1f77b4;stroke:#1f77b4;\" x=\"338.477615\" xlink:href=\"#mf7e3958e73\" y=\"265.470606\"/>\r\n     <use style=\"fill:#1f77b4;stroke:#1f77b4;\" x=\"161.875321\" xlink:href=\"#mf7e3958e73\" y=\"243.573358\"/>\r\n     <use style=\"fill:#1f77b4;stroke:#1f77b4;\" x=\"234.961101\" xlink:href=\"#mf7e3958e73\" y=\"362.525945\"/>\r\n     <use style=\"fill:#1f77b4;stroke:#1f77b4;\" x=\"200.108807\" xlink:href=\"#mf7e3958e73\" y=\"248.323376\"/>\r\n     <use style=\"fill:#1f77b4;stroke:#1f77b4;\" x=\"318.710642\" xlink:href=\"#mf7e3958e73\" y=\"335.575486\"/>\r\n     <use style=\"fill:#1f77b4;stroke:#1f77b4;\" x=\"349.401468\" xlink:href=\"#mf7e3958e73\" y=\"105.485945\"/>\r\n     <use style=\"fill:#1f77b4;stroke:#1f77b4;\" x=\"319.230826\" xlink:href=\"#mf7e3958e73\" y=\"107.507229\"/>\r\n     <use style=\"fill:#1f77b4;stroke:#1f77b4;\" x=\"265.131743\" xlink:href=\"#mf7e3958e73\" y=\"144.900991\"/>\r\n     <use style=\"fill:#1f77b4;stroke:#1f77b4;\" x=\"352.522569\" xlink:href=\"#mf7e3958e73\" y=\"147.596037\"/>\r\n     <use style=\"fill:#1f77b4;stroke:#1f77b4;\" x=\"181.382202\" xlink:href=\"#mf7e3958e73\" y=\"136.142092\"/>\r\n     <use style=\"fill:#1f77b4;stroke:#1f77b4;\" x=\"279.176697\" xlink:href=\"#mf7e3958e73\" y=\"73.145394\"/>\r\n     <use style=\"fill:#1f77b4;stroke:#1f77b4;\" x=\"271.373945\" xlink:href=\"#mf7e3958e73\" y=\"119.971817\"/>\r\n     <use style=\"fill:#1f77b4;stroke:#1f77b4;\" x=\"311.272018\" xlink:href=\"#mf7e3958e73\" y=\"332.981505\"/>\r\n     <use style=\"fill:#1f77b4;stroke:#1f77b4;\" x=\"264.715596\" xlink:href=\"#mf7e3958e73\" y=\"220.63178\"/>\r\n     <use style=\"fill:#1f77b4;stroke:#1f77b4;\" x=\"203.854128\" xlink:href=\"#mf7e3958e73\" y=\"277.901505\"/>\r\n     <use style=\"fill:#1f77b4;stroke:#1f77b4;\" x=\"168.481651\" xlink:href=\"#mf7e3958e73\" y=\"147.528661\"/>\r\n     <use style=\"fill:#1f77b4;stroke:#1f77b4;\" x=\"265.23578\" xlink:href=\"#mf7e3958e73\" y=\"134.390312\"/>\r\n     <use style=\"fill:#1f77b4;stroke:#1f77b4;\" x=\"327.657798\" xlink:href=\"#mf7e3958e73\" y=\"181.553615\"/>\r\n     <use style=\"fill:#1f77b4;stroke:#1f77b4;\" x=\"336.240826\" xlink:href=\"#mf7e3958e73\" y=\"199.408294\"/>\r\n     <use style=\"fill:#1f77b4;stroke:#1f77b4;\" x=\"340.402294\" xlink:href=\"#mf7e3958e73\" y=\"186.606826\"/>\r\n     <use style=\"fill:#1f77b4;stroke:#1f77b4;\" x=\"330.778899\" xlink:href=\"#mf7e3958e73\" y=\"27.262239\"/>\r\n     <use style=\"fill:#1f77b4;stroke:#1f77b4;\" x=\"223.361009\" xlink:href=\"#mf7e3958e73\" y=\"72.909578\"/>\r\n     <use style=\"fill:#1f77b4;stroke:#1f77b4;\" x=\"269.94344\" xlink:href=\"#mf7e3958e73\" y=\"315.851119\"/>\r\n     <use style=\"fill:#1f77b4;stroke:#1f77b4;\" x=\"165.38656\" xlink:href=\"#mf7e3958e73\" y=\"236.515706\"/>\r\n     <use style=\"fill:#1f77b4;stroke:#1f77b4;\" x=\"314.159037\" xlink:href=\"#mf7e3958e73\" y=\"174.02433\"/>\r\n     <use style=\"fill:#1f77b4;stroke:#1f77b4;\" x=\"349.531514\" xlink:href=\"#mf7e3958e73\" y=\"333.874239\"/>\r\n     <use style=\"fill:#1f77b4;stroke:#1f77b4;\" x=\"378.661789\" xlink:href=\"#mf7e3958e73\" y=\"88.456624\"/>\r\n     <use style=\"fill:#1f77b4;stroke:#1f77b4;\" x=\"166.94711\" xlink:href=\"#mf7e3958e73\" y=\"118.270569\"/>\r\n     <use style=\"fill:#1f77b4;stroke:#1f77b4;\" x=\"253.817752\" xlink:href=\"#mf7e3958e73\" y=\"129.892954\"/>\r\n     <use style=\"fill:#1f77b4;stroke:#1f77b4;\" x=\"283.728303\" xlink:href=\"#mf7e3958e73\" y=\"237.021028\"/>\r\n     <use style=\"fill:#1f77b4;stroke:#1f77b4;\" x=\"334.446193\" xlink:href=\"#mf7e3958e73\" y=\"85.087817\"/>\r\n     <use style=\"fill:#1f77b4;stroke:#1f77b4;\" x=\"255.378303\" xlink:href=\"#mf7e3958e73\" y=\"62.179927\"/>\r\n     <use style=\"fill:#1f77b4;stroke:#1f77b4;\" x=\"202.969817\" xlink:href=\"#mf7e3958e73\" y=\"122.919523\"/>\r\n     <use style=\"fill:#1f77b4;stroke:#1f77b4;\" x=\"253.167523\" xlink:href=\"#mf7e3958e73\" y=\"176.82044\"/>\r\n     <use style=\"fill:#1f77b4;stroke:#1f77b4;\" x=\"350.181743\" xlink:href=\"#mf7e3958e73\" y=\"32.635486\"/>\r\n     <use style=\"fill:#1f77b4;stroke:#1f77b4;\" x=\"387.374862\" xlink:href=\"#mf7e3958e73\" y=\"229.373835\"/>\r\n     <use style=\"fill:#1f77b4;stroke:#1f77b4;\" x=\"260.710183\" xlink:href=\"#mf7e3958e73\" y=\"33.309248\"/>\r\n     <use style=\"fill:#1f77b4;stroke:#1f77b4;\" x=\"181.12211\" xlink:href=\"#mf7e3958e73\" y=\"224.489064\"/>\r\n     <use style=\"fill:#1f77b4;stroke:#1f77b4;\" x=\"258.109266\" xlink:href=\"#mf7e3958e73\" y=\"253.292367\"/>\r\n     <use style=\"fill:#1f77b4;stroke:#1f77b4;\" x=\"304.92578\" xlink:href=\"#mf7e3958e73\" y=\"273.842092\"/>\r\n     <use style=\"fill:#1f77b4;stroke:#1f77b4;\" x=\"315.32945\" xlink:href=\"#mf7e3958e73\" y=\"114.834385\"/>\r\n     <use style=\"fill:#1f77b4;stroke:#1f77b4;\" x=\"258.109266\" xlink:href=\"#mf7e3958e73\" y=\"319.657872\"/>\r\n     <use style=\"fill:#1f77b4;stroke:#1f77b4;\" x=\"246.171055\" xlink:href=\"#mf7e3958e73\" y=\"332.79622\"/>\r\n     <use style=\"fill:#1f77b4;stroke:#1f77b4;\" x=\"180.627936\" xlink:href=\"#mf7e3958e73\" y=\"105.064844\"/>\r\n     <use style=\"fill:#1f77b4;stroke:#1f77b4;\" x=\"229.005\" xlink:href=\"#mf7e3958e73\" y=\"260.366862\"/>\r\n     <use style=\"fill:#1f77b4;stroke:#1f77b4;\" x=\"408.468303\" xlink:href=\"#mf7e3958e73\" y=\"284.285394\"/>\r\n     <use style=\"fill:#1f77b4;stroke:#1f77b4;\" x=\"307.812798\" xlink:href=\"#mf7e3958e73\" y=\"329.595853\"/>\r\n     <use style=\"fill:#1f77b4;stroke:#1f77b4;\" x=\"336.682982\" xlink:href=\"#mf7e3958e73\" y=\"50.827046\"/>\r\n     <use style=\"fill:#1f77b4;stroke:#1f77b4;\" x=\"324.718761\" xlink:href=\"#mf7e3958e73\" y=\"53.522092\"/>\r\n     <use style=\"fill:#1f77b4;stroke:#1f77b4;\" x=\"243.570138\" xlink:href=\"#mf7e3958e73\" y=\"112.47622\"/>\r\n     <use style=\"fill:#1f77b4;stroke:#1f77b4;\" x=\"246.691239\" xlink:href=\"#mf7e3958e73\" y=\"209.834752\"/>\r\n     <use style=\"fill:#1f77b4;stroke:#1f77b4;\" x=\"248.251789\" xlink:href=\"#mf7e3958e73\" y=\"42.405028\"/>\r\n     <use style=\"fill:#1f77b4;stroke:#1f77b4;\" x=\"291.010872\" xlink:href=\"#mf7e3958e73\" y=\"305.458349\"/>\r\n     <use style=\"fill:#1f77b4;stroke:#1f77b4;\" x=\"331.845275\" xlink:href=\"#mf7e3958e73\" y=\"22.983853\"/>\r\n     <use style=\"fill:#1f77b4;stroke:#1f77b4;\" x=\"160.444817\" xlink:href=\"#mf7e3958e73\" y=\"220.732844\"/>\r\n     <use style=\"fill:#1f77b4;stroke:#1f77b4;\" x=\"257.459037\" xlink:href=\"#mf7e3958e73\" y=\"169.190092\"/>\r\n     <use style=\"fill:#1f77b4;stroke:#1f77b4;\" x=\"262.140688\" xlink:href=\"#mf7e3958e73\" y=\"207.931376\"/>\r\n     <use style=\"fill:#1f77b4;stroke:#1f77b4;\" x=\"378.141606\" xlink:href=\"#mf7e3958e73\" y=\"250.546789\"/>\r\n     <use style=\"fill:#1f77b4;stroke:#1f77b4;\" x=\"256.158578\" xlink:href=\"#mf7e3958e73\" y=\"101.982385\"/>\r\n     <use style=\"fill:#1f77b4;stroke:#1f77b4;\" x=\"316.239771\" xlink:href=\"#mf7e3958e73\" y=\"101.308624\"/>\r\n     <use style=\"fill:#1f77b4;stroke:#1f77b4;\" x=\"326.123257\" xlink:href=\"#mf7e3958e73\" y=\"305.626789\"/>\r\n     <use style=\"fill:#1f77b4;stroke:#1f77b4;\" x=\"192.436101\" xlink:href=\"#mf7e3958e73\" y=\"95.413211\"/>\r\n     <use style=\"fill:#1f77b4;stroke:#1f77b4;\" x=\"214.543899\" xlink:href=\"#mf7e3958e73\" y=\"122.094165\"/>\r\n     <use style=\"fill:#1f77b4;stroke:#1f77b4;\" x=\"320.66133\" xlink:href=\"#mf7e3958e73\" y=\"25.409394\"/>\r\n     <use style=\"fill:#1f77b4;stroke:#1f77b4;\" x=\"365.39711\" xlink:href=\"#mf7e3958e73\" y=\"187.280587\"/>\r\n     <use style=\"fill:#1f77b4;stroke:#1f77b4;\" x=\"320.141147\" xlink:href=\"#mf7e3958e73\" y=\"135.737835\"/>\r\n     <use style=\"fill:#1f77b4;stroke:#1f77b4;\" x=\"302.715\" xlink:href=\"#mf7e3958e73\" y=\"44.780037\"/>\r\n     <use style=\"fill:#1f77b4;stroke:#1f77b4;\" x=\"210.902615\" xlink:href=\"#mf7e3958e73\" y=\"207.324991\"/>\r\n     <use style=\"fill:#1f77b4;stroke:#1f77b4;\" x=\"268.642982\" xlink:href=\"#mf7e3958e73\" y=\"253.477651\"/>\r\n     <use style=\"fill:#1f77b4;stroke:#1f77b4;\" x=\"264.741606\" xlink:href=\"#mf7e3958e73\" y=\"316.137468\"/>\r\n     <use style=\"fill:#1f77b4;stroke:#1f77b4;\" x=\"260.840229\" xlink:href=\"#mf7e3958e73\" y=\"290.534532\"/>\r\n     <use style=\"fill:#1f77b4;stroke:#1f77b4;\" x=\"243.414083\" xlink:href=\"#mf7e3958e73\" y=\"198.397651\"/>\r\n     <use style=\"fill:#1f77b4;stroke:#1f77b4;\" x=\"302.324862\" xlink:href=\"#mf7e3958e73\" y=\"330.00011\"/>\r\n     <use style=\"fill:#1f77b4;stroke:#1f77b4;\" x=\"164.73633\" xlink:href=\"#mf7e3958e73\" y=\"285.868734\"/>\r\n     <use style=\"fill:#1f77b4;stroke:#1f77b4;\" x=\"202.189541\" xlink:href=\"#mf7e3958e73\" y=\"92.330752\"/>\r\n     <use style=\"fill:#1f77b4;stroke:#1f77b4;\" x=\"153.812477\" xlink:href=\"#mf7e3958e73\" y=\"179.751303\"/>\r\n     <use style=\"fill:#1f77b4;stroke:#1f77b4;\" x=\"381.912936\" xlink:href=\"#mf7e3958e73\" y=\"184.467633\"/>\r\n     <use style=\"fill:#1f77b4;stroke:#1f77b4;\" x=\"321.051468\" xlink:href=\"#mf7e3958e73\" y=\"231.967817\"/>\r\n     <use style=\"fill:#1f77b4;stroke:#1f77b4;\" x=\"301.544587\" xlink:href=\"#mf7e3958e73\" y=\"93.846716\"/>\r\n     <use style=\"fill:#1f77b4;stroke:#1f77b4;\" x=\"338.997798\" xlink:href=\"#mf7e3958e73\" y=\"202.659193\"/>\r\n     <use style=\"fill:#1f77b4;stroke:#1f77b4;\" x=\"290.880826\" xlink:href=\"#mf7e3958e73\" y=\"150.274239\"/>\r\n     <use style=\"fill:#1f77b4;stroke:#1f77b4;\" x=\"314.549174\" xlink:href=\"#mf7e3958e73\" y=\"30.007817\"/>\r\n     <use style=\"fill:#1f77b4;stroke:#1f77b4;\" x=\"204.166239\" xlink:href=\"#mf7e3958e73\" y=\"123.256404\"/>\r\n     <use style=\"fill:#1f77b4;stroke:#1f77b4;\" x=\"202.085505\" xlink:href=\"#mf7e3958e73\" y=\"197.370165\"/>\r\n     <use style=\"fill:#1f77b4;stroke:#1f77b4;\" x=\"335.772661\" xlink:href=\"#mf7e3958e73\" y=\"51.163927\"/>\r\n     <use style=\"fill:#1f77b4;stroke:#1f77b4;\" x=\"400.275413\" xlink:href=\"#mf7e3958e73\" y=\"241.501541\"/>\r\n     <use style=\"fill:#1f77b4;stroke:#1f77b4;\" x=\"323.548349\" xlink:href=\"#mf7e3958e73\" y=\"20.339339\"/>\r\n     <use style=\"fill:#1f77b4;stroke:#1f77b4;\" x=\"196.88367\" xlink:href=\"#mf7e3958e73\" y=\"203.434018\"/>\r\n     <use style=\"fill:#1f77b4;stroke:#1f77b4;\" x=\"246.301101\" xlink:href=\"#mf7e3958e73\" y=\"262.051266\"/>\r\n     <use style=\"fill:#1f77b4;stroke:#1f77b4;\" x=\"330.570826\" xlink:href=\"#mf7e3958e73\" y=\"309.88833\"/>\r\n     <use style=\"fill:#1f77b4;stroke:#1f77b4;\" x=\"305.602018\" xlink:href=\"#mf7e3958e73\" y=\"80.47255\"/>\r\n     <use style=\"fill:#1f77b4;stroke:#1f77b4;\" x=\"226.79422\" xlink:href=\"#mf7e3958e73\" y=\"291.696771\"/>\r\n     <use style=\"fill:#1f77b4;stroke:#1f77b4;\" x=\"185.491651\" xlink:href=\"#mf7e3958e73\" y=\"156.54022\"/>\r\n     <use style=\"fill:#1f77b4;stroke:#1f77b4;\" x=\"252.595321\" xlink:href=\"#mf7e3958e73\" y=\"87.64811\"/>\r\n     <use style=\"fill:#1f77b4;stroke:#1f77b4;\" x=\"307.214587\" xlink:href=\"#mf7e3958e73\" y=\"73.836\"/>\r\n     <use style=\"fill:#1f77b4;stroke:#1f77b4;\" x=\"298.371468\" xlink:href=\"#mf7e3958e73\" y=\"226.948294\"/>\r\n     <use style=\"fill:#1f77b4;stroke:#1f77b4;\" x=\"362.354037\" xlink:href=\"#mf7e3958e73\" y=\"48.064624\"/>\r\n     <use style=\"fill:#1f77b4;stroke:#1f77b4;\" x=\"338.94578\" xlink:href=\"#mf7e3958e73\" y=\"284.89178\"/>\r\n     <use style=\"fill:#1f77b4;stroke:#1f77b4;\" x=\"279.124679\" xlink:href=\"#mf7e3958e73\" y=\"230.990862\"/>\r\n     <use style=\"fill:#1f77b4;stroke:#1f77b4;\" x=\"310.335688\" xlink:href=\"#mf7e3958e73\" y=\"60.529211\"/>\r\n     <use style=\"fill:#1f77b4;stroke:#1f77b4;\" x=\"178.729266\" xlink:href=\"#mf7e3958e73\" y=\"272.090312\"/>\r\n     <use style=\"fill:#1f77b4;stroke:#1f77b4;\" x=\"258.837523\" xlink:href=\"#mf7e3958e73\" y=\"339.634899\"/>\r\n     <use style=\"fill:#1f77b4;stroke:#1f77b4;\" x=\"199.796697\" xlink:href=\"#mf7e3958e73\" y=\"243.337541\"/>\r\n     <use style=\"fill:#1f77b4;stroke:#1f77b4;\" x=\"256.236606\" xlink:href=\"#mf7e3958e73\" y=\"313.745615\"/>\r\n     <use style=\"fill:#1f77b4;stroke:#1f77b4;\" x=\"373.798073\" xlink:href=\"#mf7e3958e73\" y=\"310.376807\"/>\r\n     <use style=\"fill:#1f77b4;stroke:#1f77b4;\" x=\"281.985688\" xlink:href=\"#mf7e3958e73\" y=\"125.092404\"/>\r\n     <use style=\"fill:#1f77b4;stroke:#1f77b4;\" x=\"167.805413\" xlink:href=\"#mf7e3958e73\" y=\"109.42745\"/>\r\n     <use style=\"fill:#1f77b4;stroke:#1f77b4;\" x=\"282.765963\" xlink:href=\"#mf7e3958e73\" y=\"111.111853\"/>\r\n     <use style=\"fill:#1f77b4;stroke:#1f77b4;\" x=\"257.797156\" xlink:href=\"#mf7e3958e73\" y=\"228.514789\"/>\r\n     <use style=\"fill:#1f77b4;stroke:#1f77b4;\" x=\"271.84211\" xlink:href=\"#mf7e3958e73\" y=\"21.333138\"/>\r\n     <use style=\"fill:#1f77b4;stroke:#1f77b4;\" x=\"320.219174\" xlink:href=\"#mf7e3958e73\" y=\"245.527266\"/>\r\n     <use style=\"fill:#1f77b4;stroke:#1f77b4;\" x=\"359.753119\" xlink:href=\"#mf7e3958e73\" y=\"72.70745\"/>\r\n     <use style=\"fill:#1f77b4;stroke:#1f77b4;\" x=\"302.168807\" xlink:href=\"#mf7e3958e73\" y=\"335.710239\"/>\r\n     <use style=\"fill:#1f77b4;stroke:#1f77b4;\" x=\"224.141284\" xlink:href=\"#mf7e3958e73\" y=\"63.847486\"/>\r\n     <use style=\"fill:#1f77b4;stroke:#1f77b4;\" x=\"175.76422\" xlink:href=\"#mf7e3958e73\" y=\"137.624367\"/>\r\n     <use style=\"fill:#1f77b4;stroke:#1f77b4;\" x=\"364.590826\" xlink:href=\"#mf7e3958e73\" y=\"183.777028\"/>\r\n     <use style=\"fill:#1f77b4;stroke:#1f77b4;\" x=\"337.541284\" xlink:href=\"#mf7e3958e73\" y=\"284.504367\"/>\r\n     <use style=\"fill:#1f77b4;stroke:#1f77b4;\" x=\"380.19633\" xlink:href=\"#mf7e3958e73\" y=\"69.574459\"/>\r\n     <use style=\"fill:#1f77b4;stroke:#1f77b4;\" x=\"295.406422\" xlink:href=\"#mf7e3958e73\" y=\"45.655927\"/>\r\n     <use style=\"fill:#1f77b4;stroke:#1f77b4;\" x=\"171.602752\" xlink:href=\"#mf7e3958e73\" y=\"250.479413\"/>\r\n     <use style=\"fill:#1f77b4;stroke:#1f77b4;\" x=\"251.190826\" xlink:href=\"#mf7e3958e73\" y=\"258.56455\"/>\r\n     <use style=\"fill:#1f77b4;stroke:#1f77b4;\" x=\"269.397248\" xlink:href=\"#mf7e3958e73\" y=\"151.436477\"/>\r\n     <use style=\"fill:#1f77b4;stroke:#1f77b4;\" x=\"350.337798\" xlink:href=\"#mf7e3958e73\" y=\"326.833431\"/>\r\n     <use style=\"fill:#1f77b4;stroke:#1f77b4;\" x=\"175.296055\" xlink:href=\"#mf7e3958e73\" y=\"193.428661\"/>\r\n     <use style=\"fill:#1f77b4;stroke:#1f77b4;\" x=\"225.753853\" xlink:href=\"#mf7e3958e73\" y=\"303.42022\"/>\r\n     <use style=\"fill:#1f77b4;stroke:#1f77b4;\" x=\"336.552936\" xlink:href=\"#mf7e3958e73\" y=\"149.128844\"/>\r\n     <use style=\"fill:#1f77b4;stroke:#1f77b4;\" x=\"256.184587\" xlink:href=\"#mf7e3958e73\" y=\"158.393064\"/>\r\n     <use style=\"fill:#1f77b4;stroke:#1f77b4;\" x=\"166.452936\" xlink:href=\"#mf7e3958e73\" y=\"93.880404\"/>\r\n     <use style=\"fill:#1f77b4;stroke:#1f77b4;\" x=\"334.732294\" xlink:href=\"#mf7e3958e73\" y=\"262.657651\"/>\r\n     <use style=\"fill:#1f77b4;stroke:#1f77b4;\" x=\"359.180917\" xlink:href=\"#mf7e3958e73\" y=\"61.876734\"/>\r\n     <use style=\"fill:#1f77b4;stroke:#1f77b4;\" x=\"317.82633\" xlink:href=\"#mf7e3958e73\" y=\"18.756\"/>\r\n     <use style=\"fill:#1f77b4;stroke:#1f77b4;\" x=\"249.682294\" xlink:href=\"#mf7e3958e73\" y=\"212.799303\"/>\r\n     <use style=\"fill:#1f77b4;stroke:#1f77b4;\" x=\"244.220367\" xlink:href=\"#mf7e3958e73\" y=\"343.424807\"/>\r\n     <use style=\"fill:#1f77b4;stroke:#1f77b4;\" x=\"130.300183\" xlink:href=\"#mf7e3958e73\" y=\"297.103706\"/>\r\n     <use style=\"fill:#1f77b4;stroke:#1f77b4;\" x=\"131.860734\" xlink:href=\"#mf7e3958e73\" y=\"127.147376\"/>\r\n     <use style=\"fill:#1f77b4;stroke:#1f77b4;\" x=\"285.835046\" xlink:href=\"#mf7e3958e73\" y=\"180.206092\"/>\r\n     <use style=\"fill:#1f77b4;stroke:#1f77b4;\" x=\"372.185505\" xlink:href=\"#mf7e3958e73\" y=\"209.683156\"/>\r\n     <use style=\"fill:#1f77b4;stroke:#1f77b4;\" x=\"374.266239\" xlink:href=\"#mf7e3958e73\" y=\"110.977101\"/>\r\n     <use style=\"fill:#1f77b4;stroke:#1f77b4;\" x=\"373.225872\" xlink:href=\"#mf7e3958e73\" y=\"105.75545\"/>\r\n     <use style=\"fill:#1f77b4;stroke:#1f77b4;\" x=\"247.081376\" xlink:href=\"#mf7e3958e73\" y=\"145.002055\"/>\r\n     <use style=\"fill:#1f77b4;stroke:#1f77b4;\" x=\"402.096055\" xlink:href=\"#mf7e3958e73\" y=\"203.450862\"/>\r\n     <use style=\"fill:#1f77b4;stroke:#1f77b4;\" x=\"210.928624\" xlink:href=\"#mf7e3958e73\" y=\"58.423706\"/>\r\n     <use style=\"fill:#1f77b4;stroke:#1f77b4;\" x=\"382.303073\" xlink:href=\"#mf7e3958e73\" y=\"178.639596\"/>\r\n     <use style=\"fill:#1f77b4;stroke:#1f77b4;\" x=\"285.028761\" xlink:href=\"#mf7e3958e73\" y=\"96.777578\"/>\r\n     <use style=\"fill:#1f77b4;stroke:#1f77b4;\" x=\"196.597569\" xlink:href=\"#mf7e3958e73\" y=\"112.947853\"/>\r\n     <use style=\"fill:#1f77b4;stroke:#1f77b4;\" x=\"307.916835\" xlink:href=\"#mf7e3958e73\" y=\"269.260514\"/>\r\n     <use style=\"fill:#1f77b4;stroke:#1f77b4;\" x=\"156.023257\" xlink:href=\"#mf7e3958e73\" y=\"225.129138\"/>\r\n     <use style=\"fill:#1f77b4;stroke:#1f77b4;\" x=\"248.615917\" xlink:href=\"#mf7e3958e73\" y=\"179.481798\"/>\r\n     <use style=\"fill:#1f77b4;stroke:#1f77b4;\" x=\"317.800321\" xlink:href=\"#mf7e3958e73\" y=\"109.747486\"/>\r\n     <use style=\"fill:#1f77b4;stroke:#1f77b4;\" x=\"265.261789\" xlink:href=\"#mf7e3958e73\" y=\"261.343817\"/>\r\n     <use style=\"fill:#1f77b4;stroke:#1f77b4;\" x=\"314.67922\" xlink:href=\"#mf7e3958e73\" y=\"29.738312\"/>\r\n     <use style=\"fill:#1f77b4;stroke:#1f77b4;\" x=\"297.773257\" xlink:href=\"#mf7e3958e73\" y=\"318.10822\"/>\r\n     <use style=\"fill:#1f77b4;stroke:#1f77b4;\" x=\"239.642752\" xlink:href=\"#mf7e3958e73\" y=\"156.220183\"/>\r\n     <use style=\"fill:#1f77b4;stroke:#1f77b4;\" x=\"186.323945\" xlink:href=\"#mf7e3958e73\" y=\"129.101284\"/>\r\n     <use style=\"fill:#1f77b4;stroke:#1f77b4;\" x=\"188.924862\" xlink:href=\"#mf7e3958e73\" y=\"244.314495\"/>\r\n     <use style=\"fill:#1f77b4;stroke:#1f77b4;\" x=\"278.916606\" xlink:href=\"#mf7e3958e73\" y=\"310.84844\"/>\r\n     <use style=\"fill:#1f77b4;stroke:#1f77b4;\" x=\"398.558807\" xlink:href=\"#mf7e3958e73\" y=\"91.707523\"/>\r\n     <use style=\"fill:#1f77b4;stroke:#1f77b4;\" x=\"375.930826\" xlink:href=\"#mf7e3958e73\" y=\"73.852844\"/>\r\n     <use style=\"fill:#1f77b4;stroke:#1f77b4;\" x=\"220.135872\" xlink:href=\"#mf7e3958e73\" y=\"334.261651\"/>\r\n     <use style=\"fill:#1f77b4;stroke:#1f77b4;\" x=\"296.602844\" xlink:href=\"#mf7e3958e73\" y=\"232.186789\"/>\r\n     <use style=\"fill:#1f77b4;stroke:#1f77b4;\" x=\"270.59367\" xlink:href=\"#mf7e3958e73\" y=\"38.817248\"/>\r\n     <use style=\"fill:#1f77b4;stroke:#1f77b4;\" x=\"316.369817\" xlink:href=\"#mf7e3958e73\" y=\"169.863853\"/>\r\n     <use style=\"fill:#1f77b4;stroke:#1f77b4;\" x=\"219.797752\" xlink:href=\"#mf7e3958e73\" y=\"308.05233\"/>\r\n     <use style=\"fill:#1f77b4;stroke:#1f77b4;\" x=\"190.147294\" xlink:href=\"#mf7e3958e73\" y=\"236.970495\"/>\r\n     <use style=\"fill:#1f77b4;stroke:#1f77b4;\" x=\"221.358303\" xlink:href=\"#mf7e3958e73\" y=\"105.587009\"/>\r\n     <use style=\"fill:#1f77b4;stroke:#1f77b4;\" x=\"372.211514\" xlink:href=\"#mf7e3958e73\" y=\"178.353248\"/>\r\n     <use style=\"fill:#1f77b4;stroke:#1f77b4;\" x=\"260.892248\" xlink:href=\"#mf7e3958e73\" y=\"45.622239\"/>\r\n     <use style=\"fill:#1f77b4;stroke:#1f77b4;\" x=\"307.968853\" xlink:href=\"#mf7e3958e73\" y=\"282.280954\"/>\r\n     <use style=\"fill:#1f77b4;stroke:#1f77b4;\" x=\"280.139037\" xlink:href=\"#mf7e3958e73\" y=\"218.442055\"/>\r\n     <use style=\"fill:#1f77b4;stroke:#1f77b4;\" x=\"334.758303\" xlink:href=\"#mf7e3958e73\" y=\"33.326092\"/>\r\n     <use style=\"fill:#1f77b4;stroke:#1f77b4;\" x=\"266.614266\" xlink:href=\"#mf7e3958e73\" y=\"161.509211\"/>\r\n     <use style=\"fill:#1f77b4;stroke:#1f77b4;\" x=\"318.112431\" xlink:href=\"#mf7e3958e73\" y=\"211.030679\"/>\r\n     <use style=\"fill:#1f77b4;stroke:#1f77b4;\" x=\"283.520229\" xlink:href=\"#mf7e3958e73\" y=\"294.206532\"/>\r\n     <use style=\"fill:#1f77b4;stroke:#1f77b4;\" x=\"169.860138\" xlink:href=\"#mf7e3958e73\" y=\"251.928\"/>\r\n     <use style=\"fill:#1f77b4;stroke:#1f77b4;\" x=\"157.635826\" xlink:href=\"#mf7e3958e73\" y=\"119.533872\"/>\r\n     <use style=\"fill:#1f77b4;stroke:#1f77b4;\" x=\"328.516101\" xlink:href=\"#mf7e3958e73\" y=\"149.179376\"/>\r\n     <use style=\"fill:#1f77b4;stroke:#1f77b4;\" x=\"350.883991\" xlink:href=\"#mf7e3958e73\" y=\"67.991119\"/>\r\n     <use style=\"fill:#1f77b4;stroke:#1f77b4;\" x=\"276.237661\" xlink:href=\"#mf7e3958e73\" y=\"199.206165\"/>\r\n     <use style=\"fill:#1f77b4;stroke:#1f77b4;\" x=\"244.246376\" xlink:href=\"#mf7e3958e73\" y=\"45.42011\"/>\r\n     <use style=\"fill:#1f77b4;stroke:#1f77b4;\" x=\"350.623899\" xlink:href=\"#mf7e3958e73\" y=\"181.856807\"/>\r\n     <use style=\"fill:#1f77b4;stroke:#1f77b4;\" x=\"281.699587\" xlink:href=\"#mf7e3958e73\" y=\"178.993321\"/>\r\n     <use style=\"fill:#1f77b4;stroke:#1f77b4;\" x=\"328.776193\" xlink:href=\"#mf7e3958e73\" y=\"292.859009\"/>\r\n     <use style=\"fill:#1f77b4;stroke:#1f77b4;\" x=\"215.012064\" xlink:href=\"#mf7e3958e73\" y=\"319.438899\"/>\r\n     <use style=\"fill:#1f77b4;stroke:#1f77b4;\" x=\"166.114817\" xlink:href=\"#mf7e3958e73\" y=\"237.07156\"/>\r\n     <use style=\"fill:#1f77b4;stroke:#1f77b4;\" x=\"193.684541\" xlink:href=\"#mf7e3958e73\" y=\"107.877798\"/>\r\n     <use style=\"fill:#1f77b4;stroke:#1f77b4;\" x=\"433.229037\" xlink:href=\"#mf7e3958e73\" y=\"204.225688\"/>\r\n     <use style=\"fill:#1f77b4;stroke:#1f77b4;\" x=\"315.407477\" xlink:href=\"#mf7e3958e73\" y=\"30.058349\"/>\r\n     <use style=\"fill:#1f77b4;stroke:#1f77b4;\" x=\"354.421239\" xlink:href=\"#mf7e3958e73\" y=\"127.08\"/>\r\n     <use style=\"fill:#1f77b4;stroke:#1f77b4;\" x=\"255.586376\" xlink:href=\"#mf7e3958e73\" y=\"30.395229\"/>\r\n     <use style=\"fill:#1f77b4;stroke:#1f77b4;\" x=\"370.807018\" xlink:href=\"#mf7e3958e73\" y=\"306.974312\"/>\r\n     <use style=\"fill:#1f77b4;stroke:#1f77b4;\" x=\"218.91344\" xlink:href=\"#mf7e3958e73\" y=\"173.232661\"/>\r\n     <use style=\"fill:#1f77b4;stroke:#1f77b4;\" x=\"248.823991\" xlink:href=\"#mf7e3958e73\" y=\"244.819817\"/>\r\n     <use style=\"fill:#1f77b4;stroke:#1f77b4;\" x=\"254.181881\" xlink:href=\"#mf7e3958e73\" y=\"300.758862\"/>\r\n     <use style=\"fill:#1f77b4;stroke:#1f77b4;\" x=\"187.078211\" xlink:href=\"#mf7e3958e73\" y=\"256.964367\"/>\r\n     <use style=\"fill:#1f77b4;stroke:#1f77b4;\" x=\"338.971789\" xlink:href=\"#mf7e3958e73\" y=\"72.690606\"/>\r\n     <use style=\"fill:#1f77b4;stroke:#1f77b4;\" x=\"160.02867\" xlink:href=\"#mf7e3958e73\" y=\"140.403633\"/>\r\n     <use style=\"fill:#1f77b4;stroke:#1f77b4;\" x=\"270.307569\" xlink:href=\"#mf7e3958e73\" y=\"185.545651\"/>\r\n     <use style=\"fill:#1f77b4;stroke:#1f77b4;\" x=\"296.576835\" xlink:href=\"#mf7e3958e73\" y=\"164.490606\"/>\r\n     <use style=\"fill:#1f77b4;stroke:#1f77b4;\" x=\"316.083716\" xlink:href=\"#mf7e3958e73\" y=\"294.358128\"/>\r\n     <use style=\"fill:#1f77b4;stroke:#1f77b4;\" x=\"280.711239\" xlink:href=\"#mf7e3958e73\" y=\"39.676294\"/>\r\n     <use style=\"fill:#1f77b4;stroke:#1f77b4;\" x=\"343.133257\" xlink:href=\"#mf7e3958e73\" y=\"176.112991\"/>\r\n     <use style=\"fill:#1f77b4;stroke:#1f77b4;\" x=\"324.926835\" xlink:href=\"#mf7e3958e73\" y=\"150.173174\"/>\r\n     <use style=\"fill:#1f77b4;stroke:#1f77b4;\" x=\"208.145642\" xlink:href=\"#mf7e3958e73\" y=\"303.133872\"/>\r\n     <use style=\"fill:#1f77b4;stroke:#1f77b4;\" x=\"159.768578\" xlink:href=\"#mf7e3958e73\" y=\"217.397725\"/>\r\n     <use style=\"fill:#1f77b4;stroke:#1f77b4;\" x=\"426.362615\" xlink:href=\"#mf7e3958e73\" y=\"207.796624\"/>\r\n     <use style=\"fill:#1f77b4;stroke:#1f77b4;\" x=\"216.988761\" xlink:href=\"#mf7e3958e73\" y=\"34.471486\"/>\r\n     <use style=\"fill:#1f77b4;stroke:#1f77b4;\" x=\"380.066284\" xlink:href=\"#mf7e3958e73\" y=\"311.38745\"/>\r\n     <use style=\"fill:#1f77b4;stroke:#1f77b4;\" x=\"324.14656\" xlink:href=\"#mf7e3958e73\" y=\"206.617541\"/>\r\n     <use style=\"fill:#1f77b4;stroke:#1f77b4;\" x=\"163.930046\" xlink:href=\"#mf7e3958e73\" y=\"107.237725\"/>\r\n     <use style=\"fill:#1f77b4;stroke:#1f77b4;\" x=\"351.196101\" xlink:href=\"#mf7e3958e73\" y=\"24.701945\"/>\r\n     <use style=\"fill:#1f77b4;stroke:#1f77b4;\" x=\"243.258028\" xlink:href=\"#mf7e3958e73\" y=\"148.000294\"/>\r\n     <use style=\"fill:#1f77b4;stroke:#1f77b4;\" x=\"298.137385\" xlink:href=\"#mf7e3958e73\" y=\"220.429651\"/>\r\n     <use style=\"fill:#1f77b4;stroke:#1f77b4;\" x=\"385.24211\" xlink:href=\"#mf7e3958e73\" y=\"289.085945\"/>\r\n     <use style=\"fill:#1f77b4;stroke:#1f77b4;\" x=\"380.040275\" xlink:href=\"#mf7e3958e73\" y=\"212.108697\"/>\r\n     <use style=\"fill:#1f77b4;stroke:#1f77b4;\" x=\"338.425596\" xlink:href=\"#mf7e3958e73\" y=\"156.691817\"/>\r\n     <use style=\"fill:#1f77b4;stroke:#1f77b4;\" x=\"214.621927\" xlink:href=\"#mf7e3958e73\" y=\"227.26833\"/>\r\n     <use style=\"fill:#1f77b4;stroke:#1f77b4;\" x=\"198.236147\" xlink:href=\"#mf7e3958e73\" y=\"156.186495\"/>\r\n     <use style=\"fill:#1f77b4;stroke:#1f77b4;\" x=\"269.501284\" xlink:href=\"#mf7e3958e73\" y=\"292.286312\"/>\r\n     <use style=\"fill:#1f77b4;stroke:#1f77b4;\" x=\"209.420092\" xlink:href=\"#mf7e3958e73\" y=\"9.643376\"/>\r\n     <use style=\"fill:#1f77b4;stroke:#1f77b4;\" x=\"288.748073\" xlink:href=\"#mf7e3958e73\" y=\"132.773284\"/>\r\n     <use style=\"fill:#1f77b4;stroke:#1f77b4;\" x=\"286.407248\" xlink:href=\"#mf7e3958e73\" y=\"227.436771\"/>\r\n     <use style=\"fill:#1f77b4;stroke:#1f77b4;\" x=\"201.357248\" xlink:href=\"#mf7e3958e73\" y=\"77.693284\"/>\r\n     <use style=\"fill:#1f77b4;stroke:#1f77b4;\" x=\"220.916147\" xlink:href=\"#mf7e3958e73\" y=\"9.66022\"/>\r\n     <use style=\"fill:#1f77b4;stroke:#1f77b4;\" x=\"156.413394\" xlink:href=\"#mf7e3958e73\" y=\"234.022789\"/>\r\n     <use style=\"fill:#1f77b4;stroke:#1f77b4;\" x=\"150.431284\" xlink:href=\"#mf7e3958e73\" y=\"87.311229\"/>\r\n     <use style=\"fill:#1f77b4;stroke:#1f77b4;\" x=\"264.351468\" xlink:href=\"#mf7e3958e73\" y=\"139.022422\"/>\r\n     <use style=\"fill:#1f77b4;stroke:#1f77b4;\" x=\"341.078532\" xlink:href=\"#mf7e3958e73\" y=\"216.504991\"/>\r\n     <use style=\"fill:#1f77b4;stroke:#1f77b4;\" x=\"365.006972\" xlink:href=\"#mf7e3958e73\" y=\"86.132147\"/>\r\n     <use style=\"fill:#1f77b4;stroke:#1f77b4;\" x=\"346.280367\" xlink:href=\"#mf7e3958e73\" y=\"282.870495\"/>\r\n     <use style=\"fill:#1f77b4;stroke:#1f77b4;\" x=\"295.302385\" xlink:href=\"#mf7e3958e73\" y=\"265.352697\"/>\r\n     <use style=\"fill:#1f77b4;stroke:#1f77b4;\" x=\"348.361101\" xlink:href=\"#mf7e3958e73\" y=\"158.561505\"/>\r\n     <use style=\"fill:#1f77b4;stroke:#1f77b4;\" x=\"283.858349\" xlink:href=\"#mf7e3958e73\" y=\"301.735817\"/>\r\n     <use style=\"fill:#1f77b4;stroke:#1f77b4;\" x=\"211.786927\" xlink:href=\"#mf7e3958e73\" y=\"305.896294\"/>\r\n     <use style=\"fill:#1f77b4;stroke:#1f77b4;\" x=\"177.454817\" xlink:href=\"#mf7e3958e73\" y=\"227.066202\"/>\r\n     <use style=\"fill:#1f77b4;stroke:#1f77b4;\" x=\"160.02867\" xlink:href=\"#mf7e3958e73\" y=\"105.620697\"/>\r\n     <use style=\"fill:#1f77b4;stroke:#1f77b4;\" x=\"241.957569\" xlink:href=\"#mf7e3958e73\" y=\"186.472073\"/>\r\n     <use style=\"fill:#1f77b4;stroke:#1f77b4;\" x=\"262.504817\" xlink:href=\"#mf7e3958e73\" y=\"187.651156\"/>\r\n     <use style=\"fill:#1f77b4;stroke:#1f77b4;\" x=\"340.792431\" xlink:href=\"#mf7e3958e73\" y=\"88.43978\"/>\r\n     <use style=\"fill:#1f77b4;stroke:#1f77b4;\" x=\"395.671789\" xlink:href=\"#mf7e3958e73\" y=\"250.647853\"/>\r\n     <use style=\"fill:#1f77b4;stroke:#1f77b4;\" x=\"361.599771\" xlink:href=\"#mf7e3958e73\" y=\"260.080514\"/>\r\n     <use style=\"fill:#1f77b4;stroke:#1f77b4;\" x=\"317.904358\" xlink:href=\"#mf7e3958e73\" y=\"47.508771\"/>\r\n     <use style=\"fill:#1f77b4;stroke:#1f77b4;\" x=\"302.298853\" xlink:href=\"#mf7e3958e73\" y=\"121.790972\"/>\r\n     <use style=\"fill:#1f77b4;stroke:#1f77b4;\" x=\"276.861881\" xlink:href=\"#mf7e3958e73\" y=\"45.874899\"/>\r\n     <use style=\"fill:#1f77b4;stroke:#1f77b4;\" x=\"176.206376\" xlink:href=\"#mf7e3958e73\" y=\"116.451413\"/>\r\n     <use style=\"fill:#1f77b4;stroke:#1f77b4;\" x=\"241.489404\" xlink:href=\"#mf7e3958e73\" y=\"247.834899\"/>\r\n     <use style=\"fill:#1f77b4;stroke:#1f77b4;\" x=\"375.956835\" xlink:href=\"#mf7e3958e73\" y=\"157.550862\"/>\r\n     <use style=\"fill:#1f77b4;stroke:#1f77b4;\" x=\"380.378394\" xlink:href=\"#mf7e3958e73\" y=\"76.867927\"/>\r\n     <use style=\"fill:#1f77b4;stroke:#1f77b4;\" x=\"288.826101\" xlink:href=\"#mf7e3958e73\" y=\"284.723339\"/>\r\n     <use style=\"fill:#1f77b4;stroke:#1f77b4;\" x=\"225.623807\" xlink:href=\"#mf7e3958e73\" y=\"134.474532\"/>\r\n     <use style=\"fill:#1f77b4;stroke:#1f77b4;\" x=\"160.34078\" xlink:href=\"#mf7e3958e73\" y=\"254.740954\"/>\r\n     <use style=\"fill:#1f77b4;stroke:#1f77b4;\" x=\"361.651789\" xlink:href=\"#mf7e3958e73\" y=\"143.907193\"/>\r\n     <use style=\"fill:#1f77b4;stroke:#1f77b4;\" x=\"284.664633\" xlink:href=\"#mf7e3958e73\" y=\"318.748294\"/>\r\n     <use style=\"fill:#1f77b4;stroke:#1f77b4;\" x=\"306.434312\" xlink:href=\"#mf7e3958e73\" y=\"76.682642\"/>\r\n     <use style=\"fill:#1f77b4;stroke:#1f77b4;\" x=\"245.572844\" xlink:href=\"#mf7e3958e73\" y=\"113.739523\"/>\r\n     <use style=\"fill:#1f77b4;stroke:#1f77b4;\" x=\"345.448073\" xlink:href=\"#mf7e3958e73\" y=\"126.540991\"/>\r\n     <use style=\"fill:#1f77b4;stroke:#1f77b4;\" x=\"244.532477\" xlink:href=\"#mf7e3958e73\" y=\"90.831633\"/>\r\n     <use style=\"fill:#1f77b4;stroke:#1f77b4;\" x=\"244.792569\" xlink:href=\"#mf7e3958e73\" y=\"260.956404\"/>\r\n     <use style=\"fill:#1f77b4;stroke:#1f77b4;\" x=\"317.098073\" xlink:href=\"#mf7e3958e73\" y=\"171.009248\"/>\r\n     <use style=\"fill:#1f77b4;stroke:#1f77b4;\" x=\"330.362752\" xlink:href=\"#mf7e3958e73\" y=\"240.238239\"/>\r\n     <use style=\"fill:#1f77b4;stroke:#1f77b4;\" x=\"306.954495\" xlink:href=\"#mf7e3958e73\" y=\"348.545394\"/>\r\n     <use style=\"fill:#1f77b4;stroke:#1f77b4;\" x=\"196.675596\" xlink:href=\"#mf7e3958e73\" y=\"217.330349\"/>\r\n     <use style=\"fill:#1f77b4;stroke:#1f77b4;\" x=\"234.128807\" xlink:href=\"#mf7e3958e73\" y=\"135.29989\"/>\r\n     <use style=\"fill:#1f77b4;stroke:#1f77b4;\" x=\"270.931789\" xlink:href=\"#mf7e3958e73\" y=\"35.094716\"/>\r\n     <use style=\"fill:#1f77b4;stroke:#1f77b4;\" x=\"206.168945\" xlink:href=\"#mf7e3958e73\" y=\"106.513431\"/>\r\n     <use style=\"fill:#1f77b4;stroke:#1f77b4;\" x=\"174.437752\" xlink:href=\"#mf7e3958e73\" y=\"197.97655\"/>\r\n     <use style=\"fill:#1f77b4;stroke:#1f77b4;\" x=\"277.954266\" xlink:href=\"#mf7e3958e73\" y=\"171.868294\"/>\r\n     <use style=\"fill:#1f77b4;stroke:#1f77b4;\" x=\"346.098303\" xlink:href=\"#mf7e3958e73\" y=\"132.116367\"/>\r\n     <use style=\"fill:#1f77b4;stroke:#1f77b4;\" x=\"367.685917\" xlink:href=\"#mf7e3958e73\" y=\"121.336183\"/>\r\n     <use style=\"fill:#1f77b4;stroke:#1f77b4;\" x=\"317.748303\" xlink:href=\"#mf7e3958e73\" y=\"221.221321\"/>\r\n     <use style=\"fill:#1f77b4;stroke:#1f77b4;\" x=\"215.272156\" xlink:href=\"#mf7e3958e73\" y=\"267.542422\"/>\r\n     <use style=\"fill:#1f77b4;stroke:#1f77b4;\" x=\"275.61344\" xlink:href=\"#mf7e3958e73\" y=\"203.029761\"/>\r\n     <use style=\"fill:#1f77b4;stroke:#1f77b4;\" x=\"320.089128\" xlink:href=\"#mf7e3958e73\" y=\"324.475266\"/>\r\n     <use style=\"fill:#1f77b4;stroke:#1f77b4;\" x=\"244.506468\" xlink:href=\"#mf7e3958e73\" y=\"55.593908\"/>\r\n     <use style=\"fill:#1f77b4;stroke:#1f77b4;\" x=\"222.918853\" xlink:href=\"#mf7e3958e73\" y=\"250.984734\"/>\r\n     <use style=\"fill:#1f77b4;stroke:#1f77b4;\" x=\"279.09867\" xlink:href=\"#mf7e3958e73\" y=\"312.128587\"/>\r\n     <use style=\"fill:#1f77b4;stroke:#1f77b4;\" x=\"309.269312\" xlink:href=\"#mf7e3958e73\" y=\"131.392073\"/>\r\n     <use style=\"fill:#1f77b4;stroke:#1f77b4;\" x=\"338.399587\" xlink:href=\"#mf7e3958e73\" y=\"289.726018\"/>\r\n     <use style=\"fill:#1f77b4;stroke:#1f77b4;\" x=\"211.214725\" xlink:href=\"#mf7e3958e73\" y=\"168.954275\"/>\r\n     <use style=\"fill:#1f77b4;stroke:#1f77b4;\" x=\"239.304633\" xlink:href=\"#mf7e3958e73\" y=\"41.276477\"/>\r\n     <use style=\"fill:#1f77b4;stroke:#1f77b4;\" x=\"261.672523\" xlink:href=\"#mf7e3958e73\" y=\"187.145835\"/>\r\n     <use style=\"fill:#1f77b4;stroke:#1f77b4;\" x=\"396.920229\" xlink:href=\"#mf7e3958e73\" y=\"217.465101\"/>\r\n     <use style=\"fill:#1f77b4;stroke:#1f77b4;\" x=\"268.695\" xlink:href=\"#mf7e3958e73\" y=\"126.507303\"/>\r\n     <use style=\"fill:#1f77b4;stroke:#1f77b4;\" x=\"262.244725\" xlink:href=\"#mf7e3958e73\" y=\"202.153872\"/>\r\n     <use style=\"fill:#1f77b4;stroke:#1f77b4;\" x=\"181.616284\" xlink:href=\"#mf7e3958e73\" y=\"139.830936\"/>\r\n     <use style=\"fill:#1f77b4;stroke:#1f77b4;\" x=\"275.249312\" xlink:href=\"#mf7e3958e73\" y=\"101.089651\"/>\r\n     <use style=\"fill:#1f77b4;stroke:#1f77b4;\" x=\"291.895183\" xlink:href=\"#mf7e3958e73\" y=\"244.937725\"/>\r\n     <use style=\"fill:#1f77b4;stroke:#1f77b4;\" x=\"330.908945\" xlink:href=\"#mf7e3958e73\" y=\"160.21222\"/>\r\n     <use style=\"fill:#1f77b4;stroke:#1f77b4;\" x=\"351.196101\" xlink:href=\"#mf7e3958e73\" y=\"69.759743\"/>\r\n     <use style=\"fill:#1f77b4;stroke:#1f77b4;\" x=\"341.312615\" xlink:href=\"#mf7e3958e73\" y=\"279.63644\"/>\r\n     <use style=\"fill:#1f77b4;stroke:#1f77b4;\" x=\"185.777752\" xlink:href=\"#mf7e3958e73\" y=\"231.462495\"/>\r\n     <use style=\"fill:#1f77b4;stroke:#1f77b4;\" x=\"280.711239\" xlink:href=\"#mf7e3958e73\" y=\"37.419193\"/>\r\n     <use style=\"fill:#1f77b4;stroke:#1f77b4;\" x=\"271.087844\" xlink:href=\"#mf7e3958e73\" y=\"314.672037\"/>\r\n     <use style=\"fill:#1f77b4;stroke:#1f77b4;\" x=\"283.000046\" xlink:href=\"#mf7e3958e73\" y=\"307.378569\"/>\r\n     <use style=\"fill:#1f77b4;stroke:#1f77b4;\" x=\"208.093624\" xlink:href=\"#mf7e3958e73\" y=\"68.530128\"/>\r\n     <use style=\"fill:#1f77b4;stroke:#1f77b4;\" x=\"338.139495\" xlink:href=\"#mf7e3958e73\" y=\"178.016367\"/>\r\n     <use style=\"fill:#1f77b4;stroke:#1f77b4;\" x=\"317.072064\" xlink:href=\"#mf7e3958e73\" y=\"310.578936\"/>\r\n     <use style=\"fill:#1f77b4;stroke:#1f77b4;\" x=\"407.844083\" xlink:href=\"#mf7e3958e73\" y=\"90.427376\"/>\r\n     <use style=\"fill:#1f77b4;stroke:#1f77b4;\" x=\"277.278028\" xlink:href=\"#mf7e3958e73\" y=\"63.140037\"/>\r\n     <use style=\"fill:#1f77b4;stroke:#1f77b4;\" x=\"212.775275\" xlink:href=\"#mf7e3958e73\" y=\"257.52022\"/>\r\n     <use style=\"fill:#1f77b4;stroke:#1f77b4;\" x=\"208.613807\" xlink:href=\"#mf7e3958e73\" y=\"167.236183\"/>\r\n     <use style=\"fill:#1f77b4;stroke:#1f77b4;\" x=\"244.506468\" xlink:href=\"#mf7e3958e73\" y=\"216.08389\"/>\r\n     <use style=\"fill:#1f77b4;stroke:#1f77b4;\" x=\"274.67711\" xlink:href=\"#mf7e3958e73\" y=\"122.262606\"/>\r\n     <use style=\"fill:#1f77b4;stroke:#1f77b4;\" x=\"211.05867\" xlink:href=\"#mf7e3958e73\" y=\"102.437174\"/>\r\n     <use style=\"fill:#1f77b4;stroke:#1f77b4;\" x=\"301.830688\" xlink:href=\"#mf7e3958e73\" y=\"110.859193\"/>\r\n     <use style=\"fill:#1f77b4;stroke:#1f77b4;\" x=\"302.871055\" xlink:href=\"#mf7e3958e73\" y=\"224.051119\"/>\r\n     <use style=\"fill:#1f77b4;stroke:#1f77b4;\" x=\"334.602248\" xlink:href=\"#mf7e3958e73\" y=\"203.501394\"/>\r\n     <use style=\"fill:#1f77b4;stroke:#1f77b4;\" x=\"340.324266\" xlink:href=\"#mf7e3958e73\" y=\"105.805982\"/>\r\n     <use style=\"fill:#1f77b4;stroke:#1f77b4;\" x=\"351.768303\" xlink:href=\"#mf7e3958e73\" y=\"293.44855\"/>\r\n     <use style=\"fill:#1f77b4;stroke:#1f77b4;\" x=\"180.107752\" xlink:href=\"#mf7e3958e73\" y=\"229.272771\"/>\r\n     <use style=\"fill:#1f77b4;stroke:#1f77b4;\" x=\"230.56555\" xlink:href=\"#mf7e3958e73\" y=\"173.85589\"/>\r\n     <use style=\"fill:#1f77b4;stroke:#1f77b4;\" x=\"247.211422\" xlink:href=\"#mf7e3958e73\" y=\"43.483046\"/>\r\n     <use style=\"fill:#1f77b4;stroke:#1f77b4;\" x=\"271.660046\" xlink:href=\"#mf7e3958e73\" y=\"294.459193\"/>\r\n     <use style=\"fill:#1f77b4;stroke:#1f77b4;\" x=\"237.223899\" xlink:href=\"#mf7e3958e73\" y=\"321.931817\"/>\r\n     <use style=\"fill:#1f77b4;stroke:#1f77b4;\" x=\"191.707844\" xlink:href=\"#mf7e3958e73\" y=\"235.690349\"/>\r\n     <use style=\"fill:#1f77b4;stroke:#1f77b4;\" x=\"319.672982\" xlink:href=\"#mf7e3958e73\" y=\"193.243376\"/>\r\n     <use style=\"fill:#1f77b4;stroke:#1f77b4;\" x=\"255.950505\" xlink:href=\"#mf7e3958e73\" y=\"41.983927\"/>\r\n     <use style=\"fill:#1f77b4;stroke:#1f77b4;\" x=\"383.65555\" xlink:href=\"#mf7e3958e73\" y=\"329.343193\"/>\r\n     <use style=\"fill:#1f77b4;stroke:#1f77b4;\" x=\"301.46656\" xlink:href=\"#mf7e3958e73\" y=\"193.243376\"/>\r\n     <use style=\"fill:#1f77b4;stroke:#1f77b4;\" x=\"189.367018\" xlink:href=\"#mf7e3958e73\" y=\"137.152734\"/>\r\n     <use style=\"fill:#1f77b4;stroke:#1f77b4;\" x=\"339.439954\" xlink:href=\"#mf7e3958e73\" y=\"39.962642\"/>\r\n     <use style=\"fill:#1f77b4;stroke:#1f77b4;\" x=\"238.004174\" xlink:href=\"#mf7e3958e73\" y=\"198.296587\"/>\r\n     <use style=\"fill:#1f77b4;stroke:#1f77b4;\" x=\"315.511514\" xlink:href=\"#mf7e3958e73\" y=\"90.326312\"/>\r\n     <use style=\"fill:#1f77b4;stroke:#1f77b4;\" x=\"182.630642\" xlink:href=\"#mf7e3958e73\" y=\"214.584771\"/>\r\n     <use style=\"fill:#1f77b4;stroke:#1f77b4;\" x=\"269.501284\" xlink:href=\"#mf7e3958e73\" y=\"108.130459\"/>\r\n     <use style=\"fill:#1f77b4;stroke:#1f77b4;\" x=\"318.398532\" xlink:href=\"#mf7e3958e73\" y=\"174.832844\"/>\r\n     <use style=\"fill:#1f77b4;stroke:#1f77b4;\" x=\"350.649908\" xlink:href=\"#mf7e3958e73\" y=\"70.736697\"/>\r\n     <use style=\"fill:#1f77b4;stroke:#1f77b4;\" x=\"355.851743\" xlink:href=\"#mf7e3958e73\" y=\"257.368624\"/>\r\n     <use style=\"fill:#1f77b4;stroke:#1f77b4;\" x=\"187.312294\" xlink:href=\"#mf7e3958e73\" y=\"115.878716\"/>\r\n     <use style=\"fill:#1f77b4;stroke:#1f77b4;\" x=\"263.519174\" xlink:href=\"#mf7e3958e73\" y=\"241.366789\"/>\r\n     <use style=\"fill:#1f77b4;stroke:#1f77b4;\" x=\"293.429725\" xlink:href=\"#mf7e3958e73\" y=\"264.274679\"/>\r\n     <use style=\"fill:#1f77b4;stroke:#1f77b4;\" x=\"285.106789\" xlink:href=\"#mf7e3958e73\" y=\"41.764954\"/>\r\n     <use style=\"fill:#1f77b4;stroke:#1f77b4;\" x=\"265.599908\" xlink:href=\"#mf7e3958e73\" y=\"292.23578\"/>\r\n     <use style=\"fill:#1f77b4;stroke:#1f77b4;\" x=\"378.453716\" xlink:href=\"#mf7e3958e73\" y=\"303.285468\"/>\r\n     <use style=\"fill:#1f77b4;stroke:#1f77b4;\" x=\"192.488119\" xlink:href=\"#mf7e3958e73\" y=\"83.80767\"/>\r\n     <use style=\"fill:#1f77b4;stroke:#1f77b4;\" x=\"312.650505\" xlink:href=\"#mf7e3958e73\" y=\"267.070789\"/>\r\n     <use style=\"fill:#1f77b4;stroke:#1f77b4;\" x=\"270.515642\" xlink:href=\"#mf7e3958e73\" y=\"52.140881\"/>\r\n     <use style=\"fill:#1f77b4;stroke:#1f77b4;\" x=\"343.861514\" xlink:href=\"#mf7e3958e73\" y=\"245.847303\"/>\r\n     <use style=\"fill:#1f77b4;stroke:#1f77b4;\" x=\"334.238119\" xlink:href=\"#mf7e3958e73\" y=\"210.980147\"/>\r\n     <use style=\"fill:#1f77b4;stroke:#1f77b4;\" x=\"153.994541\" xlink:href=\"#mf7e3958e73\" y=\"208.790422\"/>\r\n     <use style=\"fill:#1f77b4;stroke:#1f77b4;\" x=\"259.591789\" xlink:href=\"#mf7e3958e73\" y=\"163.648404\"/>\r\n     <use style=\"fill:#1f77b4;stroke:#1f77b4;\" x=\"256.470688\" xlink:href=\"#mf7e3958e73\" y=\"36.981248\"/>\r\n     <use style=\"fill:#1f77b4;stroke:#1f77b4;\" x=\"269.735367\" xlink:href=\"#mf7e3958e73\" y=\"208.621982\"/>\r\n     <use style=\"fill:#1f77b4;stroke:#1f77b4;\" x=\"234.024771\" xlink:href=\"#mf7e3958e73\" y=\"301.466312\"/>\r\n     <use style=\"fill:#1f77b4;stroke:#1f77b4;\" x=\"164.580275\" xlink:href=\"#mf7e3958e73\" y=\"198.717688\"/>\r\n     <use style=\"fill:#1f77b4;stroke:#1f77b4;\" x=\"265.495872\" xlink:href=\"#mf7e3958e73\" y=\"60.428147\"/>\r\n     <use style=\"fill:#1f77b4;stroke:#1f77b4;\" x=\"305.810092\" xlink:href=\"#mf7e3958e73\" y=\"140.774202\"/>\r\n     <use style=\"fill:#1f77b4;stroke:#1f77b4;\" x=\"335.46055\" xlink:href=\"#mf7e3958e73\" y=\"164.524294\"/>\r\n     <use style=\"fill:#1f77b4;stroke:#1f77b4;\" x=\"235.585321\" xlink:href=\"#mf7e3958e73\" y=\"174.630716\"/>\r\n     <use style=\"fill:#1f77b4;stroke:#1f77b4;\" x=\"267.316514\" xlink:href=\"#mf7e3958e73\" y=\"115.002826\"/>\r\n     <use style=\"fill:#1f77b4;stroke:#1f77b4;\" x=\"317.774312\" xlink:href=\"#mf7e3958e73\" y=\"309.383009\"/>\r\n     <use style=\"fill:#1f77b4;stroke:#1f77b4;\" x=\"306.850459\" xlink:href=\"#mf7e3958e73\" y=\"267.609798\"/>\r\n     <use style=\"fill:#1f77b4;stroke:#1f77b4;\" x=\"339.101835\" xlink:href=\"#mf7e3958e73\" y=\"48.637321\"/>\r\n     <use style=\"fill:#1f77b4;stroke:#1f77b4;\" x=\"257.563073\" xlink:href=\"#mf7e3958e73\" y=\"319.893688\"/>\r\n     <use style=\"fill:#1f77b4;stroke:#1f77b4;\" x=\"253.661697\" xlink:href=\"#mf7e3958e73\" y=\"44.999009\"/>\r\n     <use style=\"fill:#1f77b4;stroke:#1f77b4;\" x=\"187.338303\" xlink:href=\"#mf7e3958e73\" y=\"111.027633\"/>\r\n     <use style=\"fill:#1f77b4;stroke:#1f77b4;\" x=\"277.850229\" xlink:href=\"#mf7e3958e73\" y=\"78.013321\"/>\r\n     <use style=\"fill:#1f77b4;stroke:#1f77b4;\" x=\"265.625917\" xlink:href=\"#mf7e3958e73\" y=\"174.361211\"/>\r\n     <use style=\"fill:#1f77b4;stroke:#1f77b4;\" x=\"347.294725\" xlink:href=\"#mf7e3958e73\" y=\"285.194972\"/>\r\n     <use style=\"fill:#1f77b4;stroke:#1f77b4;\" x=\"396.191972\" xlink:href=\"#mf7e3958e73\" y=\"45.16745\"/>\r\n     <use style=\"fill:#1f77b4;stroke:#1f77b4;\" x=\"344.693807\" xlink:href=\"#mf7e3958e73\" y=\"303.386532\"/>\r\n     <use style=\"fill:#1f77b4;stroke:#1f77b4;\" x=\"182.136468\" xlink:href=\"#mf7e3958e73\" y=\"261.781761\"/>\r\n     <use style=\"fill:#1f77b4;stroke:#1f77b4;\" x=\"259.643807\" xlink:href=\"#mf7e3958e73\" y=\"157.348734\"/>\r\n     <use style=\"fill:#1f77b4;stroke:#1f77b4;\" x=\"290.308624\" xlink:href=\"#mf7e3958e73\" y=\"321.207523\"/>\r\n     <use style=\"fill:#1f77b4;stroke:#1f77b4;\" x=\"236.209541\" xlink:href=\"#mf7e3958e73\" y=\"103.414128\"/>\r\n     <use style=\"fill:#1f77b4;stroke:#1f77b4;\" x=\"307.474679\" xlink:href=\"#mf7e3958e73\" y=\"146.197982\"/>\r\n     <use style=\"fill:#1f77b4;stroke:#1f77b4;\" x=\"244.012294\" xlink:href=\"#mf7e3958e73\" y=\"153.272477\"/>\r\n     <use style=\"fill:#1f77b4;stroke:#1f77b4;\" x=\"324.640734\" xlink:href=\"#mf7e3958e73\" y=\"224.691193\"/>\r\n     <use style=\"fill:#1f77b4;stroke:#1f77b4;\" x=\"286.667339\" xlink:href=\"#mf7e3958e73\" y=\"20.541468\"/>\r\n     <use style=\"fill:#1f77b4;stroke:#1f77b4;\" x=\"258.577431\" xlink:href=\"#mf7e3958e73\" y=\"251.978532\"/>\r\n     <use style=\"fill:#1f77b4;stroke:#1f77b4;\" x=\"317.358165\" xlink:href=\"#mf7e3958e73\" y=\"278.59211\"/>\r\n     <use style=\"fill:#1f77b4;stroke:#1f77b4;\" x=\"300.712294\" xlink:href=\"#mf7e3958e73\" y=\"75.116147\"/>\r\n     <use style=\"fill:#1f77b4;stroke:#1f77b4;\" x=\"206.038899\" xlink:href=\"#mf7e3958e73\" y=\"206.162752\"/>\r\n     <use style=\"fill:#1f77b4;stroke:#1f77b4;\" x=\"237.015826\" xlink:href=\"#mf7e3958e73\" y=\"42.741908\"/>\r\n     <use style=\"fill:#1f77b4;stroke:#1f77b4;\" x=\"178.755275\" xlink:href=\"#mf7e3958e73\" y=\"79.630349\"/>\r\n     <use style=\"fill:#1f77b4;stroke:#1f77b4;\" x=\"177.194725\" xlink:href=\"#mf7e3958e73\" y=\"223.815303\"/>\r\n     <use style=\"fill:#1f77b4;stroke:#1f77b4;\" x=\"253.141514\" xlink:href=\"#mf7e3958e73\" y=\"117.19255\"/>\r\n     <use style=\"fill:#1f77b4;stroke:#1f77b4;\" x=\"393.591055\" xlink:href=\"#mf7e3958e73\" y=\"184.737138\"/>\r\n     <use style=\"fill:#1f77b4;stroke:#1f77b4;\" x=\"386.82867\" xlink:href=\"#mf7e3958e73\" y=\"82.662275\"/>\r\n     <use style=\"fill:#1f77b4;stroke:#1f77b4;\" x=\"329.088303\" xlink:href=\"#mf7e3958e73\" y=\"299.613468\"/>\r\n     <use style=\"fill:#1f77b4;stroke:#1f77b4;\" x=\"234.935092\" xlink:href=\"#mf7e3958e73\" y=\"149.364661\"/>\r\n     <use style=\"fill:#1f77b4;stroke:#1f77b4;\" x=\"291.895183\" xlink:href=\"#mf7e3958e73\" y=\"275.526495\"/>\r\n     <use style=\"fill:#1f77b4;stroke:#1f77b4;\" x=\"289.554358\" xlink:href=\"#mf7e3958e73\" y=\"325.890165\"/>\r\n     <use style=\"fill:#1f77b4;stroke:#1f77b4;\" x=\"166.94711\" xlink:href=\"#mf7e3958e73\" y=\"251.456367\"/>\r\n     <use style=\"fill:#1f77b4;stroke:#1f77b4;\" x=\"191.395734\" xlink:href=\"#mf7e3958e73\" y=\"135.232514\"/>\r\n     <use style=\"fill:#1f77b4;stroke:#1f77b4;\" x=\"359.675092\" xlink:href=\"#mf7e3958e73\" y=\"236.128294\"/>\r\n     <use style=\"fill:#1f77b4;stroke:#1f77b4;\" x=\"376.581055\" xlink:href=\"#mf7e3958e73\" y=\"83.352881\"/>\r\n     <use style=\"fill:#1f77b4;stroke:#1f77b4;\" x=\"277.746193\" xlink:href=\"#mf7e3958e73\" y=\"128.663339\"/>\r\n     <use style=\"fill:#1f77b4;stroke:#1f77b4;\" x=\"300.634266\" xlink:href=\"#mf7e3958e73\" y=\"232.254165\"/>\r\n     <use style=\"fill:#1f77b4;stroke:#1f77b4;\" x=\"339.387936\" xlink:href=\"#mf7e3958e73\" y=\"89.753615\"/>\r\n     <use style=\"fill:#1f77b4;stroke:#1f77b4;\" x=\"265.781972\" xlink:href=\"#mf7e3958e73\" y=\"42.758752\"/>\r\n     <use style=\"fill:#1f77b4;stroke:#1f77b4;\" x=\"245.494817\" xlink:href=\"#mf7e3958e73\" y=\"329.612697\"/>\r\n     <use style=\"fill:#1f77b4;stroke:#1f77b4;\" x=\"248.355826\" xlink:href=\"#mf7e3958e73\" y=\"251.961688\"/>\r\n     <use style=\"fill:#1f77b4;stroke:#1f77b4;\" x=\"229.551193\" xlink:href=\"#mf7e3958e73\" y=\"239.615009\"/>\r\n     <use style=\"fill:#1f77b4;stroke:#1f77b4;\" x=\"196.779633\" xlink:href=\"#mf7e3958e73\" y=\"204.916294\"/>\r\n     <use style=\"fill:#1f77b4;stroke:#1f77b4;\" x=\"268.564954\" xlink:href=\"#mf7e3958e73\" y=\"132.318495\"/>\r\n     <use style=\"fill:#1f77b4;stroke:#1f77b4;\" x=\"362.718165\" xlink:href=\"#mf7e3958e73\" y=\"84.312991\"/>\r\n     <use style=\"fill:#1f77b4;stroke:#1f77b4;\" x=\"381.444771\" xlink:href=\"#mf7e3958e73\" y=\"77.238495\"/>\r\n     <use style=\"fill:#1f77b4;stroke:#1f77b4;\" x=\"198.600275\" xlink:href=\"#mf7e3958e73\" y=\"96.777578\"/>\r\n     <use style=\"fill:#1f77b4;stroke:#1f77b4;\" x=\"308.098899\" xlink:href=\"#mf7e3958e73\" y=\"38.497211\"/>\r\n     <use style=\"fill:#1f77b4;stroke:#1f77b4;\" x=\"308.358991\" xlink:href=\"#mf7e3958e73\" y=\"340.510789\"/>\r\n     <use style=\"fill:#1f77b4;stroke:#1f77b4;\" x=\"218.107156\" xlink:href=\"#mf7e3958e73\" y=\"297.221615\"/>\r\n     <use style=\"fill:#1f77b4;stroke:#1f77b4;\" x=\"299.775963\" xlink:href=\"#mf7e3958e73\" y=\"269.765835\"/>\r\n     <use style=\"fill:#1f77b4;stroke:#1f77b4;\" x=\"199.926743\" xlink:href=\"#mf7e3958e73\" y=\"222.130899\"/>\r\n     <use style=\"fill:#1f77b4;stroke:#1f77b4;\" x=\"188.742798\" xlink:href=\"#mf7e3958e73\" y=\"120.056037\"/>\r\n     <use style=\"fill:#1f77b4;stroke:#1f77b4;\" x=\"262.608853\" xlink:href=\"#mf7e3958e73\" y=\"256.492734\"/>\r\n     <use style=\"fill:#1f77b4;stroke:#1f77b4;\" x=\"346.878578\" xlink:href=\"#mf7e3958e73\" y=\"139.258239\"/>\r\n     <use style=\"fill:#1f77b4;stroke:#1f77b4;\" x=\"324.510688\" xlink:href=\"#mf7e3958e73\" y=\"70.366128\"/>\r\n     <use style=\"fill:#1f77b4;stroke:#1f77b4;\" x=\"301.362523\" xlink:href=\"#mf7e3958e73\" y=\"146.164294\"/>\r\n     <use style=\"fill:#1f77b4;stroke:#1f77b4;\" x=\"328.151972\" xlink:href=\"#mf7e3958e73\" y=\"332.290899\"/>\r\n     <use style=\"fill:#1f77b4;stroke:#1f77b4;\" x=\"290.698761\" xlink:href=\"#mf7e3958e73\" y=\"34.48833\"/>\r\n     <use style=\"fill:#1f77b4;stroke:#1f77b4;\" x=\"265.209771\" xlink:href=\"#mf7e3958e73\" y=\"311.404294\"/>\r\n     <use style=\"fill:#1f77b4;stroke:#1f77b4;\" x=\"263.909312\" xlink:href=\"#mf7e3958e73\" y=\"148.522459\"/>\r\n     <use style=\"fill:#1f77b4;stroke:#1f77b4;\" x=\"241.90555\" xlink:href=\"#mf7e3958e73\" y=\"325.014275\"/>\r\n     <use style=\"fill:#1f77b4;stroke:#1f77b4;\" x=\"128.765642\" xlink:href=\"#mf7e3958e73\" y=\"234.056477\"/>\r\n     <use style=\"fill:#1f77b4;stroke:#1f77b4;\" x=\"359.72711\" xlink:href=\"#mf7e3958e73\" y=\"125.580881\"/>\r\n     <use style=\"fill:#1f77b4;stroke:#1f77b4;\" x=\"277.538119\" xlink:href=\"#mf7e3958e73\" y=\"277.177211\"/>\r\n     <use style=\"fill:#1f77b4;stroke:#1f77b4;\" x=\"376.372982\" xlink:href=\"#mf7e3958e73\" y=\"176.449872\"/>\r\n     <use style=\"fill:#1f77b4;stroke:#1f77b4;\" x=\"209.394083\" xlink:href=\"#mf7e3958e73\" y=\"138.382349\"/>\r\n     <use style=\"fill:#1f77b4;stroke:#1f77b4;\" x=\"388.857385\" xlink:href=\"#mf7e3958e73\" y=\"82.460147\"/>\r\n     <use style=\"fill:#1f77b4;stroke:#1f77b4;\" x=\"238.524358\" xlink:href=\"#mf7e3958e73\" y=\"119.517028\"/>\r\n     <use style=\"fill:#1f77b4;stroke:#1f77b4;\" x=\"260.892248\" xlink:href=\"#mf7e3958e73\" y=\"247.531706\"/>\r\n     <use style=\"fill:#1f77b4;stroke:#1f77b4;\" x=\"290.022523\" xlink:href=\"#mf7e3958e73\" y=\"55.004367\"/>\r\n     <use style=\"fill:#1f77b4;stroke:#1f77b4;\" x=\"132.146835\" xlink:href=\"#mf7e3958e73\" y=\"245.830459\"/>\r\n     <use style=\"fill:#1f77b4;stroke:#1f77b4;\" x=\"179.22344\" xlink:href=\"#mf7e3958e73\" y=\"126.743119\"/>\r\n     <use style=\"fill:#1f77b4;stroke:#1f77b4;\" x=\"299.906009\" xlink:href=\"#mf7e3958e73\" y=\"189.066055\"/>\r\n     <use style=\"fill:#1f77b4;stroke:#1f77b4;\" x=\"348.803257\" xlink:href=\"#mf7e3958e73\" y=\"131.45945\"/>\r\n     <use style=\"fill:#1f77b4;stroke:#1f77b4;\" x=\"310.309679\" xlink:href=\"#mf7e3958e73\" y=\"88.170275\"/>\r\n     <use style=\"fill:#1f77b4;stroke:#1f77b4;\" x=\"352.964725\" xlink:href=\"#mf7e3958e73\" y=\"211.637064\"/>\r\n     <use style=\"fill:#1f77b4;stroke:#1f77b4;\" x=\"323.314266\" xlink:href=\"#mf7e3958e73\" y=\"193.108624\"/>\r\n     <use style=\"fill:#1f77b4;stroke:#1f77b4;\" x=\"306.668394\" xlink:href=\"#mf7e3958e73\" y=\"76.54789\"/>\r\n     <use style=\"fill:#1f77b4;stroke:#1f77b4;\" x=\"276.497752\" xlink:href=\"#mf7e3958e73\" y=\"322.470826\"/>\r\n     <use style=\"fill:#1f77b4;stroke:#1f77b4;\" x=\"242.165642\" xlink:href=\"#mf7e3958e73\" y=\"196.14055\"/>\r\n     <use style=\"fill:#1f77b4;stroke:#1f77b4;\" x=\"249.78633\" xlink:href=\"#mf7e3958e73\" y=\"43.937835\"/>\r\n     <use style=\"fill:#1f77b4;stroke:#1f77b4;\" x=\"256.808807\" xlink:href=\"#mf7e3958e73\" y=\"185.933064\"/>\r\n     <use style=\"fill:#1f77b4;stroke:#1f77b4;\" x=\"195.427156\" xlink:href=\"#mf7e3958e73\" y=\"256.678018\"/>\r\n     <use style=\"fill:#1f77b4;stroke:#1f77b4;\" x=\"330.674862\" xlink:href=\"#mf7e3958e73\" y=\"107.102972\"/>\r\n     <use style=\"fill:#1f77b4;stroke:#1f77b4;\" x=\"332.755596\" xlink:href=\"#mf7e3958e73\" y=\"131.695266\"/>\r\n     <use style=\"fill:#1f77b4;stroke:#1f77b4;\" x=\"317.670275\" xlink:href=\"#mf7e3958e73\" y=\"232.254165\"/>\r\n     <use style=\"fill:#1f77b4;stroke:#1f77b4;\" x=\"196.467523\" xlink:href=\"#mf7e3958e73\" y=\"117.883156\"/>\r\n     <use style=\"fill:#1f77b4;stroke:#1f77b4;\" x=\"269.813394\" xlink:href=\"#mf7e3958e73\" y=\"226.695633\"/>\r\n     <use style=\"fill:#1f77b4;stroke:#1f77b4;\" x=\"318.190459\" xlink:href=\"#mf7e3958e73\" y=\"325.738569\"/>\r\n     <use style=\"fill:#1f77b4;stroke:#1f77b4;\" x=\"304.405596\" xlink:href=\"#mf7e3958e73\" y=\"153.255633\"/>\r\n     <use style=\"fill:#1f77b4;stroke:#1f77b4;\" x=\"202.995826\" xlink:href=\"#mf7e3958e73\" y=\"224.000587\"/>\r\n     <use style=\"fill:#1f77b4;stroke:#1f77b4;\" x=\"329.920596\" xlink:href=\"#mf7e3958e73\" y=\"210.188477\"/>\r\n     <use style=\"fill:#1f77b4;stroke:#1f77b4;\" x=\"275.30133\" xlink:href=\"#mf7e3958e73\" y=\"196.713248\"/>\r\n     <use style=\"fill:#1f77b4;stroke:#1f77b4;\" x=\"300.790321\" xlink:href=\"#mf7e3958e73\" y=\"82.510679\"/>\r\n     <use style=\"fill:#1f77b4;stroke:#1f77b4;\" x=\"364.77289\" xlink:href=\"#mf7e3958e73\" y=\"212.883523\"/>\r\n     <use style=\"fill:#1f77b4;stroke:#1f77b4;\" x=\"267.498578\" xlink:href=\"#mf7e3958e73\" y=\"141.296367\"/>\r\n     <use style=\"fill:#1f77b4;stroke:#1f77b4;\" x=\"262.556835\" xlink:href=\"#mf7e3958e73\" y=\"25.072514\"/>\r\n     <use style=\"fill:#1f77b4;stroke:#1f77b4;\" x=\"314.315092\" xlink:href=\"#mf7e3958e73\" y=\"243.53967\"/>\r\n     <use style=\"fill:#1f77b4;stroke:#1f77b4;\" x=\"188.430688\" xlink:href=\"#mf7e3958e73\" y=\"131.358385\"/>\r\n     <use style=\"fill:#1f77b4;stroke:#1f77b4;\" x=\"265.417844\" xlink:href=\"#mf7e3958e73\" y=\"313.610862\"/>\r\n     <use style=\"fill:#1f77b4;stroke:#1f77b4;\" x=\"270.90578\" xlink:href=\"#mf7e3958e73\" y=\"324.812147\"/>\r\n     <use style=\"fill:#1f77b4;stroke:#1f77b4;\" x=\"198.600275\" xlink:href=\"#mf7e3958e73\" y=\"295.166642\"/>\r\n     <use style=\"fill:#1f77b4;stroke:#1f77b4;\" x=\"218.887431\" xlink:href=\"#mf7e3958e73\" y=\"80.910495\"/>\r\n     <use style=\"fill:#1f77b4;stroke:#1f77b4;\" x=\"205.882844\" xlink:href=\"#mf7e3958e73\" y=\"161.761872\"/>\r\n     <use style=\"fill:#1f77b4;stroke:#1f77b4;\" x=\"379.364037\" xlink:href=\"#mf7e3958e73\" y=\"131.611046\"/>\r\n     <use style=\"fill:#1f77b4;stroke:#1f77b4;\" x=\"259.981927\" xlink:href=\"#mf7e3958e73\" y=\"211.62022\"/>\r\n     <use style=\"fill:#1f77b4;stroke:#1f77b4;\" x=\"325.525046\" xlink:href=\"#mf7e3958e73\" y=\"128.579119\"/>\r\n     <use style=\"fill:#1f77b4;stroke:#1f77b4;\" x=\"330.206697\" xlink:href=\"#mf7e3958e73\" y=\"291.797835\"/>\r\n     <use style=\"fill:#1f77b4;stroke:#1f77b4;\" x=\"308.879174\" xlink:href=\"#mf7e3958e73\" y=\"118.641138\"/>\r\n     <use style=\"fill:#1f77b4;stroke:#1f77b4;\" x=\"273.766789\" xlink:href=\"#mf7e3958e73\" y=\"36.273798\"/>\r\n     <use style=\"fill:#1f77b4;stroke:#1f77b4;\" x=\"192.176009\" xlink:href=\"#mf7e3958e73\" y=\"258.682459\"/>\r\n     <use style=\"fill:#1f77b4;stroke:#1f77b4;\" x=\"259.279679\" xlink:href=\"#mf7e3958e73\" y=\"235.437688\"/>\r\n     <use style=\"fill:#1f77b4;stroke:#1f77b4;\" x=\"314.419128\" xlink:href=\"#mf7e3958e73\" y=\"145.490532\"/>\r\n     <use style=\"fill:#1f77b4;stroke:#1f77b4;\" x=\"345.890229\" xlink:href=\"#mf7e3958e73\" y=\"53.016771\"/>\r\n     <use style=\"fill:#1f77b4;stroke:#1f77b4;\" x=\"381.522798\" xlink:href=\"#mf7e3958e73\" y=\"205.792183\"/>\r\n     <use style=\"fill:#1f77b4;stroke:#1f77b4;\" x=\"270.723716\" xlink:href=\"#mf7e3958e73\" y=\"114.160624\"/>\r\n     <use style=\"fill:#1f77b4;stroke:#1f77b4;\" x=\"216.10445\" xlink:href=\"#mf7e3958e73\" y=\"53.858972\"/>\r\n     <use style=\"fill:#1f77b4;stroke:#1f77b4;\" x=\"309.737477\" xlink:href=\"#mf7e3958e73\" y=\"258.514018\"/>\r\n     <use style=\"fill:#1f77b4;stroke:#1f77b4;\" x=\"306.356284\" xlink:href=\"#mf7e3958e73\" y=\"323.868881\"/>\r\n     <use style=\"fill:#1f77b4;stroke:#1f77b4;\" x=\"175.790229\" xlink:href=\"#mf7e3958e73\" y=\"132.352183\"/>\r\n     <use style=\"fill:#1f77b4;stroke:#1f77b4;\" x=\"288.54\" xlink:href=\"#mf7e3958e73\" y=\"31.085835\"/>\r\n     <use style=\"fill:#1f77b4;stroke:#1f77b4;\" x=\"214.413853\" xlink:href=\"#mf7e3958e73\" y=\"134.676661\"/>\r\n     <use style=\"fill:#1f77b4;stroke:#1f77b4;\" x=\"334.056055\" xlink:href=\"#mf7e3958e73\" y=\"254.774642\"/>\r\n     <use style=\"fill:#1f77b4;stroke:#1f77b4;\" x=\"319.751009\" xlink:href=\"#mf7e3958e73\" y=\"212.832991\"/>\r\n     <use style=\"fill:#1f77b4;stroke:#1f77b4;\" x=\"376.711101\" xlink:href=\"#mf7e3958e73\" y=\"170.722899\"/>\r\n     <use style=\"fill:#1f77b4;stroke:#1f77b4;\" x=\"299.723945\" xlink:href=\"#mf7e3958e73\" y=\"107.726202\"/>\r\n     <use style=\"fill:#1f77b4;stroke:#1f77b4;\" x=\"267.992752\" xlink:href=\"#mf7e3958e73\" y=\"114.800697\"/>\r\n     <use style=\"fill:#1f77b4;stroke:#1f77b4;\" x=\"252.647339\" xlink:href=\"#mf7e3958e73\" y=\"222.602532\"/>\r\n     <use style=\"fill:#1f77b4;stroke:#1f77b4;\" x=\"232.880367\" xlink:href=\"#mf7e3958e73\" y=\"305.306752\"/>\r\n     <use style=\"fill:#1f77b4;stroke:#1f77b4;\" x=\"185.283578\" xlink:href=\"#mf7e3958e73\" y=\"226.645101\"/>\r\n     <use style=\"fill:#1f77b4;stroke:#1f77b4;\" x=\"220.682064\" xlink:href=\"#mf7e3958e73\" y=\"254.976771\"/>\r\n     <use style=\"fill:#1f77b4;stroke:#1f77b4;\" x=\"295.848578\" xlink:href=\"#mf7e3958e73\" y=\"235.774569\"/>\r\n     <use style=\"fill:#1f77b4;stroke:#1f77b4;\" x=\"271.139862\" xlink:href=\"#mf7e3958e73\" y=\"300.118789\"/>\r\n     <use style=\"fill:#1f77b4;stroke:#1f77b4;\" x=\"306.252248\" xlink:href=\"#mf7e3958e73\" y=\"41.225945\"/>\r\n     <use style=\"fill:#1f77b4;stroke:#1f77b4;\" x=\"393.382982\" xlink:href=\"#mf7e3958e73\" y=\"112.139339\"/>\r\n     <use style=\"fill:#1f77b4;stroke:#1f77b4;\" x=\"261.256376\" xlink:href=\"#mf7e3958e73\" y=\"197.707046\"/>\r\n     <use style=\"fill:#1f77b4;stroke:#1f77b4;\" x=\"251.893073\" xlink:href=\"#mf7e3958e73\" y=\"47.289798\"/>\r\n     <use style=\"fill:#1f77b4;stroke:#1f77b4;\" x=\"277.382064\" xlink:href=\"#mf7e3958e73\" y=\"181.536771\"/>\r\n     <use style=\"fill:#1f77b4;stroke:#1f77b4;\" x=\"275.821514\" xlink:href=\"#mf7e3958e73\" y=\"287.991083\"/>\r\n     <use style=\"fill:#1f77b4;stroke:#1f77b4;\" x=\"218.341239\" xlink:href=\"#mf7e3958e73\" y=\"122.414202\"/>\r\n     <use style=\"fill:#1f77b4;stroke:#1f77b4;\" x=\"156.595459\" xlink:href=\"#mf7e3958e73\" y=\"235.286092\"/>\r\n     <use style=\"fill:#1f77b4;stroke:#1f77b4;\" x=\"169.339954\" xlink:href=\"#mf7e3958e73\" y=\"107.608294\"/>\r\n     <use style=\"fill:#1f77b4;stroke:#1f77b4;\" x=\"343.861514\" xlink:href=\"#mf7e3958e73\" y=\"247.750679\"/>\r\n     <use style=\"fill:#1f77b4;stroke:#1f77b4;\" x=\"382.355092\" xlink:href=\"#mf7e3958e73\" y=\"112.998385\"/>\r\n     <use style=\"fill:#1f77b4;stroke:#1f77b4;\" x=\"249.188119\" xlink:href=\"#mf7e3958e73\" y=\"177.342606\"/>\r\n     <use style=\"fill:#1f77b4;stroke:#1f77b4;\" x=\"338.659679\" xlink:href=\"#mf7e3958e73\" y=\"221.137101\"/>\r\n     <use style=\"fill:#1f77b4;stroke:#1f77b4;\" x=\"352.704633\" xlink:href=\"#mf7e3958e73\" y=\"71.562055\"/>\r\n     <use style=\"fill:#1f77b4;stroke:#1f77b4;\" x=\"299.385826\" xlink:href=\"#mf7e3958e73\" y=\"48.654165\"/>\r\n     <use style=\"fill:#1f77b4;stroke:#1f77b4;\" x=\"253.089495\" xlink:href=\"#mf7e3958e73\" y=\"307.378569\"/>\r\n     <use style=\"fill:#1f77b4;stroke:#1f77b4;\" x=\"226.820229\" xlink:href=\"#mf7e3958e73\" y=\"251.456367\"/>\r\n     <use style=\"fill:#1f77b4;stroke:#1f77b4;\" x=\"277.460092\" xlink:href=\"#mf7e3958e73\" y=\"293.852807\"/>\r\n     <use style=\"fill:#1f77b4;stroke:#1f77b4;\" x=\"251.971101\" xlink:href=\"#mf7e3958e73\" y=\"110.926569\"/>\r\n     <use style=\"fill:#1f77b4;stroke:#1f77b4;\" x=\"240.006881\" xlink:href=\"#mf7e3958e73\" y=\"257.806569\"/>\r\n     <use style=\"fill:#1f77b4;stroke:#1f77b4;\" x=\"296.186697\" xlink:href=\"#mf7e3958e73\" y=\"69.153358\"/>\r\n     <use style=\"fill:#1f77b4;stroke:#1f77b4;\" x=\"182.266514\" xlink:href=\"#mf7e3958e73\" y=\"217.044\"/>\r\n     <use style=\"fill:#1f77b4;stroke:#1f77b4;\" x=\"400.743578\" xlink:href=\"#mf7e3958e73\" y=\"232.203633\"/>\r\n     <use style=\"fill:#1f77b4;stroke:#1f77b4;\" x=\"227.002294\" xlink:href=\"#mf7e3958e73\" y=\"230.68767\"/>\r\n     <use style=\"fill:#1f77b4;stroke:#1f77b4;\" x=\"328.438073\" xlink:href=\"#mf7e3958e73\" y=\"48.940514\"/>\r\n     <use style=\"fill:#1f77b4;stroke:#1f77b4;\" x=\"258.213303\" xlink:href=\"#mf7e3958e73\" y=\"197.504917\"/>\r\n     <use style=\"fill:#1f77b4;stroke:#1f77b4;\" x=\"309.711468\" xlink:href=\"#mf7e3958e73\" y=\"123.054275\"/>\r\n     <use style=\"fill:#1f77b4;stroke:#1f77b4;\" x=\"331.533165\" xlink:href=\"#mf7e3958e73\" y=\"149.617321\"/>\r\n     <use style=\"fill:#1f77b4;stroke:#1f77b4;\" x=\"296.42078\" xlink:href=\"#mf7e3958e73\" y=\"189.706128\"/>\r\n     <use style=\"fill:#1f77b4;stroke:#1f77b4;\" x=\"180.940046\" xlink:href=\"#mf7e3958e73\" y=\"86.789064\"/>\r\n     <use style=\"fill:#1f77b4;stroke:#1f77b4;\" x=\"312.80656\" xlink:href=\"#mf7e3958e73\" y=\"253.376587\"/>\r\n     <use style=\"fill:#1f77b4;stroke:#1f77b4;\" x=\"158.572156\" xlink:href=\"#mf7e3958e73\" y=\"198.465028\"/>\r\n     <use style=\"fill:#1f77b4;stroke:#1f77b4;\" x=\"343.757477\" xlink:href=\"#mf7e3958e73\" y=\"310.814752\"/>\r\n     <use style=\"fill:#1f77b4;stroke:#1f77b4;\" x=\"337.775367\" xlink:href=\"#mf7e3958e73\" y=\"85.273101\"/>\r\n     <use style=\"fill:#1f77b4;stroke:#1f77b4;\" x=\"287.057477\" xlink:href=\"#mf7e3958e73\" y=\"171.177688\"/>\r\n     <use style=\"fill:#1f77b4;stroke:#1f77b4;\" x=\"299.801972\" xlink:href=\"#mf7e3958e73\" y=\"31.035303\"/>\r\n     <use style=\"fill:#1f77b4;stroke:#1f77b4;\" x=\"223.335\" xlink:href=\"#mf7e3958e73\" y=\"304.919339\"/>\r\n     <use style=\"fill:#1f77b4;stroke:#1f77b4;\" x=\"324.77078\" xlink:href=\"#mf7e3958e73\" y=\"302.055853\"/>\r\n     <use style=\"fill:#1f77b4;stroke:#1f77b4;\" x=\"321.129495\" xlink:href=\"#mf7e3958e73\" y=\"55.459156\"/>\r\n     <use style=\"fill:#1f77b4;stroke:#1f77b4;\" x=\"257.927202\" xlink:href=\"#mf7e3958e73\" y=\"279.484844\"/>\r\n     <use style=\"fill:#1f77b4;stroke:#1f77b4;\" x=\"289.398303\" xlink:href=\"#mf7e3958e73\" y=\"278.811083\"/>\r\n     <use style=\"fill:#1f77b4;stroke:#1f77b4;\" x=\"235.29922\" xlink:href=\"#mf7e3958e73\" y=\"184.821358\"/>\r\n     <use style=\"fill:#1f77b4;stroke:#1f77b4;\" x=\"337.255183\" xlink:href=\"#mf7e3958e73\" y=\"164.945394\"/>\r\n     <use style=\"fill:#1f77b4;stroke:#1f77b4;\" x=\"338.29555\" xlink:href=\"#mf7e3958e73\" y=\"151.807046\"/>\r\n     <use style=\"fill:#1f77b4;stroke:#1f77b4;\" x=\"209.290046\" xlink:href=\"#mf7e3958e73\" y=\"108.686312\"/>\r\n     <use style=\"fill:#1f77b4;stroke:#1f77b4;\" x=\"148.428578\" xlink:href=\"#mf7e3958e73\" y=\"177.746862\"/>\r\n     <use style=\"fill:#1f77b4;stroke:#1f77b4;\" x=\"310.205642\" xlink:href=\"#mf7e3958e73\" y=\"77.356404\"/>\r\n     <use style=\"fill:#1f77b4;stroke:#1f77b4;\" x=\"201.955459\" xlink:href=\"#mf7e3958e73\" y=\"290.938789\"/>\r\n     <use style=\"fill:#1f77b4;stroke:#1f77b4;\" x=\"159.820596\" xlink:href=\"#mf7e3958e73\" y=\"190.885211\"/>\r\n     <use style=\"fill:#1f77b4;stroke:#1f77b4;\" x=\"183.749037\" xlink:href=\"#mf7e3958e73\" y=\"79.040807\"/>\r\n     <use style=\"fill:#1f77b4;stroke:#1f77b4;\" x=\"368.414174\" xlink:href=\"#mf7e3958e73\" y=\"284.538055\"/>\r\n     <use style=\"fill:#1f77b4;stroke:#1f77b4;\" x=\"365.032982\" xlink:href=\"#mf7e3958e73\" y=\"172.18833\"/>\r\n     <use style=\"fill:#1f77b4;stroke:#1f77b4;\" x=\"290.386651\" xlink:href=\"#mf7e3958e73\" y=\"72.808514\"/>\r\n     <use style=\"fill:#1f77b4;stroke:#1f77b4;\" x=\"290.906835\" xlink:href=\"#mf7e3958e73\" y=\"310.477872\"/>\r\n     <use style=\"fill:#1f77b4;stroke:#1f77b4;\" x=\"315.355459\" xlink:href=\"#mf7e3958e73\" y=\"22.781725\"/>\r\n     <use style=\"fill:#1f77b4;stroke:#1f77b4;\" x=\"248.771972\" xlink:href=\"#mf7e3958e73\" y=\"186.505761\"/>\r\n     <use style=\"fill:#1f77b4;stroke:#1f77b4;\" x=\"347.606835\" xlink:href=\"#mf7e3958e73\" y=\"171.009248\"/>\r\n     <use style=\"fill:#1f77b4;stroke:#1f77b4;\" x=\"309.191284\" xlink:href=\"#mf7e3958e73\" y=\"326.294422\"/>\r\n     <use style=\"fill:#1f77b4;stroke:#1f77b4;\" x=\"285.262844\" xlink:href=\"#mf7e3958e73\" y=\"52.747266\"/>\r\n     <use style=\"fill:#1f77b4;stroke:#1f77b4;\" x=\"309.191284\" xlink:href=\"#mf7e3958e73\" y=\"63.69589\"/>\r\n     <use style=\"fill:#1f77b4;stroke:#1f77b4;\" x=\"217.638991\" xlink:href=\"#mf7e3958e73\" y=\"72.623229\"/>\r\n     <use style=\"fill:#1f77b4;stroke:#1f77b4;\" x=\"211.656881\" xlink:href=\"#mf7e3958e73\" y=\"279.63644\"/>\r\n     <use style=\"fill:#1f77b4;stroke:#1f77b4;\" x=\"324.276606\" xlink:href=\"#mf7e3958e73\" y=\"309.113505\"/>\r\n     <use style=\"fill:#1f77b4;stroke:#1f77b4;\" x=\"336.240826\" xlink:href=\"#mf7e3958e73\" y=\"204.343596\"/>\r\n     <use style=\"fill:#1f77b4;stroke:#1f77b4;\" x=\"380.19633\" xlink:href=\"#mf7e3958e73\" y=\"113.891119\"/>\r\n     <use style=\"fill:#1f77b4;stroke:#1f77b4;\" x=\"158.858257\" xlink:href=\"#mf7e3958e73\" y=\"172.003046\"/>\r\n     <use style=\"fill:#1f77b4;stroke:#1f77b4;\" x=\"239.486697\" xlink:href=\"#mf7e3958e73\" y=\"186.825798\"/>\r\n     <use style=\"fill:#1f77b4;stroke:#1f77b4;\" x=\"312.052294\" xlink:href=\"#mf7e3958e73\" y=\"30.631046\"/>\r\n     <use style=\"fill:#1f77b4;stroke:#1f77b4;\" x=\"319.855046\" xlink:href=\"#mf7e3958e73\" y=\"72.909578\"/>\r\n     <use style=\"fill:#1f77b4;stroke:#1f77b4;\" x=\"330.258716\" xlink:href=\"#mf7e3958e73\" y=\"233.433248\"/>\r\n     <use style=\"fill:#1f77b4;stroke:#1f77b4;\" x=\"358.868807\" xlink:href=\"#mf7e3958e73\" y=\"186.606826\"/>\r\n     <use style=\"fill:#1f77b4;stroke:#1f77b4;\" x=\"210.356422\" xlink:href=\"#mf7e3958e73\" y=\"265.100037\"/>\r\n     <use style=\"fill:#1f77b4;stroke:#1f77b4;\" x=\"184.607339\" xlink:href=\"#mf7e3958e73\" y=\"158.982606\"/>\r\n     <use style=\"fill:#1f77b4;stroke:#1f77b4;\" x=\"208.53578\" xlink:href=\"#mf7e3958e73\" y=\"50.507009\"/>\r\n     <use style=\"fill:#1f77b4;stroke:#1f77b4;\" x=\"250.150459\" xlink:href=\"#mf7e3958e73\" y=\"159.993248\"/>\r\n     <use style=\"fill:#1f77b4;stroke:#1f77b4;\" x=\"278.76055\" xlink:href=\"#mf7e3958e73\" y=\"293.398018\"/>\r\n     <use style=\"fill:#1f77b4;stroke:#1f77b4;\" x=\"318.554587\" xlink:href=\"#mf7e3958e73\" y=\"329.612697\"/>\r\n     <use style=\"fill:#1f77b4;stroke:#1f77b4;\" x=\"242.607798\" xlink:href=\"#mf7e3958e73\" y=\"308.692404\"/>\r\n     <use style=\"fill:#1f77b4;stroke:#1f77b4;\" x=\"263.415138\" xlink:href=\"#mf7e3958e73\" y=\"66.475156\"/>\r\n     <use style=\"fill:#1f77b4;stroke:#1f77b4;\" x=\"219.719725\" xlink:href=\"#mf7e3958e73\" y=\"142.441761\"/>\r\n     <use style=\"fill:#1f77b4;stroke:#1f77b4;\" x=\"261.334404\" xlink:href=\"#mf7e3958e73\" y=\"207.965064\"/>\r\n     <use style=\"fill:#1f77b4;stroke:#1f77b4;\" x=\"269.917431\" xlink:href=\"#mf7e3958e73\" y=\"186.067817\"/>\r\n     <use style=\"fill:#1f77b4;stroke:#1f77b4;\" x=\"325.056881\" xlink:href=\"#mf7e3958e73\" y=\"153.895706\"/>\r\n     <use style=\"fill:#1f77b4;stroke:#1f77b4;\" x=\"318.034404\" xlink:href=\"#mf7e3958e73\" y=\"127.113688\"/>\r\n     <use style=\"fill:#1f77b4;stroke:#1f77b4;\" x=\"357.048165\" xlink:href=\"#mf7e3958e73\" y=\"106.900844\"/>\r\n     <use style=\"fill:#1f77b4;stroke:#1f77b4;\" x=\"311.792202\" xlink:href=\"#mf7e3958e73\" y=\"222.114055\"/>\r\n     <use style=\"fill:#1f77b4;stroke:#1f77b4;\" x=\"203.073853\" xlink:href=\"#mf7e3958e73\" y=\"259.507817\"/>\r\n     <use style=\"fill:#1f77b4;stroke:#1f77b4;\" x=\"194.67289\" xlink:href=\"#mf7e3958e73\" y=\"117.428367\"/>\r\n     <use style=\"fill:#1f77b4;stroke:#1f77b4;\" x=\"255.534358\" xlink:href=\"#mf7e3958e73\" y=\"174.192771\"/>\r\n     <use style=\"fill:#1f77b4;stroke:#1f77b4;\" x=\"364.252706\" xlink:href=\"#mf7e3958e73\" y=\"230.114972\"/>\r\n     <use style=\"fill:#1f77b4;stroke:#1f77b4;\" x=\"358.530688\" xlink:href=\"#mf7e3958e73\" y=\"119.618092\"/>\r\n     <use style=\"fill:#1f77b4;stroke:#1f77b4;\" x=\"255.534358\" xlink:href=\"#mf7e3958e73\" y=\"48.873138\"/>\r\n     <use style=\"fill:#1f77b4;stroke:#1f77b4;\" x=\"178.547202\" xlink:href=\"#mf7e3958e73\" y=\"226.746165\"/>\r\n     <use style=\"fill:#1f77b4;stroke:#1f77b4;\" x=\"298.969679\" xlink:href=\"#mf7e3958e73\" y=\"209.059927\"/>\r\n     <use style=\"fill:#1f77b4;stroke:#1f77b4;\" x=\"327.059587\" xlink:href=\"#mf7e3958e73\" y=\"51.062862\"/>\r\n     <use style=\"fill:#1f77b4;stroke:#1f77b4;\" x=\"302.610963\" xlink:href=\"#mf7e3958e73\" y=\"289.069101\"/>\r\n     <use style=\"fill:#1f77b4;stroke:#1f77b4;\" x=\"236.287569\" xlink:href=\"#mf7e3958e73\" y=\"315.008917\"/>\r\n     <use style=\"fill:#1f77b4;stroke:#1f77b4;\" x=\"257.459037\" xlink:href=\"#mf7e3958e73\" y=\"315.867963\"/>\r\n     <use style=\"fill:#1f77b4;stroke:#1f77b4;\" x=\"251.737018\" xlink:href=\"#mf7e3958e73\" y=\"37.436037\"/>\r\n     <use style=\"fill:#1f77b4;stroke:#1f77b4;\" x=\"186.714083\" xlink:href=\"#mf7e3958e73\" y=\"244.617688\"/>\r\n     <use style=\"fill:#1f77b4;stroke:#1f77b4;\" x=\"280.867294\" xlink:href=\"#mf7e3958e73\" y=\"117.950532\"/>\r\n     <use style=\"fill:#1f77b4;stroke:#1f77b4;\" x=\"259.019587\" xlink:href=\"#mf7e3958e73\" y=\"235.185028\"/>\r\n     <use style=\"fill:#1f77b4;stroke:#1f77b4;\" x=\"355.253532\" xlink:href=\"#mf7e3958e73\" y=\"218.00411\"/>\r\n     <use style=\"fill:#1f77b4;stroke:#1f77b4;\" x=\"323.522339\" xlink:href=\"#mf7e3958e73\" y=\"194.759339\"/>\r\n     <use style=\"fill:#1f77b4;stroke:#1f77b4;\" x=\"364.616835\" xlink:href=\"#mf7e3958e73\" y=\"72.640073\"/>\r\n     <use style=\"fill:#1f77b4;stroke:#1f77b4;\" x=\"307.396651\" xlink:href=\"#mf7e3958e73\" y=\"240.238239\"/>\r\n     <use style=\"fill:#1f77b4;stroke:#1f77b4;\" x=\"185.413624\" xlink:href=\"#mf7e3958e73\" y=\"104.475303\"/>\r\n     <use style=\"fill:#1f77b4;stroke:#1f77b4;\" x=\"253.661697\" xlink:href=\"#mf7e3958e73\" y=\"334.952257\"/>\r\n     <use style=\"fill:#1f77b4;stroke:#1f77b4;\" x=\"253.141514\" xlink:href=\"#mf7e3958e73\" y=\"279.366936\"/>\r\n     <use style=\"fill:#1f77b4;stroke:#1f77b4;\" x=\"231.293807\" xlink:href=\"#mf7e3958e73\" y=\"245.341982\"/>\r\n     <use style=\"fill:#1f77b4;stroke:#1f77b4;\" x=\"347.814908\" xlink:href=\"#mf7e3958e73\" y=\"60.394459\"/>\r\n     <use style=\"fill:#1f77b4;stroke:#1f77b4;\" x=\"219.849771\" xlink:href=\"#mf7e3958e73\" y=\"157.24767\"/>\r\n     <use style=\"fill:#1f77b4;stroke:#1f77b4;\" x=\"369.142431\" xlink:href=\"#mf7e3958e73\" y=\"98.125101\"/>\r\n     <use style=\"fill:#1f77b4;stroke:#1f77b4;\" x=\"207.105275\" xlink:href=\"#mf7e3958e73\" y=\"121.538312\"/>\r\n     <use style=\"fill:#1f77b4;stroke:#1f77b4;\" x=\"273.688761\" xlink:href=\"#mf7e3958e73\" y=\"336.29978\"/>\r\n     <use style=\"fill:#1f77b4;stroke:#1f77b4;\" x=\"283.052064\" xlink:href=\"#mf7e3958e73\" y=\"121.201431\"/>\r\n     <use style=\"fill:#1f77b4;stroke:#1f77b4;\" x=\"333.249771\" xlink:href=\"#mf7e3958e73\" y=\"26.706385\"/>\r\n     <use style=\"fill:#1f77b4;stroke:#1f77b4;\" x=\"252.725367\" xlink:href=\"#mf7e3958e73\" y=\"302.729615\"/>\r\n     <use style=\"fill:#1f77b4;stroke:#1f77b4;\" x=\"298.501514\" xlink:href=\"#mf7e3958e73\" y=\"31.203743\"/>\r\n     <use style=\"fill:#1f77b4;stroke:#1f77b4;\" x=\"214.751972\" xlink:href=\"#mf7e3958e73\" y=\"104.475303\"/>\r\n     <use style=\"fill:#1f77b4;stroke:#1f77b4;\" x=\"253.765734\" xlink:href=\"#mf7e3958e73\" y=\"116.603009\"/>\r\n     <use style=\"fill:#1f77b4;stroke:#1f77b4;\" x=\"249.084083\" xlink:href=\"#mf7e3958e73\" y=\"174.883376\"/>\r\n     <use style=\"fill:#1f77b4;stroke:#1f77b4;\" x=\"374.968486\" xlink:href=\"#mf7e3958e73\" y=\"220.362275\"/>\r\n     <use style=\"fill:#1f77b4;stroke:#1f77b4;\" x=\"344.797844\" xlink:href=\"#mf7e3958e73\" y=\"238.890716\"/>\r\n     <use style=\"fill:#1f77b4;stroke:#1f77b4;\" x=\"302.142798\" xlink:href=\"#mf7e3958e73\" y=\"110.202275\"/>\r\n     <use style=\"fill:#1f77b4;stroke:#1f77b4;\" x=\"298.501514\" xlink:href=\"#mf7e3958e73\" y=\"242.596404\"/>\r\n     <use style=\"fill:#1f77b4;stroke:#1f77b4;\" x=\"182.760688\" xlink:href=\"#mf7e3958e73\" y=\"239.227596\"/>\r\n     <use style=\"fill:#1f77b4;stroke:#1f77b4;\" x=\"203.17789\" xlink:href=\"#mf7e3958e73\" y=\"116.720917\"/>\r\n     <use style=\"fill:#1f77b4;stroke:#1f77b4;\" x=\"195.895321\" xlink:href=\"#mf7e3958e73\" y=\"250.79945\"/>\r\n     <use style=\"fill:#1f77b4;stroke:#1f77b4;\" x=\"378.219633\" xlink:href=\"#mf7e3958e73\" y=\"167.758349\"/>\r\n     <use style=\"fill:#1f77b4;stroke:#1f77b4;\" x=\"245.312752\" xlink:href=\"#mf7e3958e73\" y=\"248.104404\"/>\r\n     <use style=\"fill:#1f77b4;stroke:#1f77b4;\" x=\"374.578349\" xlink:href=\"#mf7e3958e73\" y=\"47.660367\"/>\r\n     <use style=\"fill:#1f77b4;stroke:#1f77b4;\" x=\"348.309083\" xlink:href=\"#mf7e3958e73\" y=\"103.91945\"/>\r\n     <use style=\"fill:#1f77b4;stroke:#1f77b4;\" x=\"261.43844\" xlink:href=\"#mf7e3958e73\" y=\"38.227706\"/>\r\n     <use style=\"fill:#1f77b4;stroke:#1f77b4;\" x=\"248.954037\" xlink:href=\"#mf7e3958e73\" y=\"188.139633\"/>\r\n     <use style=\"fill:#1f77b4;stroke:#1f77b4;\" x=\"260.398073\" xlink:href=\"#mf7e3958e73\" y=\"289.540734\"/>\r\n     <use style=\"fill:#1f77b4;stroke:#1f77b4;\" x=\"255.716422\" xlink:href=\"#mf7e3958e73\" y=\"330.303303\"/>\r\n     <use style=\"fill:#1f77b4;stroke:#1f77b4;\" x=\"286.433257\" xlink:href=\"#mf7e3958e73\" y=\"333.520514\"/>\r\n     <use style=\"fill:#1f77b4;stroke:#1f77b4;\" x=\"173.55344\" xlink:href=\"#mf7e3958e73\" y=\"232.456294\"/>\r\n     <use style=\"fill:#1f77b4;stroke:#1f77b4;\" x=\"266.406193\" xlink:href=\"#mf7e3958e73\" y=\"232.287853\"/>\r\n     <use style=\"fill:#1f77b4;stroke:#1f77b4;\" x=\"382.147018\" xlink:href=\"#mf7e3958e73\" y=\"45.655927\"/>\r\n     <use style=\"fill:#1f77b4;stroke:#1f77b4;\" x=\"236.755734\" xlink:href=\"#mf7e3958e73\" y=\"137.287486\"/>\r\n     <use style=\"fill:#1f77b4;stroke:#1f77b4;\" x=\"371.223165\" xlink:href=\"#mf7e3958e73\" y=\"207.527119\"/>\r\n     <use style=\"fill:#1f77b4;stroke:#1f77b4;\" x=\"155.867202\" xlink:href=\"#mf7e3958e73\" y=\"142.172257\"/>\r\n     <use style=\"fill:#1f77b4;stroke:#1f77b4;\" x=\"337.67133\" xlink:href=\"#mf7e3958e73\" y=\"123.475376\"/>\r\n     <use style=\"fill:#1f77b4;stroke:#1f77b4;\" x=\"314.002982\" xlink:href=\"#mf7e3958e73\" y=\"270.860697\"/>\r\n     <use style=\"fill:#1f77b4;stroke:#1f77b4;\" x=\"247.939679\" xlink:href=\"#mf7e3958e73\" y=\"55.930789\"/>\r\n     <use style=\"fill:#1f77b4;stroke:#1f77b4;\" x=\"206.533073\" xlink:href=\"#mf7e3958e73\" y=\"128.865468\"/>\r\n     <use style=\"fill:#1f77b4;stroke:#1f77b4;\" x=\"277.278028\" xlink:href=\"#mf7e3958e73\" y=\"154.636844\"/>\r\n     <use style=\"fill:#1f77b4;stroke:#1f77b4;\" x=\"324.614725\" xlink:href=\"#mf7e3958e73\" y=\"54.414826\"/>\r\n     <use style=\"fill:#1f77b4;stroke:#1f77b4;\" x=\"362.328028\" xlink:href=\"#mf7e3958e73\" y=\"218.644183\"/>\r\n     <use style=\"fill:#1f77b4;stroke:#1f77b4;\" x=\"258.551422\" xlink:href=\"#mf7e3958e73\" y=\"42.45556\"/>\r\n     <use style=\"fill:#1f77b4;stroke:#1f77b4;\" x=\"192.228028\" xlink:href=\"#mf7e3958e73\" y=\"230.435009\"/>\r\n     <use style=\"fill:#1f77b4;stroke:#1f77b4;\" x=\"276.757844\" xlink:href=\"#mf7e3958e73\" y=\"239.86767\"/>\r\n     <use style=\"fill:#1f77b4;stroke:#1f77b4;\" x=\"321.233532\" xlink:href=\"#mf7e3958e73\" y=\"282.651523\"/>\r\n     <use style=\"fill:#1f77b4;stroke:#1f77b4;\" x=\"281.439495\" xlink:href=\"#mf7e3958e73\" y=\"112.863633\"/>\r\n     <use style=\"fill:#1f77b4;stroke:#1f77b4;\" x=\"271.035826\" xlink:href=\"#mf7e3958e73\" y=\"316.339596\"/>\r\n     <use style=\"fill:#1f77b4;stroke:#1f77b4;\" x=\"282.323807\" xlink:href=\"#mf7e3958e73\" y=\"324.357358\"/>\r\n     <use style=\"fill:#1f77b4;stroke:#1f77b4;\" x=\"251.37289\" xlink:href=\"#mf7e3958e73\" y=\"244.179743\"/>\r\n     <use style=\"fill:#1f77b4;stroke:#1f77b4;\" x=\"206.377018\" xlink:href=\"#mf7e3958e73\" y=\"219.92433\"/>\r\n     <use style=\"fill:#1f77b4;stroke:#1f77b4;\" x=\"324.978853\" xlink:href=\"#mf7e3958e73\" y=\"104.374239\"/>\r\n     <use style=\"fill:#1f77b4;stroke:#1f77b4;\" x=\"264.377477\" xlink:href=\"#mf7e3958e73\" y=\"135.198826\"/>\r\n     <use style=\"fill:#1f77b4;stroke:#1f77b4;\" x=\"307.812798\" xlink:href=\"#mf7e3958e73\" y=\"110.774972\"/>\r\n     <use style=\"fill:#1f77b4;stroke:#1f77b4;\" x=\"214.960046\" xlink:href=\"#mf7e3958e73\" y=\"114.649101\"/>\r\n     <use style=\"fill:#1f77b4;stroke:#1f77b4;\" x=\"304.951789\" xlink:href=\"#mf7e3958e73\" y=\"203.922495\"/>\r\n     <use style=\"fill:#1f77b4;stroke:#1f77b4;\" x=\"330.44078\" xlink:href=\"#mf7e3958e73\" y=\"286.458275\"/>\r\n     <use style=\"fill:#1f77b4;stroke:#1f77b4;\" x=\"284.404541\" xlink:href=\"#mf7e3958e73\" y=\"37.334972\"/>\r\n     <use style=\"fill:#1f77b4;stroke:#1f77b4;\" x=\"220.968165\" xlink:href=\"#mf7e3958e73\" y=\"194.944624\"/>\r\n     <use style=\"fill:#1f77b4;stroke:#1f77b4;\" x=\"279.228716\" xlink:href=\"#mf7e3958e73\" y=\"218.189394\"/>\r\n     <use style=\"fill:#1f77b4;stroke:#1f77b4;\" x=\"347.632844\" xlink:href=\"#mf7e3958e73\" y=\"79.562972\"/>\r\n     <use style=\"fill:#1f77b4;stroke:#1f77b4;\" x=\"267.004404\" xlink:href=\"#mf7e3958e73\" y=\"38.631963\"/>\r\n     <use style=\"fill:#1f77b4;stroke:#1f77b4;\" x=\"339.57\" xlink:href=\"#mf7e3958e73\" y=\"230.653982\"/>\r\n     <use style=\"fill:#1f77b4;stroke:#1f77b4;\" x=\"210.044312\" xlink:href=\"#mf7e3958e73\" y=\"268.384624\"/>\r\n     <use style=\"fill:#1f77b4;stroke:#1f77b4;\" x=\"241.515413\" xlink:href=\"#mf7e3958e73\" y=\"115.10389\"/>\r\n     <use style=\"fill:#1f77b4;stroke:#1f77b4;\" x=\"195.999358\" xlink:href=\"#mf7e3958e73\" y=\"88.827193\"/>\r\n     <use style=\"fill:#1f77b4;stroke:#1f77b4;\" x=\"276.627798\" xlink:href=\"#mf7e3958e73\" y=\"318.579853\"/>\r\n     <use style=\"fill:#1f77b4;stroke:#1f77b4;\" x=\"393.408991\" xlink:href=\"#mf7e3958e73\" y=\"228.295817\"/>\r\n     <use style=\"fill:#1f77b4;stroke:#1f77b4;\" x=\"275.30133\" xlink:href=\"#mf7e3958e73\" y=\"49.513211\"/>\r\n     <use style=\"fill:#1f77b4;stroke:#1f77b4;\" x=\"194.152706\" xlink:href=\"#mf7e3958e73\" y=\"242.208991\"/>\r\n     <use style=\"fill:#1f77b4;stroke:#1f77b4;\" x=\"242.009587\" xlink:href=\"#mf7e3958e73\" y=\"140.80789\"/>\r\n     <use style=\"fill:#1f77b4;stroke:#1f77b4;\" x=\"181.668303\" xlink:href=\"#mf7e3958e73\" y=\"118.236881\"/>\r\n     <use style=\"fill:#1f77b4;stroke:#1f77b4;\" x=\"357.230229\" xlink:href=\"#mf7e3958e73\" y=\"164.557982\"/>\r\n     <use style=\"fill:#1f77b4;stroke:#1f77b4;\" x=\"321.597661\" xlink:href=\"#mf7e3958e73\" y=\"167.758349\"/>\r\n     <use style=\"fill:#1f77b4;stroke:#1f77b4;\" x=\"280.503165\" xlink:href=\"#mf7e3958e73\" y=\"218.290459\"/>\r\n     <use style=\"fill:#1f77b4;stroke:#1f77b4;\" x=\"338.763716\" xlink:href=\"#mf7e3958e73\" y=\"214.24789\"/>\r\n     <use style=\"fill:#1f77b4;stroke:#1f77b4;\" x=\"255.534358\" xlink:href=\"#mf7e3958e73\" y=\"312.111743\"/>\r\n     <use style=\"fill:#1f77b4;stroke:#1f77b4;\" x=\"325.238945\" xlink:href=\"#mf7e3958e73\" y=\"153.440917\"/>\r\n     <use style=\"fill:#1f77b4;stroke:#1f77b4;\" x=\"226.664174\" xlink:href=\"#mf7e3958e73\" y=\"64.049615\"/>\r\n     <use style=\"fill:#1f77b4;stroke:#1f77b4;\" x=\"178.28711\" xlink:href=\"#mf7e3958e73\" y=\"263.483009\"/>\r\n     <use style=\"fill:#1f77b4;stroke:#1f77b4;\" x=\"286.745367\" xlink:href=\"#mf7e3958e73\" y=\"342.313101\"/>\r\n     <use style=\"fill:#1f77b4;stroke:#1f77b4;\" x=\"326.799495\" xlink:href=\"#mf7e3958e73\" y=\"99.422092\"/>\r\n     <use style=\"fill:#1f77b4;stroke:#1f77b4;\" x=\"343.705459\" xlink:href=\"#mf7e3958e73\" y=\"278.642642\"/>\r\n     <use style=\"fill:#1f77b4;stroke:#1f77b4;\" x=\"200.394908\" xlink:href=\"#mf7e3958e73\" y=\"161.071266\"/>\r\n     <use style=\"fill:#1f77b4;stroke:#1f77b4;\" x=\"302.871055\" xlink:href=\"#mf7e3958e73\" y=\"43.836771\"/>\r\n     <use style=\"fill:#1f77b4;stroke:#1f77b4;\" x=\"269.31922\" xlink:href=\"#mf7e3958e73\" y=\"243.270165\"/>\r\n     <use style=\"fill:#1f77b4;stroke:#1f77b4;\" x=\"362.432064\" xlink:href=\"#mf7e3958e73\" y=\"135.46833\"/>\r\n     <use style=\"fill:#1f77b4;stroke:#1f77b4;\" x=\"274.781147\" xlink:href=\"#mf7e3958e73\" y=\"149.617321\"/>\r\n     <use style=\"fill:#1f77b4;stroke:#1f77b4;\" x=\"240.839174\" xlink:href=\"#mf7e3958e73\" y=\"342.178349\"/>\r\n     <use style=\"fill:#1f77b4;stroke:#1f77b4;\" x=\"264.507523\" xlink:href=\"#mf7e3958e73\" y=\"183.507523\"/>\r\n     <use style=\"fill:#1f77b4;stroke:#1f77b4;\" x=\"364.122661\" xlink:href=\"#mf7e3958e73\" y=\"49.765872\"/>\r\n     <use style=\"fill:#1f77b4;stroke:#1f77b4;\" x=\"331.611193\" xlink:href=\"#mf7e3958e73\" y=\"257.789725\"/>\r\n     <use style=\"fill:#1f77b4;stroke:#1f77b4;\" x=\"292.337339\" xlink:href=\"#mf7e3958e73\" y=\"43.365138\"/>\r\n     <use style=\"fill:#1f77b4;stroke:#1f77b4;\" x=\"310.023578\" xlink:href=\"#mf7e3958e73\" y=\"71.494679\"/>\r\n     <use style=\"fill:#1f77b4;stroke:#1f77b4;\" x=\"261.12633\" xlink:href=\"#mf7e3958e73\" y=\"273.117798\"/>\r\n     <use style=\"fill:#1f77b4;stroke:#1f77b4;\" x=\"182.578624\" xlink:href=\"#mf7e3958e73\" y=\"257.958165\"/>\r\n     <use style=\"fill:#1f77b4;stroke:#1f77b4;\" x=\"176.336422\" xlink:href=\"#mf7e3958e73\" y=\"110.404404\"/>\r\n     <use style=\"fill:#1f77b4;stroke:#1f77b4;\" x=\"348.517156\" xlink:href=\"#mf7e3958e73\" y=\"191.592661\"/>\r\n     <use style=\"fill:#1f77b4;stroke:#1f77b4;\" x=\"285.028761\" xlink:href=\"#mf7e3958e73\" y=\"45.58855\"/>\r\n     <use style=\"fill:#1f77b4;stroke:#1f77b4;\" x=\"182.032431\" xlink:href=\"#mf7e3958e73\" y=\"105.21644\"/>\r\n     <use style=\"fill:#1f77b4;stroke:#1f77b4;\" x=\"345.630138\" xlink:href=\"#mf7e3958e73\" y=\"318.293505\"/>\r\n     <use style=\"fill:#1f77b4;stroke:#1f77b4;\" x=\"246.015\" xlink:href=\"#mf7e3958e73\" y=\"141.262679\"/>\r\n     <use style=\"fill:#1f77b4;stroke:#1f77b4;\" x=\"364.616835\" xlink:href=\"#mf7e3958e73\" y=\"187.75222\"/>\r\n     <use style=\"fill:#1f77b4;stroke:#1f77b4;\" x=\"381.262706\" xlink:href=\"#mf7e3958e73\" y=\"92.414972\"/>\r\n     <use style=\"fill:#1f77b4;stroke:#1f77b4;\" x=\"355.773716\" xlink:href=\"#mf7e3958e73\" y=\"71.528367\"/>\r\n     <use style=\"fill:#1f77b4;stroke:#1f77b4;\" x=\"251.476927\" xlink:href=\"#mf7e3958e73\" y=\"220.598092\"/>\r\n     <use style=\"fill:#1f77b4;stroke:#1f77b4;\" x=\"202.579679\" xlink:href=\"#mf7e3958e73\" y=\"331.431853\"/>\r\n     <use style=\"fill:#1f77b4;stroke:#1f77b4;\" x=\"157.583807\" xlink:href=\"#mf7e3958e73\" y=\"267.087633\"/>\r\n     <use style=\"fill:#1f77b4;stroke:#1f77b4;\" x=\"258.733486\" xlink:href=\"#mf7e3958e73\" y=\"331.313945\"/>\r\n     <use style=\"fill:#1f77b4;stroke:#1f77b4;\" x=\"158.077982\" xlink:href=\"#mf7e3958e73\" y=\"176.685688\"/>\r\n     <use style=\"fill:#1f77b4;stroke:#1f77b4;\" x=\"166.661009\" xlink:href=\"#mf7e3958e73\" y=\"293.246422\"/>\r\n     <use style=\"fill:#1f77b4;stroke:#1f77b4;\" x=\"403.864679\" xlink:href=\"#mf7e3958e73\" y=\"88.759817\"/>\r\n     <use style=\"fill:#1f77b4;stroke:#1f77b4;\" x=\"286.043119\" xlink:href=\"#mf7e3958e73\" y=\"215.258532\"/>\r\n     <use style=\"fill:#1f77b4;stroke:#1f77b4;\" x=\"391.380275\" xlink:href=\"#mf7e3958e73\" y=\"99.54\"/>\r\n     <use style=\"fill:#1f77b4;stroke:#1f77b4;\" x=\"338.32156\" xlink:href=\"#mf7e3958e73\" y=\"281.118716\"/>\r\n     <use style=\"fill:#1f77b4;stroke:#1f77b4;\" x=\"267.056422\" xlink:href=\"#mf7e3958e73\" y=\"42.270275\"/>\r\n     <use style=\"fill:#1f77b4;stroke:#1f77b4;\" x=\"294.366055\" xlink:href=\"#mf7e3958e73\" y=\"165.231743\"/>\r\n     <use style=\"fill:#1f77b4;stroke:#1f77b4;\" x=\"207.495413\" xlink:href=\"#mf7e3958e73\" y=\"87.749174\"/>\r\n     <use style=\"fill:#1f77b4;stroke:#1f77b4;\" x=\"275.821514\" xlink:href=\"#mf7e3958e73\" y=\"16.431523\"/>\r\n     <use style=\"fill:#1f77b4;stroke:#1f77b4;\" x=\"202.995826\" xlink:href=\"#mf7e3958e73\" y=\"224.455376\"/>\r\n     <use style=\"fill:#1f77b4;stroke:#1f77b4;\" x=\"215.480229\" xlink:href=\"#mf7e3958e73\" y=\"136.024183\"/>\r\n     <use style=\"fill:#1f77b4;stroke:#1f77b4;\" x=\"278.162339\" xlink:href=\"#mf7e3958e73\" y=\"218.391523\"/>\r\n     <use style=\"fill:#1f77b4;stroke:#1f77b4;\" x=\"257.615092\" xlink:href=\"#mf7e3958e73\" y=\"169.038495\"/>\r\n     <use style=\"fill:#1f77b4;stroke:#1f77b4;\" x=\"342.925183\" xlink:href=\"#mf7e3958e73\" y=\"123.559596\"/>\r\n     <use style=\"fill:#1f77b4;stroke:#1f77b4;\" x=\"234.206835\" xlink:href=\"#mf7e3958e73\" y=\"129.62345\"/>\r\n     <use style=\"fill:#1f77b4;stroke:#1f77b4;\" x=\"333.041697\" xlink:href=\"#mf7e3958e73\" y=\"251.237394\"/>\r\n     <use style=\"fill:#1f77b4;stroke:#1f77b4;\" x=\"292.727477\" xlink:href=\"#mf7e3958e73\" y=\"299.074459\"/>\r\n     <use style=\"fill:#1f77b4;stroke:#1f77b4;\" x=\"339.023807\" xlink:href=\"#mf7e3958e73\" y=\"213.338312\"/>\r\n     <use style=\"fill:#1f77b4;stroke:#1f77b4;\" x=\"344.277661\" xlink:href=\"#mf7e3958e73\" y=\"349.101248\"/>\r\n     <use style=\"fill:#1f77b4;stroke:#1f77b4;\" x=\"244.922615\" xlink:href=\"#mf7e3958e73\" y=\"63.426385\"/>\r\n     <use style=\"fill:#1f77b4;stroke:#1f77b4;\" x=\"180.159771\" xlink:href=\"#mf7e3958e73\" y=\"190.935743\"/>\r\n     <use style=\"fill:#1f77b4;stroke:#1f77b4;\" x=\"219.953807\" xlink:href=\"#mf7e3958e73\" y=\"305.980514\"/>\r\n     <use style=\"fill:#1f77b4;stroke:#1f77b4;\" x=\"396.296009\" xlink:href=\"#mf7e3958e73\" y=\"124.738679\"/>\r\n     <use style=\"fill:#1f77b4;stroke:#1f77b4;\" x=\"236.079495\" xlink:href=\"#mf7e3958e73\" y=\"215.359596\"/>\r\n     <use style=\"fill:#1f77b4;stroke:#1f77b4;\" x=\"348.959312\" xlink:href=\"#mf7e3958e73\" y=\"68.311156\"/>\r\n     <use style=\"fill:#1f77b4;stroke:#1f77b4;\" x=\"344.017569\" xlink:href=\"#mf7e3958e73\" y=\"282.230422\"/>\r\n     <use style=\"fill:#1f77b4;stroke:#1f77b4;\" x=\"252.725367\" xlink:href=\"#mf7e3958e73\" y=\"98.125101\"/>\r\n     <use style=\"fill:#1f77b4;stroke:#1f77b4;\" x=\"204.608394\" xlink:href=\"#mf7e3958e73\" y=\"82.965468\"/>\r\n     <use style=\"fill:#1f77b4;stroke:#1f77b4;\" x=\"271.087844\" xlink:href=\"#mf7e3958e73\" y=\"43.078789\"/>\r\n     <use style=\"fill:#1f77b4;stroke:#1f77b4;\" x=\"214.908028\" xlink:href=\"#mf7e3958e73\" y=\"123.593284\"/>\r\n     <use style=\"fill:#1f77b4;stroke:#1f77b4;\" x=\"299.177752\" xlink:href=\"#mf7e3958e73\" y=\"207.139706\"/>\r\n     <use style=\"fill:#1f77b4;stroke:#1f77b4;\" x=\"302.819037\" xlink:href=\"#mf7e3958e73\" y=\"140.437321\"/>\r\n     <use style=\"fill:#1f77b4;stroke:#1f77b4;\" x=\"354.05711\" xlink:href=\"#mf7e3958e73\" y=\"72.387413\"/>\r\n     <use style=\"fill:#1f77b4;stroke:#1f77b4;\" x=\"322.065826\" xlink:href=\"#mf7e3958e73\" y=\"271.820807\"/>\r\n     <use style=\"fill:#1f77b4;stroke:#1f77b4;\" x=\"253.921789\" xlink:href=\"#mf7e3958e73\" y=\"157.955119\"/>\r\n     <use style=\"fill:#1f77b4;stroke:#1f77b4;\" x=\"190.979587\" xlink:href=\"#mf7e3958e73\" y=\"238.806495\"/>\r\n     <use style=\"fill:#1f77b4;stroke:#1f77b4;\" x=\"316.343807\" xlink:href=\"#mf7e3958e73\" y=\"193.496037\"/>\r\n     <use style=\"fill:#1f77b4;stroke:#1f77b4;\" x=\"246.63922\" xlink:href=\"#mf7e3958e73\" y=\"332.459339\"/>\r\n     <use style=\"fill:#1f77b4;stroke:#1f77b4;\" x=\"244.012294\" xlink:href=\"#mf7e3958e73\" y=\"66.643596\"/>\r\n     <use style=\"fill:#1f77b4;stroke:#1f77b4;\" x=\"227.366422\" xlink:href=\"#mf7e3958e73\" y=\"269.445798\"/>\r\n     <use style=\"fill:#1f77b4;stroke:#1f77b4;\" x=\"303.833394\" xlink:href=\"#mf7e3958e73\" y=\"321.325431\"/>\r\n     <use style=\"fill:#1f77b4;stroke:#1f77b4;\" x=\"263.259083\" xlink:href=\"#mf7e3958e73\" y=\"91.572771\"/>\r\n     <use style=\"fill:#1f77b4;stroke:#1f77b4;\" x=\"383.421468\" xlink:href=\"#mf7e3958e73\" y=\"320.98855\"/>\r\n     <use style=\"fill:#1f77b4;stroke:#1f77b4;\" x=\"191.473761\" xlink:href=\"#mf7e3958e73\" y=\"150.86378\"/>\r\n     <use style=\"fill:#1f77b4;stroke:#1f77b4;\" x=\"307.994862\" xlink:href=\"#mf7e3958e73\" y=\"34.976807\"/>\r\n     <use style=\"fill:#1f77b4;stroke:#1f77b4;\" x=\"210.72055\" xlink:href=\"#mf7e3958e73\" y=\"134.693505\"/>\r\n     <use style=\"fill:#1f77b4;stroke:#1f77b4;\" x=\"369.376514\" xlink:href=\"#mf7e3958e73\" y=\"190.952587\"/>\r\n     <use style=\"fill:#1f77b4;stroke:#1f77b4;\" x=\"270.541651\" xlink:href=\"#mf7e3958e73\" y=\"199.711486\"/>\r\n     <use style=\"fill:#1f77b4;stroke:#1f77b4;\" x=\"278.968624\" xlink:href=\"#mf7e3958e73\" y=\"296.800514\"/>\r\n     <use style=\"fill:#1f77b4;stroke:#1f77b4;\" x=\"179.093394\" xlink:href=\"#mf7e3958e73\" y=\"223.360514\"/>\r\n     <use style=\"fill:#1f77b4;stroke:#1f77b4;\" x=\"337.749358\" xlink:href=\"#mf7e3958e73\" y=\"76.817394\"/>\r\n     <use style=\"fill:#1f77b4;stroke:#1f77b4;\" x=\"284.170459\" xlink:href=\"#mf7e3958e73\" y=\"109.494826\"/>\r\n     <use style=\"fill:#1f77b4;stroke:#1f77b4;\" x=\"321.62367\" xlink:href=\"#mf7e3958e73\" y=\"155.984367\"/>\r\n     <use style=\"fill:#1f77b4;stroke:#1f77b4;\" x=\"245.936972\" xlink:href=\"#mf7e3958e73\" y=\"171.817761\"/>\r\n     <use style=\"fill:#1f77b4;stroke:#1f77b4;\" x=\"313.820917\" xlink:href=\"#mf7e3958e73\" y=\"259.069872\"/>\r\n     <use style=\"fill:#1f77b4;stroke:#1f77b4;\" x=\"329.946606\" xlink:href=\"#mf7e3958e73\" y=\"312.297028\"/>\r\n     <use style=\"fill:#1f77b4;stroke:#1f77b4;\" x=\"268.044771\" xlink:href=\"#mf7e3958e73\" y=\"55.593908\"/>\r\n     <use style=\"fill:#1f77b4;stroke:#1f77b4;\" x=\"212.645229\" xlink:href=\"#mf7e3958e73\" y=\"119.938128\"/>\r\n     <use style=\"fill:#1f77b4;stroke:#1f77b4;\" x=\"297.539174\" xlink:href=\"#mf7e3958e73\" y=\"30.81633\"/>\r\n     <use style=\"fill:#1f77b4;stroke:#1f77b4;\" x=\"266.848349\" xlink:href=\"#mf7e3958e73\" y=\"236.482018\"/>\r\n     <use style=\"fill:#1f77b4;stroke:#1f77b4;\" x=\"345.396055\" xlink:href=\"#mf7e3958e73\" y=\"110.993945\"/>\r\n     <use style=\"fill:#1f77b4;stroke:#1f77b4;\" x=\"323.028165\" xlink:href=\"#mf7e3958e73\" y=\"250.79945\"/>\r\n     <use style=\"fill:#1f77b4;stroke:#1f77b4;\" x=\"185.179541\" xlink:href=\"#mf7e3958e73\" y=\"123.290092\"/>\r\n     <use style=\"fill:#1f77b4;stroke:#1f77b4;\" x=\"196.103394\" xlink:href=\"#mf7e3958e73\" y=\"251.978532\"/>\r\n     <use style=\"fill:#1f77b4;stroke:#1f77b4;\" x=\"308.983211\" xlink:href=\"#mf7e3958e73\" y=\"323.397248\"/>\r\n     <use style=\"fill:#1f77b4;stroke:#1f77b4;\" x=\"249.16211\" xlink:href=\"#mf7e3958e73\" y=\"204.141468\"/>\r\n     <use style=\"fill:#1f77b4;stroke:#1f77b4;\" x=\"361.521743\" xlink:href=\"#mf7e3958e73\" y=\"138.786606\"/>\r\n     <use style=\"fill:#1f77b4;stroke:#1f77b4;\" x=\"238.238257\" xlink:href=\"#mf7e3958e73\" y=\"110.488624\"/>\r\n     <use style=\"fill:#1f77b4;stroke:#1f77b4;\" x=\"150.067156\" xlink:href=\"#mf7e3958e73\" y=\"235.622972\"/>\r\n     <use style=\"fill:#1f77b4;stroke:#1f77b4;\" x=\"350.59789\" xlink:href=\"#mf7e3958e73\" y=\"190.649394\"/>\r\n     <use style=\"fill:#1f77b4;stroke:#1f77b4;\" x=\"280.893303\" xlink:href=\"#mf7e3958e73\" y=\"216.757651\"/>\r\n     <use style=\"fill:#1f77b4;stroke:#1f77b4;\" x=\"319.386881\" xlink:href=\"#mf7e3958e73\" y=\"62.971596\"/>\r\n     <use style=\"fill:#1f77b4;stroke:#1f77b4;\" x=\"359.441009\" xlink:href=\"#mf7e3958e73\" y=\"191.660037\"/>\r\n     <use style=\"fill:#1f77b4;stroke:#1f77b4;\" x=\"227.314404\" xlink:href=\"#mf7e3958e73\" y=\"119.56756\"/>\r\n     <use style=\"fill:#1f77b4;stroke:#1f77b4;\" x=\"232.77633\" xlink:href=\"#mf7e3958e73\" y=\"35.852697\"/>\r\n     <use style=\"fill:#1f77b4;stroke:#1f77b4;\" x=\"356.319908\" xlink:href=\"#mf7e3958e73\" y=\"302.325358\"/>\r\n     <use style=\"fill:#1f77b4;stroke:#1f77b4;\" x=\"146.16578\" xlink:href=\"#mf7e3958e73\" y=\"119.399119\"/>\r\n     <use style=\"fill:#1f77b4;stroke:#1f77b4;\" x=\"349.037339\" xlink:href=\"#mf7e3958e73\" y=\"306.367927\"/>\r\n     <use style=\"fill:#1f77b4;stroke:#1f77b4;\" x=\"237.483991\" xlink:href=\"#mf7e3958e73\" y=\"47.205578\"/>\r\n     <use style=\"fill:#1f77b4;stroke:#1f77b4;\" x=\"211.474817\" xlink:href=\"#mf7e3958e73\" y=\"271.905028\"/>\r\n     <use style=\"fill:#1f77b4;stroke:#1f77b4;\" x=\"279.09867\" xlink:href=\"#mf7e3958e73\" y=\"62.870532\"/>\r\n     <use style=\"fill:#1f77b4;stroke:#1f77b4;\" x=\"384.175734\" xlink:href=\"#mf7e3958e73\" y=\"309.97255\"/>\r\n     <use style=\"fill:#1f77b4;stroke:#1f77b4;\" x=\"190.927569\" xlink:href=\"#mf7e3958e73\" y=\"172.862092\"/>\r\n     <use style=\"fill:#1f77b4;stroke:#1f77b4;\" x=\"274.156927\" xlink:href=\"#mf7e3958e73\" y=\"329.174752\"/>\r\n     <use style=\"fill:#1f77b4;stroke:#1f77b4;\" x=\"325.915183\" xlink:href=\"#mf7e3958e73\" y=\"33.730349\"/>\r\n     <use style=\"fill:#1f77b4;stroke:#1f77b4;\" x=\"231.761972\" xlink:href=\"#mf7e3958e73\" y=\"177.241541\"/>\r\n     <use style=\"fill:#1f77b4;stroke:#1f77b4;\" x=\"344.641789\" xlink:href=\"#mf7e3958e73\" y=\"218.00411\"/>\r\n     <use style=\"fill:#1f77b4;stroke:#1f77b4;\" x=\"292.363349\" xlink:href=\"#mf7e3958e73\" y=\"158.20778\"/>\r\n     <use style=\"fill:#1f77b4;stroke:#1f77b4;\" x=\"325.863165\" xlink:href=\"#mf7e3958e73\" y=\"88.844037\"/>\r\n     <use style=\"fill:#1f77b4;stroke:#1f77b4;\" x=\"278.526468\" xlink:href=\"#mf7e3958e73\" y=\"168.17945\"/>\r\n     <use style=\"fill:#1f77b4;stroke:#1f77b4;\" x=\"318.320505\" xlink:href=\"#mf7e3958e73\" y=\"191.087339\"/>\r\n     <use style=\"fill:#1f77b4;stroke:#1f77b4;\" x=\"215.324174\" xlink:href=\"#mf7e3958e73\" y=\"253.241835\"/>\r\n     <use style=\"fill:#1f77b4;stroke:#1f77b4;\" x=\"163.826009\" xlink:href=\"#mf7e3958e73\" y=\"160.768073\"/>\r\n     <use style=\"fill:#1f77b4;stroke:#1f77b4;\" x=\"314.159037\" xlink:href=\"#mf7e3958e73\" y=\"307.816514\"/>\r\n     <use style=\"fill:#1f77b4;stroke:#1f77b4;\" x=\"218.705367\" xlink:href=\"#mf7e3958e73\" y=\"93.897248\"/>\r\n     <use style=\"fill:#1f77b4;stroke:#1f77b4;\" x=\"282.948028\" xlink:href=\"#mf7e3958e73\" y=\"179.128073\"/>\r\n     <use style=\"fill:#1f77b4;stroke:#1f77b4;\" x=\"323.002156\" xlink:href=\"#mf7e3958e73\" y=\"35.28\"/>\r\n     <use style=\"fill:#1f77b4;stroke:#1f77b4;\" x=\"331.325092\" xlink:href=\"#mf7e3958e73\" y=\"302.931743\"/>\r\n     <use style=\"fill:#1f77b4;stroke:#1f77b4;\" x=\"336.735\" xlink:href=\"#mf7e3958e73\" y=\"78.788147\"/>\r\n     <use style=\"fill:#1f77b4;stroke:#1f77b4;\" x=\"262.868945\" xlink:href=\"#mf7e3958e73\" y=\"210.171633\"/>\r\n     <use style=\"fill:#1f77b4;stroke:#1f77b4;\" x=\"332.573532\" xlink:href=\"#mf7e3958e73\" y=\"151.217505\"/>\r\n     <use style=\"fill:#1f77b4;stroke:#1f77b4;\" x=\"355.981789\" xlink:href=\"#mf7e3958e73\" y=\"207.476587\"/>\r\n     <use style=\"fill:#1f77b4;stroke:#1f77b4;\" x=\"213.711606\" xlink:href=\"#mf7e3958e73\" y=\"259.693101\"/>\r\n     <use style=\"fill:#1f77b4;stroke:#1f77b4;\" x=\"171.05656\" xlink:href=\"#mf7e3958e73\" y=\"171.767229\"/>\r\n     <use style=\"fill:#1f77b4;stroke:#1f77b4;\" x=\"333.093716\" xlink:href=\"#mf7e3958e73\" y=\"313.762459\"/>\r\n     <use style=\"fill:#1f77b4;stroke:#1f77b4;\" x=\"276.393716\" xlink:href=\"#mf7e3958e73\" y=\"34.993651\"/>\r\n     <use style=\"fill:#1f77b4;stroke:#1f77b4;\" x=\"286.277202\" xlink:href=\"#mf7e3958e73\" y=\"266.430716\"/>\r\n     <use style=\"fill:#1f77b4;stroke:#1f77b4;\" x=\"203.307936\" xlink:href=\"#mf7e3958e73\" y=\"86.873284\"/>\r\n     <use style=\"fill:#1f77b4;stroke:#1f77b4;\" x=\"320.97344\" xlink:href=\"#mf7e3958e73\" y=\"182.463193\"/>\r\n     <use style=\"fill:#1f77b4;stroke:#1f77b4;\" x=\"258.031239\" xlink:href=\"#mf7e3958e73\" y=\"201.665394\"/>\r\n     <use style=\"fill:#1f77b4;stroke:#1f77b4;\" x=\"184.165183\" xlink:href=\"#mf7e3958e73\" y=\"245.62833\"/>\r\n     <use style=\"fill:#1f77b4;stroke:#1f77b4;\" x=\"283.520229\" xlink:href=\"#mf7e3958e73\" y=\"147.764477\"/>\r\n     <use style=\"fill:#1f77b4;stroke:#1f77b4;\" x=\"390.678028\" xlink:href=\"#mf7e3958e73\" y=\"307.782826\"/>\r\n     <use style=\"fill:#1f77b4;stroke:#1f77b4;\" x=\"162.577569\" xlink:href=\"#mf7e3958e73\" y=\"116.603009\"/>\r\n     <use style=\"fill:#1f77b4;stroke:#1f77b4;\" x=\"381.834908\" xlink:href=\"#mf7e3958e73\" y=\"31.877505\"/>\r\n     <use style=\"fill:#1f77b4;stroke:#1f77b4;\" x=\"259.071606\" xlink:href=\"#mf7e3958e73\" y=\"188.863927\"/>\r\n     <use style=\"fill:#1f77b4;stroke:#1f77b4;\" x=\"253.349587\" xlink:href=\"#mf7e3958e73\" y=\"31.540624\"/>\r\n     <use style=\"fill:#1f77b4;stroke:#1f77b4;\" x=\"277.798211\" xlink:href=\"#mf7e3958e73\" y=\"326.985028\"/>\r\n     <use style=\"fill:#1f77b4;stroke:#1f77b4;\" x=\"327.434862\" xlink:href=\"#mf7e3958e73\" y=\"95.100393\"/>\r\n     <use style=\"fill:#1f77b4;stroke:#1f77b4;\" x=\"388.29633\" xlink:href=\"#mf7e3958e73\" y=\"116.155439\"/>\r\n     <use style=\"fill:#1f77b4;stroke:#1f77b4;\" x=\"230.16055\" xlink:href=\"#mf7e3958e73\" y=\"195.322412\"/>\r\n     <use style=\"fill:#1f77b4;stroke:#1f77b4;\" x=\"239.523853\" xlink:href=\"#mf7e3958e73\" y=\"362.415256\"/>\r\n     <use style=\"fill:#1f77b4;stroke:#1f77b4;\" x=\"288.941284\" xlink:href=\"#mf7e3958e73\" y=\"93.921311\"/>\r\n     <use style=\"fill:#1f77b4;stroke:#1f77b4;\" x=\"262.93211\" xlink:href=\"#mf7e3958e73\" y=\"268.762412\"/>\r\n     <use style=\"fill:#1f77b4;stroke:#1f77b4;\" x=\"203.111009\" xlink:href=\"#mf7e3958e73\" y=\"115.144797\"/>\r\n     <use style=\"fill:#1f77b4;stroke:#1f77b4;\" x=\"250.696651\" xlink:href=\"#mf7e3958e73\" y=\"322.386606\"/>\r\n     <use style=\"fill:#1f77b4;stroke:#1f77b4;\" x=\"182.552615\" xlink:href=\"#mf7e3958e73\" y=\"260.06367\"/>\r\n     <use style=\"fill:#1f77b4;stroke:#1f77b4;\" x=\"189.835183\" xlink:href=\"#mf7e3958e73\" y=\"108.63578\"/>\r\n     <use style=\"fill:#1f77b4;stroke:#1f77b4;\" x=\"320.66133\" xlink:href=\"#mf7e3958e73\" y=\"79.158716\"/>\r\n     <use style=\"fill:#1f77b4;stroke:#1f77b4;\" x=\"356.293899\" xlink:href=\"#mf7e3958e73\" y=\"187.634312\"/>\r\n     <use style=\"fill:#1f77b4;stroke:#1f77b4;\" x=\"260.580138\" xlink:href=\"#mf7e3958e73\" y=\"151.588073\"/>\r\n     <use style=\"fill:#1f77b4;stroke:#1f77b4;\" x=\"329.764541\" xlink:href=\"#mf7e3958e73\" y=\"116.889358\"/>\r\n     <use style=\"fill:#1f77b4;stroke:#1f77b4;\" x=\"288.149862\" xlink:href=\"#mf7e3958e73\" y=\"39.406789\"/>\r\n     <use style=\"fill:#1f77b4;stroke:#1f77b4;\" x=\"242.373716\" xlink:href=\"#mf7e3958e73\" y=\"229.575963\"/>\r\n     <use style=\"fill:#1f77b4;stroke:#1f77b4;\" x=\"351.092064\" xlink:href=\"#mf7e3958e73\" y=\"285.835046\"/>\r\n    </g>\r\n   </g>\r\n   <g id=\"line2d_21\">\r\n    <path clip-path=\"url(#p60e621cf73)\" d=\"M 17.108257 346.557798 \r\nL 17.108257 9.677064 \r\n\" style=\"fill:none;stroke:#474747;stroke-linecap:round;stroke-width:2.5;\"/>\r\n   </g>\r\n   <g id=\"line2d_22\">\r\n    <path clip-path=\"url(#p60e621cf73)\" d=\"M 17.108257 9.677064 \r\nL 537.291743 9.677064 \r\n\" style=\"fill:none;stroke:#474747;stroke-linecap:round;stroke-width:2.5;\"/>\r\n   </g>\r\n   <g id=\"line2d_23\">\r\n    <path clip-path=\"url(#p60e621cf73)\" d=\"M 537.291743 9.677064 \r\nL 537.291743 346.557798 \r\n\" style=\"fill:none;stroke:#474747;stroke-linecap:round;stroke-width:2.5;\"/>\r\n   </g>\r\n   <g id=\"line2d_24\">\r\n    <path clip-path=\"url(#p60e621cf73)\" d=\"M 537.291743 346.557798 \r\nL 17.108257 346.557798 \r\n\" style=\"fill:none;stroke:#474747;stroke-linecap:round;stroke-width:2.5;\"/>\r\n   </g>\r\n  </g>\r\n </g>\r\n <defs>\r\n  <clipPath id=\"p60e621cf73\">\r\n   <rect height=\"341.834862\" width=\"540\" x=\"7.2\" y=\"7.2\"/>\r\n  </clipPath>\r\n </defs>\r\n</svg>\r\n",
      "image/png": "[encoded data removed]"
     },
     "metadata": {
      "needs_background": "light"
     }
    }
   ],
   "source": [
    "fig, ax = init_plot()\n",
    "\n",
    "ax.plot(df['x'], df['y'], 'o', markersize=10)"
   ]
  },
  {
   "cell_type": "code",
   "execution_count": 11,
   "metadata": {},
   "outputs": [
    {
     "output_type": "execute_result",
     "data": {
      "text/plain": [
       "0     157\n",
       "1     127\n",
       "9     100\n",
       "2      97\n",
       "8      83\n",
       "5      83\n",
       "10     81\n",
       "6      77\n",
       "3      77\n",
       "7      70\n",
       "4      65\n",
       "Name: cluster, dtype: int64"
      ]
     },
     "metadata": {},
     "execution_count": 11
    }
   ],
   "source": [
    "from sklearn.cluster import AgglomerativeClustering\n",
    "\n",
    "kmeans = AgglomerativeClustering(n_clusters=11).fit(df[['right', 'down', 'angle']])\n",
    "\n",
    "df['cluster'] = kmeans.labels_\n",
    "df['cluster'].value_counts()"
   ]
  },
  {
   "cell_type": "code",
   "execution_count": 12,
   "metadata": {},
   "outputs": [
    {
     "output_type": "display_data",
     "data": {
      "application/vnd.plotly.v1+json": {
       "config": {
        "plotlyServerURL": "https://plot.ly"
       },
       "data": [
        {
         "hovertemplate": "<b>%{hovertext}</b><br><br>cluster=8<br>x=%{x}<br>y=%{y}<extra></extra>",
         "hovertext": [
          "Fabinho",
          "Fabinho",
          "Fabinho",
          "Fabinho",
          "Jordan Henderson",
          "Fabinho"
         ],
         "legendgroup": "8",
         "marker": {
          "color": "#636efa",
          "symbol": "circle"
         },
         "mode": "markers",
         "name": "8",
         "orientation": "v",
         "showlegend": true,
         "type": "scatter",
         "x": [
          46.35225,
          31.15349999999999,
          33.9885,
          49.48125,
          43.08675000000001,
          33.41100000000001
         ],
         "xaxis": "x",
         "y": [
          34.4284,
          27.064,
          38.3554,
          29.1482,
          34.8602,
          26.639
         ],
         "yaxis": "y"
        },
        {
         "hovertemplate": "<b>%{hovertext}</b><br><br>cluster=10<br>x=%{x}<br>y=%{y}<extra></extra>",
         "hovertext": [
          "Virgil van Dijk",
          "Virgil van Dijk",
          "Virgil van Dijk",
          "Virgil van Dijk",
          "Joseph Gomez"
         ],
         "legendgroup": "10",
         "marker": {
          "color": "#EF553B",
          "symbol": "circle"
         },
         "mode": "markers",
         "name": "10",
         "orientation": "v",
         "showlegend": true,
         "type": "scatter",
         "x": [
          30.18225,
          38.50349999999999,
          33.20625,
          39.14925000000001,
          34.35600000000001
         ],
         "xaxis": "x",
         "y": [
          41.97640000000001,
          45.356,
          41.7282,
          49.2762,
          46.563
         ],
         "yaxis": "y"
        },
        {
         "hovertemplate": "<b>%{hovertext}</b><br><br>cluster=3<br>x=%{x}<br>y=%{y}<extra></extra>",
         "hovertext": [
          "Georginio Wijnaldum",
          "Naby Keita",
          "Virgil van Dijk",
          "Roberto Firmino",
          "Georginio Wijnaldum",
          "Georginio Wijnaldum"
         ],
         "legendgroup": "3",
         "marker": {
          "color": "#00cc96",
          "symbol": "circle"
         },
         "mode": "markers",
         "name": "3",
         "orientation": "v",
         "showlegend": true,
         "type": "scatter",
         "x": [
          51.86475,
          43.75349999999999,
          47.5335,
          56.7735,
          52.10625,
          50.94600000000001
         ],
         "xaxis": "x",
         "y": [
          52.5164,
          29.172,
          52.26140000000001,
          24.1434,
          49.5482,
          48.127
         ],
         "yaxis": "y"
        },
        {
         "hovertemplate": "<b>%{hovertext}</b><br><br>cluster=2<br>x=%{x}<br>y=%{y}<extra></extra>",
         "hovertext": [
          "Naby Keita",
          "Jordan Henderson",
          "Naby Keita",
          "Naby Keita",
          "Roberto Firmino"
         ],
         "legendgroup": "2",
         "marker": {
          "color": "#ab63fa",
          "symbol": "circle"
         },
         "mode": "markers",
         "name": "2",
         "orientation": "v",
         "showlegend": true,
         "type": "scatter",
         "x": [
          56.85225000000001,
          52.8885,
          55.46625000000001,
          57.68175,
          64.08675
         ],
         "xaxis": "x",
         "y": [
          21.066400000000012,
          23.3274,
          20.5122,
          24.7282,
          28.8762
         ],
         "yaxis": "y"
        },
        {
         "hovertemplate": "<b>%{hovertext}</b><br><br>cluster=6<br>x=%{x}<br>y=%{y}<extra></extra>",
         "hovertext": [
          "Roberto Firmino",
          "Roberto Firmino",
          "Roberto Firmino",
          "Roberto Firmino"
         ],
         "legendgroup": "6",
         "marker": {
          "color": "#FFA15A",
          "symbol": "circle"
         },
         "mode": "markers",
         "name": "6",
         "orientation": "v",
         "showlegend": true,
         "type": "scatter",
         "x": [
          66.30225000000002,
          71.89349999999997,
          63.34125000000001,
          60.81600000000001
         ],
         "xaxis": "x",
         "y": [
          36.5364,
          26.044,
          37.6142,
          34.663000000000004
         ],
         "yaxis": "y"
        },
        {
         "hovertemplate": "<b>%{hovertext}</b><br><br>cluster=5<br>x=%{x}<br>y=%{y}<extra></extra>",
         "hovertext": [
          "Mohamed Salah",
          "Diogo Jota"
         ],
         "legendgroup": "5",
         "marker": {
          "color": "#19d3f3",
          "symbol": "circle"
         },
         "mode": "markers",
         "name": "5",
         "orientation": "v",
         "showlegend": true,
         "type": "scatter",
         "x": [
          58.74225000000001,
          55.776
         ],
         "xaxis": "x",
         "y": [
          14.300400000000005,
          16.608999999999998
         ],
         "yaxis": "y"
        },
        {
         "hovertemplate": "<b>%{hovertext}</b><br><br>cluster=9<br>x=%{x}<br>y=%{y}<extra></extra>",
         "hovertext": [
          "Joseph Gomez",
          "Jordan Henderson",
          "Joel Matip",
          "Joseph Gomez",
          "Joseph Gomez",
          "Jordan Henderson"
         ],
         "legendgroup": "9",
         "marker": {
          "color": "#FF6692",
          "symbol": "circle"
         },
         "mode": "markers",
         "name": "9",
         "orientation": "v",
         "showlegend": true,
         "type": "scatter",
         "x": [
          33.017250000000004,
          41.8635,
          32.6235,
          34.04625,
          32.90175000000001,
          49.73850000000001
         ],
         "xaxis": "x",
         "y": [
          20.624400000000005,
          25.5,
          15.031399999999998,
          23.2322,
          23.6742,
          21.233
         ],
         "yaxis": "y"
        },
        {
         "hovertemplate": "<b>%{hovertext}</b><br><br>cluster=0<br>x=%{x}<br>y=%{y}<extra></extra>",
         "hovertext": [
          "Diogo Jota",
          "Andrew Robertson",
          "Georginio Wijnaldum",
          "Sadio Mané",
          "Thiago",
          "Sadio Mané",
          "Andrew Robertson",
          "Sadio Mané",
          "Georginio Wijnaldum",
          "Sadio Mané",
          "Sadio Mané"
         ],
         "legendgroup": "0",
         "marker": {
          "color": "#B6E880",
          "symbol": "circle"
         },
         "mode": "markers",
         "name": "0",
         "orientation": "v",
         "showlegend": true,
         "type": "scatter",
         "x": [
          77.64224999999998,
          60.63224999999999,
          60.9735,
          66.32849999999999,
          58.5585,
          69.68849999999998,
          59.18850000000001,
          67.43625,
          57.47175000000001,
          65.24175,
          67.32600000000002
         ],
         "xaxis": "x",
         "y": [
          54.3524,
          59.7244,
          42.16,
          61.2,
          55.0494,
          60.2514,
          57.73540000000001,
          55.8722,
          47.5762,
          48.5962,
          55.675
         ],
         "yaxis": "y"
        },
        {
         "hovertemplate": "<b>%{hovertext}</b><br><br>cluster=7<br>x=%{x}<br>y=%{y}<extra></extra>",
         "hovertext": [
          "Trent Alexander-Arnold",
          "Trent Alexander-Arnold",
          "Trent Alexander-Arnold",
          "Trent Alexander-Arnold",
          "Trent Alexander-Arnold",
          "Trent Alexander-Arnold"
         ],
         "legendgroup": "7",
         "marker": {
          "color": "#FF97FF",
          "symbol": "circle"
         },
         "mode": "markers",
         "name": "7",
         "orientation": "v",
         "showlegend": true,
         "type": "scatter",
         "x": [
          43.41224999999999,
          43.22849999999999,
          48.7935,
          51.26625000000001,
          51.38175000000001,
          50.15850000000001
         ],
         "xaxis": "x",
         "y": [
          4.474400000000005,
          8.193999999999999,
          1.3974000000000002,
          6.4362,
          10.516199999999998,
          10.964999999999995
         ],
         "yaxis": "y"
        },
        {
         "hovertemplate": "<b>%{hovertext}</b><br><br>cluster=4<br>x=%{x}<br>y=%{y}<extra></extra>",
         "hovertext": [
          "Mohamed Salah",
          "Mohamed Salah",
          "Mohamed Salah",
          "Mohamed Salah",
          "Mohamed Salah"
         ],
         "legendgroup": "4",
         "marker": {
          "color": "#FECB52",
          "symbol": "circle"
         },
         "mode": "markers",
         "name": "4",
         "orientation": "v",
         "showlegend": true,
         "type": "scatter",
         "x": [
          74.7285,
          64.9635,
          65.44125,
          67.55175,
          68.376
         ],
         "xaxis": "x",
         "y": [
          13.429999999999998,
          12.447400000000002,
          13.5082,
          10.720199999999997,
          18.002999999999997
         ],
         "yaxis": "y"
        },
        {
         "hovertemplate": "<b>%{hovertext}</b><br><br>cluster=1<br>x=%{x}<br>y=%{y}<extra></extra>",
         "hovertext": [
          "Andrew Robertson",
          "Andrew Robertson",
          "Andrew Robertson",
          "Andrew Robertson"
         ],
         "legendgroup": "1",
         "marker": {
          "color": "#636efa",
          "symbol": "circle"
         },
         "mode": "markers",
         "name": "1",
         "orientation": "v",
         "showlegend": true,
         "type": "scatter",
         "x": [
          52.5735,
          53.20875,
          46.44675000000001,
          54.09600000000001
         ],
         "xaxis": "x",
         "y": [
          61.88,
          62.4002,
          61.1762,
          61.523
         ],
         "yaxis": "y"
        }
       ],
       "layout": {
        "legend": {
         "title": {
          "text": "cluster"
         },
         "tracegroupgap": 0
        },
        "margin": {
         "t": 60
        },
        "template": {
         "data": {
          "bar": [
           {
            "error_x": {
             "color": "#2a3f5f"
            },
            "error_y": {
             "color": "#2a3f5f"
            },
            "marker": {
             "line": {
              "color": "#E5ECF6",
              "width": 0.5
             }
            },
            "type": "bar"
           }
          ],
          "barpolar": [
           {
            "marker": {
             "line": {
              "color": "#E5ECF6",
              "width": 0.5
             }
            },
            "type": "barpolar"
           }
          ],
          "carpet": [
           {
            "aaxis": {
             "endlinecolor": "#2a3f5f",
             "gridcolor": "white",
             "linecolor": "white",
             "minorgridcolor": "white",
             "startlinecolor": "#2a3f5f"
            },
            "baxis": {
             "endlinecolor": "#2a3f5f",
             "gridcolor": "white",
             "linecolor": "white",
             "minorgridcolor": "white",
             "startlinecolor": "#2a3f5f"
            },
            "type": "carpet"
           }
          ],
          "choropleth": [
           {
            "colorbar": {
             "outlinewidth": 0,
             "ticks": ""
            },
            "type": "choropleth"
           }
          ],
          "contour": [
           {
            "colorbar": {
             "outlinewidth": 0,
             "ticks": ""
            },
            "colorscale": [
             [
              0,
              "#0d0887"
             ],
             [
              0.1111111111111111,
              "#46039f"
             ],
             [
              0.2222222222222222,
              "#7201a8"
             ],
             [
              0.3333333333333333,
              "#9c179e"
             ],
             [
              0.4444444444444444,
              "#bd3786"
             ],
             [
              0.5555555555555556,
              "#d8576b"
             ],
             [
              0.6666666666666666,
              "#ed7953"
             ],
             [
              0.7777777777777778,
              "#fb9f3a"
             ],
             [
              0.8888888888888888,
              "#fdca26"
             ],
             [
              1,
              "#f0f921"
             ]
            ],
            "type": "contour"
           }
          ],
          "contourcarpet": [
           {
            "colorbar": {
             "outlinewidth": 0,
             "ticks": ""
            },
            "type": "contourcarpet"
           }
          ],
          "heatmap": [
           {
            "colorbar": {
             "outlinewidth": 0,
             "ticks": ""
            },
            "colorscale": [
             [
              0,
              "#0d0887"
             ],
             [
              0.1111111111111111,
              "#46039f"
             ],
             [
              0.2222222222222222,
              "#7201a8"
             ],
             [
              0.3333333333333333,
              "#9c179e"
             ],
             [
              0.4444444444444444,
              "#bd3786"
             ],
             [
              0.5555555555555556,
              "#d8576b"
             ],
             [
              0.6666666666666666,
              "#ed7953"
             ],
             [
              0.7777777777777778,
              "#fb9f3a"
             ],
             [
              0.8888888888888888,
              "#fdca26"
             ],
             [
              1,
              "#f0f921"
             ]
            ],
            "type": "heatmap"
           }
          ],
          "heatmapgl": [
           {
            "colorbar": {
             "outlinewidth": 0,
             "ticks": ""
            },
            "colorscale": [
             [
              0,
              "#0d0887"
             ],
             [
              0.1111111111111111,
              "#46039f"
             ],
             [
              0.2222222222222222,
              "#7201a8"
             ],
             [
              0.3333333333333333,
              "#9c179e"
             ],
             [
              0.4444444444444444,
              "#bd3786"
             ],
             [
              0.5555555555555556,
              "#d8576b"
             ],
             [
              0.6666666666666666,
              "#ed7953"
             ],
             [
              0.7777777777777778,
              "#fb9f3a"
             ],
             [
              0.8888888888888888,
              "#fdca26"
             ],
             [
              1,
              "#f0f921"
             ]
            ],
            "type": "heatmapgl"
           }
          ],
          "histogram": [
           {
            "marker": {
             "colorbar": {
              "outlinewidth": 0,
              "ticks": ""
             }
            },
            "type": "histogram"
           }
          ],
          "histogram2d": [
           {
            "colorbar": {
             "outlinewidth": 0,
             "ticks": ""
            },
            "colorscale": [
             [
              0,
              "#0d0887"
             ],
             [
              0.1111111111111111,
              "#46039f"
             ],
             [
              0.2222222222222222,
              "#7201a8"
             ],
             [
              0.3333333333333333,
              "#9c179e"
             ],
             [
              0.4444444444444444,
              "#bd3786"
             ],
             [
              0.5555555555555556,
              "#d8576b"
             ],
             [
              0.6666666666666666,
              "#ed7953"
             ],
             [
              0.7777777777777778,
              "#fb9f3a"
             ],
             [
              0.8888888888888888,
              "#fdca26"
             ],
             [
              1,
              "#f0f921"
             ]
            ],
            "type": "histogram2d"
           }
          ],
          "histogram2dcontour": [
           {
            "colorbar": {
             "outlinewidth": 0,
             "ticks": ""
            },
            "colorscale": [
             [
              0,
              "#0d0887"
             ],
             [
              0.1111111111111111,
              "#46039f"
             ],
             [
              0.2222222222222222,
              "#7201a8"
             ],
             [
              0.3333333333333333,
              "#9c179e"
             ],
             [
              0.4444444444444444,
              "#bd3786"
             ],
             [
              0.5555555555555556,
              "#d8576b"
             ],
             [
              0.6666666666666666,
              "#ed7953"
             ],
             [
              0.7777777777777778,
              "#fb9f3a"
             ],
             [
              0.8888888888888888,
              "#fdca26"
             ],
             [
              1,
              "#f0f921"
             ]
            ],
            "type": "histogram2dcontour"
           }
          ],
          "mesh3d": [
           {
            "colorbar": {
             "outlinewidth": 0,
             "ticks": ""
            },
            "type": "mesh3d"
           }
          ],
          "parcoords": [
           {
            "line": {
             "colorbar": {
              "outlinewidth": 0,
              "ticks": ""
             }
            },
            "type": "parcoords"
           }
          ],
          "pie": [
           {
            "automargin": true,
            "type": "pie"
           }
          ],
          "scatter": [
           {
            "marker": {
             "colorbar": {
              "outlinewidth": 0,
              "ticks": ""
             }
            },
            "type": "scatter"
           }
          ],
          "scatter3d": [
           {
            "line": {
             "colorbar": {
              "outlinewidth": 0,
              "ticks": ""
             }
            },
            "marker": {
             "colorbar": {
              "outlinewidth": 0,
              "ticks": ""
             }
            },
            "type": "scatter3d"
           }
          ],
          "scattercarpet": [
           {
            "marker": {
             "colorbar": {
              "outlinewidth": 0,
              "ticks": ""
             }
            },
            "type": "scattercarpet"
           }
          ],
          "scattergeo": [
           {
            "marker": {
             "colorbar": {
              "outlinewidth": 0,
              "ticks": ""
             }
            },
            "type": "scattergeo"
           }
          ],
          "scattergl": [
           {
            "marker": {
             "colorbar": {
              "outlinewidth": 0,
              "ticks": ""
             }
            },
            "type": "scattergl"
           }
          ],
          "scattermapbox": [
           {
            "marker": {
             "colorbar": {
              "outlinewidth": 0,
              "ticks": ""
             }
            },
            "type": "scattermapbox"
           }
          ],
          "scatterpolar": [
           {
            "marker": {
             "colorbar": {
              "outlinewidth": 0,
              "ticks": ""
             }
            },
            "type": "scatterpolar"
           }
          ],
          "scatterpolargl": [
           {
            "marker": {
             "colorbar": {
              "outlinewidth": 0,
              "ticks": ""
             }
            },
            "type": "scatterpolargl"
           }
          ],
          "scatterternary": [
           {
            "marker": {
             "colorbar": {
              "outlinewidth": 0,
              "ticks": ""
             }
            },
            "type": "scatterternary"
           }
          ],
          "surface": [
           {
            "colorbar": {
             "outlinewidth": 0,
             "ticks": ""
            },
            "colorscale": [
             [
              0,
              "#0d0887"
             ],
             [
              0.1111111111111111,
              "#46039f"
             ],
             [
              0.2222222222222222,
              "#7201a8"
             ],
             [
              0.3333333333333333,
              "#9c179e"
             ],
             [
              0.4444444444444444,
              "#bd3786"
             ],
             [
              0.5555555555555556,
              "#d8576b"
             ],
             [
              0.6666666666666666,
              "#ed7953"
             ],
             [
              0.7777777777777778,
              "#fb9f3a"
             ],
             [
              0.8888888888888888,
              "#fdca26"
             ],
             [
              1,
              "#f0f921"
             ]
            ],
            "type": "surface"
           }
          ],
          "table": [
           {
            "cells": {
             "fill": {
              "color": "#EBF0F8"
             },
             "line": {
              "color": "white"
             }
            },
            "header": {
             "fill": {
              "color": "#C8D4E3"
             },
             "line": {
              "color": "white"
             }
            },
            "type": "table"
           }
          ]
         },
         "layout": {
          "annotationdefaults": {
           "arrowcolor": "#2a3f5f",
           "arrowhead": 0,
           "arrowwidth": 1
          },
          "coloraxis": {
           "colorbar": {
            "outlinewidth": 0,
            "ticks": ""
           }
          },
          "colorscale": {
           "diverging": [
            [
             0,
             "#8e0152"
            ],
            [
             0.1,
             "#c51b7d"
            ],
            [
             0.2,
             "#de77ae"
            ],
            [
             0.3,
             "#f1b6da"
            ],
            [
             0.4,
             "#fde0ef"
            ],
            [
             0.5,
             "#f7f7f7"
            ],
            [
             0.6,
             "#e6f5d0"
            ],
            [
             0.7,
             "#b8e186"
            ],
            [
             0.8,
             "#7fbc41"
            ],
            [
             0.9,
             "#4d9221"
            ],
            [
             1,
             "#276419"
            ]
           ],
           "sequential": [
            [
             0,
             "#0d0887"
            ],
            [
             0.1111111111111111,
             "#46039f"
            ],
            [
             0.2222222222222222,
             "#7201a8"
            ],
            [
             0.3333333333333333,
             "#9c179e"
            ],
            [
             0.4444444444444444,
             "#bd3786"
            ],
            [
             0.5555555555555556,
             "#d8576b"
            ],
            [
             0.6666666666666666,
             "#ed7953"
            ],
            [
             0.7777777777777778,
             "#fb9f3a"
            ],
            [
             0.8888888888888888,
             "#fdca26"
            ],
            [
             1,
             "#f0f921"
            ]
           ],
           "sequentialminus": [
            [
             0,
             "#0d0887"
            ],
            [
             0.1111111111111111,
             "#46039f"
            ],
            [
             0.2222222222222222,
             "#7201a8"
            ],
            [
             0.3333333333333333,
             "#9c179e"
            ],
            [
             0.4444444444444444,
             "#bd3786"
            ],
            [
             0.5555555555555556,
             "#d8576b"
            ],
            [
             0.6666666666666666,
             "#ed7953"
            ],
            [
             0.7777777777777778,
             "#fb9f3a"
            ],
            [
             0.8888888888888888,
             "#fdca26"
            ],
            [
             1,
             "#f0f921"
            ]
           ]
          },
          "colorway": [
           "#636efa",
           "#EF553B",
           "#00cc96",
           "#ab63fa",
           "#FFA15A",
           "#19d3f3",
           "#FF6692",
           "#B6E880",
           "#FF97FF",
           "#FECB52"
          ],
          "font": {
           "color": "#2a3f5f"
          },
          "geo": {
           "bgcolor": "white",
           "lakecolor": "white",
           "landcolor": "#E5ECF6",
           "showlakes": true,
           "showland": true,
           "subunitcolor": "white"
          },
          "hoverlabel": {
           "align": "left"
          },
          "hovermode": "closest",
          "mapbox": {
           "style": "light"
          },
          "paper_bgcolor": "white",
          "plot_bgcolor": "#E5ECF6",
          "polar": {
           "angularaxis": {
            "gridcolor": "white",
            "linecolor": "white",
            "ticks": ""
           },
           "bgcolor": "#E5ECF6",
           "radialaxis": {
            "gridcolor": "white",
            "linecolor": "white",
            "ticks": ""
           }
          },
          "scene": {
           "xaxis": {
            "backgroundcolor": "#E5ECF6",
            "gridcolor": "white",
            "gridwidth": 2,
            "linecolor": "white",
            "showbackground": true,
            "ticks": "",
            "zerolinecolor": "white"
           },
           "yaxis": {
            "backgroundcolor": "#E5ECF6",
            "gridcolor": "white",
            "gridwidth": 2,
            "linecolor": "white",
            "showbackground": true,
            "ticks": "",
            "zerolinecolor": "white"
           },
           "zaxis": {
            "backgroundcolor": "#E5ECF6",
            "gridcolor": "white",
            "gridwidth": 2,
            "linecolor": "white",
            "showbackground": true,
            "ticks": "",
            "zerolinecolor": "white"
           }
          },
          "shapedefaults": {
           "line": {
            "color": "#2a3f5f"
           }
          },
          "ternary": {
           "aaxis": {
            "gridcolor": "white",
            "linecolor": "white",
            "ticks": ""
           },
           "baxis": {
            "gridcolor": "white",
            "linecolor": "white",
            "ticks": ""
           },
           "bgcolor": "#E5ECF6",
           "caxis": {
            "gridcolor": "white",
            "linecolor": "white",
            "ticks": ""
           }
          },
          "title": {
           "x": 0.05
          },
          "xaxis": {
           "automargin": true,
           "gridcolor": "white",
           "linecolor": "white",
           "ticks": "",
           "title": {
            "standoff": 15
           },
           "zerolinecolor": "white",
           "zerolinewidth": 2
          },
          "yaxis": {
           "automargin": true,
           "gridcolor": "white",
           "linecolor": "white",
           "ticks": "",
           "title": {
            "standoff": 15
           },
           "zerolinecolor": "white",
           "zerolinewidth": 2
          }
         }
        },
        "xaxis": {
         "anchor": "y",
         "domain": [
          0,
          1
         ],
         "range": [
          0,
          105
         ],
         "title": {
          "text": "x"
         }
        },
        "yaxis": {
         "anchor": "x",
         "domain": [
          0,
          1
         ],
         "range": [
          0,
          68
         ],
         "title": {
          "text": "y"
         }
        }
       }
      }
     },
     "metadata": {}
    }
   ],
   "source": [
    "import plotly.express as px\n",
    "\n",
    "colors = {\n",
    "    0: 'dodgerblue',\n",
    "    1: 'tomato',\n",
    "    2: 'goldenrod',\n",
    "    3: 'springgreen',\n",
    "    4: 'slategrey',\n",
    "    5: 'mediumorchid',\n",
    "    6: 'lightpink',\n",
    "    7: 'chocolate',\n",
    "    8: 'mediumturquoise',\n",
    "    9: 'purple',\n",
    "    10: 'red',\n",
    "    11: 'navy'\n",
    "}\n",
    "\n",
    "# positions = {\n",
    "#     '0': 'RWB',\n",
    "#     '1': 'CM',\n",
    "#     '2': 'LW',\n",
    "#     '3': 'RCB',\n",
    "#     '4': 'ST',\n",
    "#     '5': 'LB',\n",
    "#     '6': 'RW',\n",
    "#     '7': 'LWB',\n",
    "#     '8': 'RB',\n",
    "#     '9': 'LCB'\n",
    "# }\n",
    "\n",
    "df['cluster'] = df['cluster'].astype(str)\n",
    "#df['position'] = df['cluster'].map(positions)\n",
    "data = df.loc[df['team_name'] == 'Liverpool']\n",
    "\n",
    "fig = px.scatter(data_frame=data,\n",
    "                     x='x', \n",
    "                     y='y',\n",
    "                     color='cluster',\n",
    "                     hover_name='name'\n",
    "    )\n",
    "\n",
    "fig.update_xaxes(range=(0, 105))\n",
    "fig.update_yaxes(range=(0, 68))\n",
    "\n",
    "fig.show()"
   ]
  }
 ]
}
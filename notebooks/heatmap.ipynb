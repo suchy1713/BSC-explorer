{
 "metadata": {
  "language_info": {
   "codemirror_mode": {
    "name": "ipython",
    "version": 3
   },
   "file_extension": ".py",
   "mimetype": "text/x-python",
   "name": "python",
   "nbconvert_exporter": "python",
   "pygments_lexer": "ipython3",
   "version": "3.8.3-final"
  },
  "orig_nbformat": 2,
  "kernelspec": {
   "name": "python3",
   "display_name": "Python 3.8.3 64-bit (conda)",
   "metadata": {
    "interpreter": {
     "hash": "092b1be93d0df02c8bd1e4aef8cdf398adffafb0bcd89d0936e511bc26d58a53"
    }
   }
  }
 },
 "nbformat": 4,
 "nbformat_minor": 2,
 "cells": [
  {
   "cell_type": "code",
   "execution_count": 71,
   "metadata": {},
   "outputs": [
    {
     "output_type": "execute_result",
     "data": {
      "text/plain": [
       "(140759, 6)"
      ]
     },
     "metadata": {},
     "execution_count": 71
    }
   ],
   "source": [
    "from pypika import Table, Order, functions\n",
    "from pypika import MySQLQuery as Query\n",
    "import mysql.connector\n",
    "import pandas as pd\n",
    "import numpy as np\n",
    "from scipy.ndimage.filters import gaussian_filter\n",
    "from utils_plotly import exclude_corners\n",
    "\n",
    "cnx = mysql.connector.connect(\n",
    "    user='root',\n",
    "    password='24082408',\n",
    "    host='localhost',\n",
    "    database='bsc-explorer'\n",
    ")\n",
    "\n",
    "events = Table('events')\n",
    "\n",
    "query = Query.from_(events).select(\n",
    "    events.star\n",
    ")\n",
    "\n",
    "# .where(\n",
    "#     events.formationId.isin([105, 106, 107, 108, 109, 110, 111, 112])\n",
    "# )\n",
    "\n",
    "events = pd.read_sql(query.get_sql(), cnx)\n",
    "cnx.close()\n",
    "\n",
    "events = events.loc[events['IsTouch'] == True]\n",
    "events = events[['PlayerPosition', 'StartX', 'StartY', 'EndX', 'EndY', 'EventType']]\n",
    "#events = events.loc[events['PlayerPosition'].isin(['ST'])]\n",
    "events = exclude_corners(events)\n",
    "events.shape"
   ]
  },
  {
   "cell_type": "code",
   "execution_count": 70,
   "metadata": {},
   "outputs": [
    {
     "output_type": "display_data",
     "data": {
      "application/vnd.plotly.v1+json": {
       "config": {
        "plotlyServerURL": "https://plot.ly"
       },
       "data": [
        {
         "fill": "tonext",
         "fillcolor": "#1f1e1c",
         "hoverinfo": "none",
         "line": {
          "color": "rgba(255, 255, 255, 0)",
          "width": 2
         },
         "mode": "lines",
         "showlegend": false,
         "type": "scatter",
         "x": [
          0,
          -1,
          -1,
          0
         ],
         "y": [
          30.35,
          30.35,
          37.65,
          37.65
         ]
        },
        {
         "fill": "tonext",
         "fillcolor": "#1f1e1c",
         "hoverinfo": "none",
         "line": {
          "color": "rgba(255, 255, 255, 0)",
          "width": 2
         },
         "mode": "lines",
         "showlegend": false,
         "type": "scatter",
         "x": [
          105,
          106,
          106,
          105
         ],
         "y": [
          30.35,
          30.35,
          37.65,
          37.65
         ]
        },
        {
         "fill": "tonext",
         "fillcolor": "#1f1e1c",
         "hoverinfo": "none",
         "line": {
          "color": "rgba(255, 255, 255, 0)",
          "width": 2
         },
         "mode": "lines",
         "showlegend": false,
         "type": "scatter",
         "x": [
          0,
          0,
          105,
          105
         ],
         "y": [
          0,
          68,
          68,
          0
         ]
        },
        {
         "hoverinfo": "none",
         "line": {
          "color": "#6e6e6e",
          "width": 1
         },
         "mode": "lines",
         "showlegend": false,
         "type": "scatter",
         "x": [
          0,
          0
         ],
         "y": [
          0,
          68
         ]
        },
        {
         "hoverinfo": "none",
         "line": {
          "color": "#6e6e6e",
          "width": 1
         },
         "mode": "lines",
         "showlegend": false,
         "type": "scatter",
         "x": [
          0,
          105
         ],
         "y": [
          68,
          68
         ]
        },
        {
         "hoverinfo": "none",
         "line": {
          "color": "#6e6e6e",
          "width": 1
         },
         "mode": "lines",
         "showlegend": false,
         "type": "scatter",
         "x": [
          105,
          105
         ],
         "y": [
          68,
          0
         ]
        },
        {
         "hoverinfo": "none",
         "line": {
          "color": "#6e6e6e",
          "width": 1
         },
         "mode": "lines",
         "showlegend": false,
         "type": "scatter",
         "x": [
          105,
          0
         ],
         "y": [
          0,
          0
         ]
        },
        {
         "hoverinfo": "none",
         "line": {
          "color": "#6e6e6e",
          "width": 1
         },
         "mode": "lines",
         "showlegend": false,
         "type": "scatter",
         "x": [
          52.5,
          52.5
         ],
         "y": [
          0,
          68
         ]
        },
        {
         "hoverinfo": "none",
         "line": {
          "color": "#6e6e6e",
          "width": 1
         },
         "mode": "lines",
         "showlegend": false,
         "type": "scatter",
         "x": [
          16.5,
          16.5
         ],
         "y": [
          13.850000000000001,
          54.15
         ]
        },
        {
         "hoverinfo": "none",
         "line": {
          "color": "#6e6e6e",
          "width": 1
         },
         "mode": "lines",
         "showlegend": false,
         "type": "scatter",
         "x": [
          0,
          16.5
         ],
         "y": [
          54.15,
          54.15
         ]
        },
        {
         "hoverinfo": "none",
         "line": {
          "color": "#6e6e6e",
          "width": 1
         },
         "mode": "lines",
         "showlegend": false,
         "type": "scatter",
         "x": [
          16.5,
          0
         ],
         "y": [
          13.850000000000001,
          13.850000000000001
         ]
        },
        {
         "hoverinfo": "none",
         "line": {
          "color": "#6e6e6e",
          "width": 1
         },
         "mode": "lines",
         "showlegend": false,
         "type": "scatter",
         "x": [
          105,
          88.5
         ],
         "y": [
          54.15,
          54.15
         ]
        },
        {
         "hoverinfo": "none",
         "line": {
          "color": "#6e6e6e",
          "width": 1
         },
         "mode": "lines",
         "showlegend": false,
         "type": "scatter",
         "x": [
          88.5,
          88.5
         ],
         "y": [
          54.15,
          13.850000000000001
         ]
        },
        {
         "hoverinfo": "none",
         "line": {
          "color": "#6e6e6e",
          "width": 1
         },
         "mode": "lines",
         "showlegend": false,
         "type": "scatter",
         "x": [
          88.5,
          105
         ],
         "y": [
          13.850000000000001,
          13.850000000000001
         ]
        },
        {
         "hoverinfo": "none",
         "line": {
          "color": "#6e6e6e",
          "width": 1
         },
         "mode": "lines",
         "showlegend": false,
         "type": "scatter",
         "x": [
          0,
          5.5
         ],
         "y": [
          43.15,
          43.15
         ]
        },
        {
         "hoverinfo": "none",
         "line": {
          "color": "#6e6e6e",
          "width": 1
         },
         "mode": "lines",
         "showlegend": false,
         "type": "scatter",
         "x": [
          5.5,
          5.5
         ],
         "y": [
          43.15,
          24.85
         ]
        },
        {
         "hoverinfo": "none",
         "line": {
          "color": "#6e6e6e",
          "width": 1
         },
         "mode": "lines",
         "showlegend": false,
         "type": "scatter",
         "x": [
          5.5,
          0
         ],
         "y": [
          24.85,
          24.85
         ]
        },
        {
         "hoverinfo": "none",
         "line": {
          "color": "#6e6e6e",
          "width": 1
         },
         "mode": "lines",
         "showlegend": false,
         "type": "scatter",
         "x": [
          105,
          99.5
         ],
         "y": [
          43.15,
          43.15
         ]
        },
        {
         "hoverinfo": "none",
         "line": {
          "color": "#6e6e6e",
          "width": 1
         },
         "mode": "lines",
         "showlegend": false,
         "type": "scatter",
         "x": [
          99.5,
          99.5
         ],
         "y": [
          43.15,
          24.85
         ]
        },
        {
         "hoverinfo": "none",
         "line": {
          "color": "#6e6e6e",
          "width": 1
         },
         "mode": "lines",
         "showlegend": false,
         "type": "scatter",
         "x": [
          99.5,
          105
         ],
         "y": [
          24.85,
          24.85
         ]
        },
        {
         "hoverinfo": "none",
         "line": {
          "color": "#6e6e6e",
          "width": 1
         },
         "mode": "lines",
         "showlegend": false,
         "type": "scatter",
         "x": [
          0,
          -1
         ],
         "y": [
          30.35,
          30.35
         ]
        },
        {
         "hoverinfo": "none",
         "line": {
          "color": "#6e6e6e",
          "width": 1
         },
         "mode": "lines",
         "showlegend": false,
         "type": "scatter",
         "x": [
          0,
          -1
         ],
         "y": [
          37.65,
          37.65
         ]
        },
        {
         "hoverinfo": "none",
         "line": {
          "color": "#6e6e6e",
          "width": 1
         },
         "mode": "lines",
         "showlegend": false,
         "type": "scatter",
         "x": [
          -1,
          -1
         ],
         "y": [
          30.35,
          37.65
         ]
        },
        {
         "hoverinfo": "none",
         "line": {
          "color": "#6e6e6e",
          "width": 1
         },
         "mode": "lines",
         "showlegend": false,
         "type": "scatter",
         "x": [
          105,
          106
         ],
         "y": [
          30.35,
          30.35
         ]
        },
        {
         "hoverinfo": "none",
         "line": {
          "color": "#6e6e6e",
          "width": 1
         },
         "mode": "lines",
         "showlegend": false,
         "type": "scatter",
         "x": [
          105,
          106
         ],
         "y": [
          37.65,
          37.65
         ]
        },
        {
         "hoverinfo": "none",
         "line": {
          "color": "#6e6e6e",
          "width": 1
         },
         "mode": "lines",
         "showlegend": false,
         "type": "scatter",
         "x": [
          106,
          106
         ],
         "y": [
          30.35,
          37.65
         ]
        },
        {
         "fill": "tonext",
         "fillcolor": "rgba(150, 120, 59, 0.09189014539579966)",
         "hoverinfo": "none",
         "line": {
          "color": "rgba(140, 11, 11, 0.4)",
          "width": 0
         },
         "mode": "lines",
         "showlegend": false,
         "type": "scatter",
         "x": [
          0,
          16.5,
          16.5,
          0,
          0
         ],
         "y": [
          0,
          0,
          13.85,
          13.85,
          0
         ]
        },
        {
         "fill": "tonext",
         "fillcolor": "rgba(150, 120, 59, 0.09508885298869142)",
         "hoverinfo": "none",
         "line": {
          "color": "rgba(140, 11, 11, 0.4)",
          "width": 0
         },
         "mode": "lines",
         "showlegend": false,
         "type": "scatter",
         "x": [
          0,
          16.5,
          16.5,
          0,
          0
         ],
         "y": [
          13.85,
          13.85,
          24.85,
          24.85,
          13.85
         ]
        },
        {
         "fill": "tonext",
         "fillcolor": "rgba(150, 120, 59, 0.3)",
         "hoverinfo": "none",
         "line": {
          "color": "rgba(140, 11, 11, 0.4)",
          "width": 0
         },
         "mode": "lines",
         "showlegend": false,
         "type": "scatter",
         "x": [
          0,
          16.5,
          16.5,
          0,
          0
         ],
         "y": [
          24.85,
          24.85,
          43.15,
          43.15,
          24.85
         ]
        },
        {
         "fill": "tonext",
         "fillcolor": "rgba(150, 120, 59, 0.08617124394184167)",
         "hoverinfo": "none",
         "line": {
          "color": "rgba(140, 11, 11, 0.4)",
          "width": 0
         },
         "mode": "lines",
         "showlegend": false,
         "type": "scatter",
         "x": [
          0,
          16.5,
          16.5,
          0,
          0
         ],
         "y": [
          43.15,
          43.15,
          54.15,
          54.15,
          43.15
         ]
        },
        {
         "fill": "tonext",
         "fillcolor": "rgba(150, 120, 59, 0.08966074313408723)",
         "hoverinfo": "none",
         "line": {
          "color": "rgba(140, 11, 11, 0.4)",
          "width": 0
         },
         "mode": "lines",
         "showlegend": false,
         "type": "scatter",
         "x": [
          0,
          16.5,
          16.5,
          0,
          0
         ],
         "y": [
          54.15,
          54.15,
          68,
          68,
          54.15
         ]
        },
        {
         "fill": "tonext",
         "fillcolor": "rgba(150, 120, 59, 0.1589660743134087)",
         "hoverinfo": "none",
         "line": {
          "color": "rgba(140, 11, 11, 0.4)",
          "width": 0
         },
         "mode": "lines",
         "showlegend": false,
         "type": "scatter",
         "x": [
          16.5,
          34.5,
          34.5,
          16.5,
          16.5
         ],
         "y": [
          0,
          0,
          13.85,
          13.85,
          0
         ]
        },
        {
         "fill": "tonext",
         "fillcolor": "rgba(150, 120, 59, 0.13279483037156703)",
         "hoverinfo": "none",
         "line": {
          "color": "rgba(140, 11, 11, 0.4)",
          "width": 0
         },
         "mode": "lines",
         "showlegend": false,
         "type": "scatter",
         "x": [
          16.5,
          34.5,
          34.5,
          16.5,
          16.5
         ],
         "y": [
          13.85,
          13.85,
          24.85,
          24.85,
          13.85
         ]
        },
        {
         "fill": "tonext",
         "fillcolor": "rgba(150, 120, 59, 0.17951534733441032)",
         "hoverinfo": "none",
         "line": {
          "color": "rgba(140, 11, 11, 0.4)",
          "width": 0
         },
         "mode": "lines",
         "showlegend": false,
         "type": "scatter",
         "x": [
          16.5,
          34.5,
          34.5,
          16.5,
          16.5
         ],
         "y": [
          24.85,
          24.85,
          43.15,
          43.15,
          24.85
         ]
        },
        {
         "fill": "tonext",
         "fillcolor": "rgba(150, 120, 59, 0.11941841680129239)",
         "hoverinfo": "none",
         "line": {
          "color": "rgba(140, 11, 11, 0.4)",
          "width": 0
         },
         "mode": "lines",
         "showlegend": false,
         "type": "scatter",
         "x": [
          16.5,
          34.5,
          34.5,
          16.5,
          16.5
         ],
         "y": [
          43.15,
          43.15,
          54.15,
          54.15,
          43.15
         ]
        },
        {
         "fill": "tonext",
         "fillcolor": "rgba(150, 120, 59, 0.15247172859450725)",
         "hoverinfo": "none",
         "line": {
          "color": "rgba(140, 11, 11, 0.4)",
          "width": 0
         },
         "mode": "lines",
         "showlegend": false,
         "type": "scatter",
         "x": [
          16.5,
          34.5,
          34.5,
          16.5,
          16.5
         ],
         "y": [
          54.15,
          54.15,
          68,
          68,
          54.15
         ]
        },
        {
         "fill": "tonext",
         "fillcolor": "rgba(150, 120, 59, 0.15683360258481419)",
         "hoverinfo": "none",
         "line": {
          "color": "rgba(140, 11, 11, 0.4)",
          "width": 0
         },
         "mode": "lines",
         "showlegend": false,
         "type": "scatter",
         "x": [
          34.5,
          52.5,
          52.5,
          34.5,
          34.5
         ],
         "y": [
          0,
          0,
          13.85,
          13.85,
          0
         ]
        },
        {
         "fill": "tonext",
         "fillcolor": "rgba(150, 120, 59, 0.11321486268174473)",
         "hoverinfo": "none",
         "line": {
          "color": "rgba(140, 11, 11, 0.4)",
          "width": 0
         },
         "mode": "lines",
         "showlegend": false,
         "type": "scatter",
         "x": [
          34.5,
          52.5,
          52.5,
          34.5,
          34.5
         ],
         "y": [
          13.85,
          13.85,
          24.85,
          24.85,
          13.85
         ]
        },
        {
         "fill": "tonext",
         "fillcolor": "rgba(150, 120, 59, 0.12600969305331178)",
         "hoverinfo": "none",
         "line": {
          "color": "rgba(140, 11, 11, 0.4)",
          "width": 0
         },
         "mode": "lines",
         "showlegend": false,
         "type": "scatter",
         "x": [
          34.5,
          52.5,
          52.5,
          34.5,
          34.5
         ],
         "y": [
          24.85,
          24.85,
          43.15,
          43.15,
          24.85
         ]
        },
        {
         "fill": "tonext",
         "fillcolor": "rgba(150, 120, 59, 0.11302100161550888)",
         "hoverinfo": "none",
         "line": {
          "color": "rgba(140, 11, 11, 0.4)",
          "width": 0
         },
         "mode": "lines",
         "showlegend": false,
         "type": "scatter",
         "x": [
          34.5,
          52.5,
          52.5,
          34.5,
          34.5
         ],
         "y": [
          43.15,
          43.15,
          54.15,
          54.15,
          43.15
         ]
        },
        {
         "fill": "tonext",
         "fillcolor": "rgba(150, 120, 59, 0.1602261712439418)",
         "hoverinfo": "none",
         "line": {
          "color": "rgba(140, 11, 11, 0.4)",
          "width": 0
         },
         "mode": "lines",
         "showlegend": false,
         "type": "scatter",
         "x": [
          34.5,
          52.5,
          52.5,
          34.5,
          34.5
         ],
         "y": [
          54.15,
          54.15,
          68,
          68,
          54.15
         ]
        },
        {
         "fill": "tonext",
         "fillcolor": "rgba(150, 120, 59, 0.13182552504038772)",
         "hoverinfo": "none",
         "line": {
          "color": "rgba(140, 11, 11, 0.4)",
          "width": 0
         },
         "mode": "lines",
         "showlegend": false,
         "type": "scatter",
         "x": [
          52.5,
          70.5,
          70.5,
          52.5,
          52.5
         ],
         "y": [
          0,
          0,
          13.85,
          13.85,
          0
         ]
        },
        {
         "fill": "tonext",
         "fillcolor": "rgba(150, 120, 59, 0.081421647819063)",
         "hoverinfo": "none",
         "line": {
          "color": "rgba(140, 11, 11, 0.4)",
          "width": 0
         },
         "mode": "lines",
         "showlegend": false,
         "type": "scatter",
         "x": [
          52.5,
          70.5,
          70.5,
          52.5,
          52.5
         ],
         "y": [
          13.85,
          13.85,
          24.85,
          24.85,
          13.85
         ]
        },
        {
         "fill": "tonext",
         "fillcolor": "rgba(150, 120, 59, 0.09237479806138933)",
         "hoverinfo": "none",
         "line": {
          "color": "rgba(140, 11, 11, 0.4)",
          "width": 0
         },
         "mode": "lines",
         "showlegend": false,
         "type": "scatter",
         "x": [
          52.5,
          70.5,
          70.5,
          52.5,
          52.5
         ],
         "y": [
          24.85,
          24.85,
          43.15,
          43.15,
          24.85
         ]
        },
        {
         "fill": "tonext",
         "fillcolor": "rgba(150, 120, 59, 0.0862681744749596)",
         "hoverinfo": "none",
         "line": {
          "color": "rgba(140, 11, 11, 0.4)",
          "width": 0
         },
         "mode": "lines",
         "showlegend": false,
         "type": "scatter",
         "x": [
          52.5,
          70.5,
          70.5,
          52.5,
          52.5
         ],
         "y": [
          43.15,
          43.15,
          54.15,
          54.15,
          43.15
         ]
        },
        {
         "fill": "tonext",
         "fillcolor": "rgba(150, 120, 59, 0.13764135702746363)",
         "hoverinfo": "none",
         "line": {
          "color": "rgba(140, 11, 11, 0.4)",
          "width": 0
         },
         "mode": "lines",
         "showlegend": false,
         "type": "scatter",
         "x": [
          52.5,
          70.5,
          70.5,
          52.5,
          52.5
         ],
         "y": [
          54.15,
          54.15,
          68,
          68,
          54.15
         ]
        },
        {
         "fill": "tonext",
         "fillcolor": "rgba(150, 120, 59, 0.06067851373182552)",
         "hoverinfo": "none",
         "line": {
          "color": "rgba(140, 11, 11, 0.4)",
          "width": 0
         },
         "mode": "lines",
         "showlegend": false,
         "type": "scatter",
         "x": [
          70.5,
          88.5,
          88.5,
          70.5,
          70.5
         ],
         "y": [
          0,
          0,
          13.85,
          13.85,
          0
         ]
        },
        {
         "fill": "tonext",
         "fillcolor": "rgba(150, 120, 59, 0.02849757673667205)",
         "hoverinfo": "none",
         "line": {
          "color": "rgba(140, 11, 11, 0.4)",
          "width": 0
         },
         "mode": "lines",
         "showlegend": false,
         "type": "scatter",
         "x": [
          70.5,
          88.5,
          88.5,
          70.5,
          70.5
         ],
         "y": [
          13.85,
          13.85,
          24.85,
          24.85,
          13.85
         ]
        },
        {
         "fill": "tonext",
         "fillcolor": "rgba(150, 120, 59, 0.04109854604200323)",
         "hoverinfo": "none",
         "line": {
          "color": "rgba(140, 11, 11, 0.4)",
          "width": 0
         },
         "mode": "lines",
         "showlegend": false,
         "type": "scatter",
         "x": [
          70.5,
          88.5,
          88.5,
          70.5,
          70.5
         ],
         "y": [
          24.85,
          24.85,
          43.15,
          43.15,
          24.85
         ]
        },
        {
         "fill": "tonext",
         "fillcolor": "rgba(150, 120, 59, 0.034604200323101776)",
         "hoverinfo": "none",
         "line": {
          "color": "rgba(140, 11, 11, 0.4)",
          "width": 0
         },
         "mode": "lines",
         "showlegend": false,
         "type": "scatter",
         "x": [
          70.5,
          88.5,
          88.5,
          70.5,
          70.5
         ],
         "y": [
          43.15,
          43.15,
          54.15,
          54.15,
          43.15
         ]
        },
        {
         "fill": "tonext",
         "fillcolor": "rgba(150, 120, 59, 0.06794830371567043)",
         "hoverinfo": "none",
         "line": {
          "color": "rgba(140, 11, 11, 0.4)",
          "width": 0
         },
         "mode": "lines",
         "showlegend": false,
         "type": "scatter",
         "x": [
          70.5,
          88.5,
          88.5,
          70.5,
          70.5
         ],
         "y": [
          54.15,
          54.15,
          68,
          68,
          54.15
         ]
        },
        {
         "fill": "tonext",
         "fillcolor": "rgba(150, 120, 59, 0.014927302100161549)",
         "hoverinfo": "none",
         "line": {
          "color": "rgba(140, 11, 11, 0.4)",
          "width": 0
         },
         "mode": "lines",
         "showlegend": false,
         "type": "scatter",
         "x": [
          88.5,
          105,
          105,
          88.5,
          88.5
         ],
         "y": [
          0,
          0,
          13.85,
          13.85,
          0
         ]
        },
        {
         "fill": "tonext",
         "fillcolor": "rgba(150, 120, 59, 0.0011631663974151856)",
         "hoverinfo": "none",
         "line": {
          "color": "rgba(140, 11, 11, 0.4)",
          "width": 0
         },
         "mode": "lines",
         "showlegend": false,
         "type": "scatter",
         "x": [
          88.5,
          105,
          105,
          88.5,
          88.5
         ],
         "y": [
          13.85,
          13.85,
          24.85,
          24.85,
          13.85
         ]
        },
        {
         "fill": "tonext",
         "fillcolor": "rgba(150, 120, 59, 0.009499192245557349)",
         "hoverinfo": "none",
         "line": {
          "color": "rgba(140, 11, 11, 0.4)",
          "width": 0
         },
         "mode": "lines",
         "showlegend": false,
         "type": "scatter",
         "x": [
          88.5,
          105,
          105,
          88.5,
          88.5
         ],
         "y": [
          24.85,
          24.85,
          43.15,
          43.15,
          24.85
         ]
        },
        {
         "fill": "tonext",
         "fillcolor": "rgba(150, 120, 59, 0.0)",
         "hoverinfo": "none",
         "line": {
          "color": "rgba(140, 11, 11, 0.4)",
          "width": 0
         },
         "mode": "lines",
         "showlegend": false,
         "type": "scatter",
         "x": [
          88.5,
          105,
          105,
          88.5,
          88.5
         ],
         "y": [
          43.15,
          43.15,
          54.15,
          54.15,
          43.15
         ]
        },
        {
         "fill": "tonext",
         "fillcolor": "rgba(150, 120, 59, 0.015218093699515345)",
         "hoverinfo": "none",
         "line": {
          "color": "rgba(140, 11, 11, 0.4)",
          "width": 0
         },
         "mode": "lines",
         "showlegend": false,
         "type": "scatter",
         "x": [
          88.5,
          105,
          105,
          88.5,
          88.5
         ],
         "y": [
          54.15,
          54.15,
          68,
          68,
          54.15
         ]
        }
       ],
       "layout": {
        "font": {
         "color": "#d9d9d9",
         "family": "Lato",
         "size": 12
        },
        "hoverlabel": {
         "bgcolor": "#1f1e1c",
         "bordercolor": "#bdbdbd",
         "font": {
          "color": "rgba(189, 189, 189, 0.85)",
          "family": "Lato",
          "size": 13
         }
        },
        "margin": {
         "b": 0,
         "l": 0,
         "r": 0,
         "t": 0
        },
        "paper_bgcolor": "#242321",
        "plot_bgcolor": "rgba(0,0,0,0)",
        "template": {
         "data": {
          "bar": [
           {
            "error_x": {
             "color": "#2a3f5f"
            },
            "error_y": {
             "color": "#2a3f5f"
            },
            "marker": {
             "line": {
              "color": "#E5ECF6",
              "width": 0.5
             }
            },
            "type": "bar"
           }
          ],
          "barpolar": [
           {
            "marker": {
             "line": {
              "color": "#E5ECF6",
              "width": 0.5
             }
            },
            "type": "barpolar"
           }
          ],
          "carpet": [
           {
            "aaxis": {
             "endlinecolor": "#2a3f5f",
             "gridcolor": "white",
             "linecolor": "white",
             "minorgridcolor": "white",
             "startlinecolor": "#2a3f5f"
            },
            "baxis": {
             "endlinecolor": "#2a3f5f",
             "gridcolor": "white",
             "linecolor": "white",
             "minorgridcolor": "white",
             "startlinecolor": "#2a3f5f"
            },
            "type": "carpet"
           }
          ],
          "choropleth": [
           {
            "colorbar": {
             "outlinewidth": 0,
             "ticks": ""
            },
            "type": "choropleth"
           }
          ],
          "contour": [
           {
            "colorbar": {
             "outlinewidth": 0,
             "ticks": ""
            },
            "colorscale": [
             [
              0,
              "#0d0887"
             ],
             [
              0.1111111111111111,
              "#46039f"
             ],
             [
              0.2222222222222222,
              "#7201a8"
             ],
             [
              0.3333333333333333,
              "#9c179e"
             ],
             [
              0.4444444444444444,
              "#bd3786"
             ],
             [
              0.5555555555555556,
              "#d8576b"
             ],
             [
              0.6666666666666666,
              "#ed7953"
             ],
             [
              0.7777777777777778,
              "#fb9f3a"
             ],
             [
              0.8888888888888888,
              "#fdca26"
             ],
             [
              1,
              "#f0f921"
             ]
            ],
            "type": "contour"
           }
          ],
          "contourcarpet": [
           {
            "colorbar": {
             "outlinewidth": 0,
             "ticks": ""
            },
            "type": "contourcarpet"
           }
          ],
          "heatmap": [
           {
            "colorbar": {
             "outlinewidth": 0,
             "ticks": ""
            },
            "colorscale": [
             [
              0,
              "#0d0887"
             ],
             [
              0.1111111111111111,
              "#46039f"
             ],
             [
              0.2222222222222222,
              "#7201a8"
             ],
             [
              0.3333333333333333,
              "#9c179e"
             ],
             [
              0.4444444444444444,
              "#bd3786"
             ],
             [
              0.5555555555555556,
              "#d8576b"
             ],
             [
              0.6666666666666666,
              "#ed7953"
             ],
             [
              0.7777777777777778,
              "#fb9f3a"
             ],
             [
              0.8888888888888888,
              "#fdca26"
             ],
             [
              1,
              "#f0f921"
             ]
            ],
            "type": "heatmap"
           }
          ],
          "heatmapgl": [
           {
            "colorbar": {
             "outlinewidth": 0,
             "ticks": ""
            },
            "colorscale": [
             [
              0,
              "#0d0887"
             ],
             [
              0.1111111111111111,
              "#46039f"
             ],
             [
              0.2222222222222222,
              "#7201a8"
             ],
             [
              0.3333333333333333,
              "#9c179e"
             ],
             [
              0.4444444444444444,
              "#bd3786"
             ],
             [
              0.5555555555555556,
              "#d8576b"
             ],
             [
              0.6666666666666666,
              "#ed7953"
             ],
             [
              0.7777777777777778,
              "#fb9f3a"
             ],
             [
              0.8888888888888888,
              "#fdca26"
             ],
             [
              1,
              "#f0f921"
             ]
            ],
            "type": "heatmapgl"
           }
          ],
          "histogram": [
           {
            "marker": {
             "colorbar": {
              "outlinewidth": 0,
              "ticks": ""
             }
            },
            "type": "histogram"
           }
          ],
          "histogram2d": [
           {
            "colorbar": {
             "outlinewidth": 0,
             "ticks": ""
            },
            "colorscale": [
             [
              0,
              "#0d0887"
             ],
             [
              0.1111111111111111,
              "#46039f"
             ],
             [
              0.2222222222222222,
              "#7201a8"
             ],
             [
              0.3333333333333333,
              "#9c179e"
             ],
             [
              0.4444444444444444,
              "#bd3786"
             ],
             [
              0.5555555555555556,
              "#d8576b"
             ],
             [
              0.6666666666666666,
              "#ed7953"
             ],
             [
              0.7777777777777778,
              "#fb9f3a"
             ],
             [
              0.8888888888888888,
              "#fdca26"
             ],
             [
              1,
              "#f0f921"
             ]
            ],
            "type": "histogram2d"
           }
          ],
          "histogram2dcontour": [
           {
            "colorbar": {
             "outlinewidth": 0,
             "ticks": ""
            },
            "colorscale": [
             [
              0,
              "#0d0887"
             ],
             [
              0.1111111111111111,
              "#46039f"
             ],
             [
              0.2222222222222222,
              "#7201a8"
             ],
             [
              0.3333333333333333,
              "#9c179e"
             ],
             [
              0.4444444444444444,
              "#bd3786"
             ],
             [
              0.5555555555555556,
              "#d8576b"
             ],
             [
              0.6666666666666666,
              "#ed7953"
             ],
             [
              0.7777777777777778,
              "#fb9f3a"
             ],
             [
              0.8888888888888888,
              "#fdca26"
             ],
             [
              1,
              "#f0f921"
             ]
            ],
            "type": "histogram2dcontour"
           }
          ],
          "mesh3d": [
           {
            "colorbar": {
             "outlinewidth": 0,
             "ticks": ""
            },
            "type": "mesh3d"
           }
          ],
          "parcoords": [
           {
            "line": {
             "colorbar": {
              "outlinewidth": 0,
              "ticks": ""
             }
            },
            "type": "parcoords"
           }
          ],
          "pie": [
           {
            "automargin": true,
            "type": "pie"
           }
          ],
          "scatter": [
           {
            "marker": {
             "colorbar": {
              "outlinewidth": 0,
              "ticks": ""
             }
            },
            "type": "scatter"
           }
          ],
          "scatter3d": [
           {
            "line": {
             "colorbar": {
              "outlinewidth": 0,
              "ticks": ""
             }
            },
            "marker": {
             "colorbar": {
              "outlinewidth": 0,
              "ticks": ""
             }
            },
            "type": "scatter3d"
           }
          ],
          "scattercarpet": [
           {
            "marker": {
             "colorbar": {
              "outlinewidth": 0,
              "ticks": ""
             }
            },
            "type": "scattercarpet"
           }
          ],
          "scattergeo": [
           {
            "marker": {
             "colorbar": {
              "outlinewidth": 0,
              "ticks": ""
             }
            },
            "type": "scattergeo"
           }
          ],
          "scattergl": [
           {
            "marker": {
             "colorbar": {
              "outlinewidth": 0,
              "ticks": ""
             }
            },
            "type": "scattergl"
           }
          ],
          "scattermapbox": [
           {
            "marker": {
             "colorbar": {
              "outlinewidth": 0,
              "ticks": ""
             }
            },
            "type": "scattermapbox"
           }
          ],
          "scatterpolar": [
           {
            "marker": {
             "colorbar": {
              "outlinewidth": 0,
              "ticks": ""
             }
            },
            "type": "scatterpolar"
           }
          ],
          "scatterpolargl": [
           {
            "marker": {
             "colorbar": {
              "outlinewidth": 0,
              "ticks": ""
             }
            },
            "type": "scatterpolargl"
           }
          ],
          "scatterternary": [
           {
            "marker": {
             "colorbar": {
              "outlinewidth": 0,
              "ticks": ""
             }
            },
            "type": "scatterternary"
           }
          ],
          "surface": [
           {
            "colorbar": {
             "outlinewidth": 0,
             "ticks": ""
            },
            "colorscale": [
             [
              0,
              "#0d0887"
             ],
             [
              0.1111111111111111,
              "#46039f"
             ],
             [
              0.2222222222222222,
              "#7201a8"
             ],
             [
              0.3333333333333333,
              "#9c179e"
             ],
             [
              0.4444444444444444,
              "#bd3786"
             ],
             [
              0.5555555555555556,
              "#d8576b"
             ],
             [
              0.6666666666666666,
              "#ed7953"
             ],
             [
              0.7777777777777778,
              "#fb9f3a"
             ],
             [
              0.8888888888888888,
              "#fdca26"
             ],
             [
              1,
              "#f0f921"
             ]
            ],
            "type": "surface"
           }
          ],
          "table": [
           {
            "cells": {
             "fill": {
              "color": "#EBF0F8"
             },
             "line": {
              "color": "white"
             }
            },
            "header": {
             "fill": {
              "color": "#C8D4E3"
             },
             "line": {
              "color": "white"
             }
            },
            "type": "table"
           }
          ]
         },
         "layout": {
          "annotationdefaults": {
           "arrowcolor": "#2a3f5f",
           "arrowhead": 0,
           "arrowwidth": 1
          },
          "coloraxis": {
           "colorbar": {
            "outlinewidth": 0,
            "ticks": ""
           }
          },
          "colorscale": {
           "diverging": [
            [
             0,
             "#8e0152"
            ],
            [
             0.1,
             "#c51b7d"
            ],
            [
             0.2,
             "#de77ae"
            ],
            [
             0.3,
             "#f1b6da"
            ],
            [
             0.4,
             "#fde0ef"
            ],
            [
             0.5,
             "#f7f7f7"
            ],
            [
             0.6,
             "#e6f5d0"
            ],
            [
             0.7,
             "#b8e186"
            ],
            [
             0.8,
             "#7fbc41"
            ],
            [
             0.9,
             "#4d9221"
            ],
            [
             1,
             "#276419"
            ]
           ],
           "sequential": [
            [
             0,
             "#0d0887"
            ],
            [
             0.1111111111111111,
             "#46039f"
            ],
            [
             0.2222222222222222,
             "#7201a8"
            ],
            [
             0.3333333333333333,
             "#9c179e"
            ],
            [
             0.4444444444444444,
             "#bd3786"
            ],
            [
             0.5555555555555556,
             "#d8576b"
            ],
            [
             0.6666666666666666,
             "#ed7953"
            ],
            [
             0.7777777777777778,
             "#fb9f3a"
            ],
            [
             0.8888888888888888,
             "#fdca26"
            ],
            [
             1,
             "#f0f921"
            ]
           ],
           "sequentialminus": [
            [
             0,
             "#0d0887"
            ],
            [
             0.1111111111111111,
             "#46039f"
            ],
            [
             0.2222222222222222,
             "#7201a8"
            ],
            [
             0.3333333333333333,
             "#9c179e"
            ],
            [
             0.4444444444444444,
             "#bd3786"
            ],
            [
             0.5555555555555556,
             "#d8576b"
            ],
            [
             0.6666666666666666,
             "#ed7953"
            ],
            [
             0.7777777777777778,
             "#fb9f3a"
            ],
            [
             0.8888888888888888,
             "#fdca26"
            ],
            [
             1,
             "#f0f921"
            ]
           ]
          },
          "colorway": [
           "#636efa",
           "#EF553B",
           "#00cc96",
           "#ab63fa",
           "#FFA15A",
           "#19d3f3",
           "#FF6692",
           "#B6E880",
           "#FF97FF",
           "#FECB52"
          ],
          "font": {
           "color": "#2a3f5f"
          },
          "geo": {
           "bgcolor": "white",
           "lakecolor": "white",
           "landcolor": "#E5ECF6",
           "showlakes": true,
           "showland": true,
           "subunitcolor": "white"
          },
          "hoverlabel": {
           "align": "left"
          },
          "hovermode": "closest",
          "mapbox": {
           "style": "light"
          },
          "paper_bgcolor": "white",
          "plot_bgcolor": "#E5ECF6",
          "polar": {
           "angularaxis": {
            "gridcolor": "white",
            "linecolor": "white",
            "ticks": ""
           },
           "bgcolor": "#E5ECF6",
           "radialaxis": {
            "gridcolor": "white",
            "linecolor": "white",
            "ticks": ""
           }
          },
          "scene": {
           "xaxis": {
            "backgroundcolor": "#E5ECF6",
            "gridcolor": "white",
            "gridwidth": 2,
            "linecolor": "white",
            "showbackground": true,
            "ticks": "",
            "zerolinecolor": "white"
           },
           "yaxis": {
            "backgroundcolor": "#E5ECF6",
            "gridcolor": "white",
            "gridwidth": 2,
            "linecolor": "white",
            "showbackground": true,
            "ticks": "",
            "zerolinecolor": "white"
           },
           "zaxis": {
            "backgroundcolor": "#E5ECF6",
            "gridcolor": "white",
            "gridwidth": 2,
            "linecolor": "white",
            "showbackground": true,
            "ticks": "",
            "zerolinecolor": "white"
           }
          },
          "shapedefaults": {
           "line": {
            "color": "#2a3f5f"
           }
          },
          "ternary": {
           "aaxis": {
            "gridcolor": "white",
            "linecolor": "white",
            "ticks": ""
           },
           "baxis": {
            "gridcolor": "white",
            "linecolor": "white",
            "ticks": ""
           },
           "bgcolor": "#E5ECF6",
           "caxis": {
            "gridcolor": "white",
            "linecolor": "white",
            "ticks": ""
           }
          },
          "title": {
           "x": 0.05
          },
          "xaxis": {
           "automargin": true,
           "gridcolor": "white",
           "linecolor": "white",
           "ticks": "",
           "title": {
            "standoff": 15
           },
           "zerolinecolor": "white",
           "zerolinewidth": 2
          },
          "yaxis": {
           "automargin": true,
           "gridcolor": "white",
           "linecolor": "white",
           "ticks": "",
           "title": {
            "standoff": 15
           },
           "zerolinecolor": "white",
           "zerolinewidth": 2
          }
         }
        },
        "xaxis": {
         "autorange": true,
         "fixedrange": true,
         "range": [
          -2,
          107
         ],
         "showgrid": false,
         "visible": false,
         "zeroline": false
        },
        "yaxis": {
         "autorange": true,
         "fixedrange": true,
         "range": [
          -0.5,
          68.5
         ],
         "scaleanchor": "x",
         "scaleratio": 1,
         "showgrid": false,
         "visible": false,
         "zeroline": false
        }
       }
      }
     },
     "metadata": {}
    }
   ],
   "source": [
    "import plotly.graph_objects as go\n",
    "import plotly.express as px\n",
    "from utils_plotly import set_style, draw_field, hex_to_rgba\n",
    "\n",
    "min_alpha = 0\n",
    "max_alpha = 0.3\n",
    "\n",
    "bin_size = 4\n",
    "n_bins = (26, 17)\n",
    "x_offset = 0.55\n",
    "\n",
    "bin_edges_x = [0, 16.5, 34.5, 52.5, 70.5, 88.5, 105]\n",
    "bin_edges_y = [0, 13.85, 24.85, 43.15, 54.15, 68]\n",
    "\n",
    "heatmap, xedges, yedges = np.histogram2d(events['StartX'], events['StartY'], bins=(bin_edges_x, bin_edges_y), range=((0, 105), (0, 68)))\n",
    "heatmap = heatmap.T\n",
    "#heatmap = (heatmap - heatmap.min())/(heatmap.max()-heatmap.min())\n",
    "heatmap = (heatmap-heatmap.min())/((heatmap.max()-heatmap.min())/(max_alpha-min_alpha)) + min_alpha\n",
    "\n",
    "fig = go.Figure()\n",
    "set_style(fig)\n",
    "draw_field(fig)\n",
    "\n",
    "xs = []\n",
    "for i in range(0, n_bins[1]):\n",
    "    xs += list(bin_size*np.array(range(0, n_bins[0])) + bin_size/2 + x_offset)\n",
    "\n",
    "ys = []\n",
    "for i in range(0, n_bins[1]):\n",
    "    ys += list([bin_size*i + bin_size/2]*n_bins[0])\n",
    "\n",
    "k=1\n",
    "for i in range(0, len(bin_edges_x)-1):\n",
    "    for j in range(0, len(bin_edges_y)-1):\n",
    "        x1 = bin_edges_x[i]\n",
    "        x2 = bin_edges_x[i+1]\n",
    "        y1 = bin_edges_y[j]\n",
    "        y2 = bin_edges_y[j+1]\n",
    "\n",
    "        fig.add_trace(\n",
    "            go.Scatter(\n",
    "                x=[x1, x2, x2, x1, x1], y=[y1, y1, y2, y2, y1],\n",
    "                mode='lines',\n",
    "                line=dict(\n",
    "                    color=hex_to_rgba('#8c0b0b', 0.4),\n",
    "                    width=0,\n",
    "                ), \n",
    "                showlegend=False, \n",
    "                fill=\"tonext\", \n",
    "                fillcolor=hex_to_rgba('#96783b', heatmap[j][i]),\n",
    "                hoverinfo='none'\n",
    "            )\n",
    "        )\n",
    "\n",
    "# colors = list(map(lambda x: hex_to_rgba('#8c0b0b', x), heatmap.flatten()))\n",
    "\n",
    "fig.show()"
   ]
  },
  {
   "cell_type": "code",
   "execution_count": null,
   "metadata": {},
   "outputs": [],
   "source": []
  }
 ]
}
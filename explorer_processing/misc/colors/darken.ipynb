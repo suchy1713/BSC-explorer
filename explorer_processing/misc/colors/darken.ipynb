{
 "metadata": {
  "language_info": {
   "codemirror_mode": {
    "name": "ipython",
    "version": 3
   },
   "file_extension": ".py",
   "mimetype": "text/x-python",
   "name": "python",
   "nbconvert_exporter": "python",
   "pygments_lexer": "ipython3",
   "version": "3.8.3-final"
  },
  "orig_nbformat": 2,
  "kernelspec": {
   "name": "python3",
   "display_name": "Python 3",
   "language": "python"
  }
 },
 "nbformat": 4,
 "nbformat_minor": 2,
 "cells": [
  {
   "cell_type": "code",
   "execution_count": 1,
   "metadata": {},
   "outputs": [
    {
     "output_type": "execute_result",
     "data": {
      "text/plain": [
       "          club    color\n",
       "0     AC Milan  #FB090B\n",
       "1      Arsenal  #EF0107\n",
       "2  Aston Villa  #670E36\n",
       "3     Atalanta  #1E71B8\n",
       "4    Benevento  #FFEE00"
      ],
      "text/html": "<div>\n<style scoped>\n    .dataframe tbody tr th:only-of-type {\n        vertical-align: middle;\n    }\n\n    .dataframe tbody tr th {\n        vertical-align: top;\n    }\n\n    .dataframe thead th {\n        text-align: right;\n    }\n</style>\n<table border=\"1\" class=\"dataframe\">\n  <thead>\n    <tr style=\"text-align: right;\">\n      <th></th>\n      <th>club</th>\n      <th>color</th>\n    </tr>\n  </thead>\n  <tbody>\n    <tr>\n      <th>0</th>\n      <td>AC Milan</td>\n      <td>#FB090B</td>\n    </tr>\n    <tr>\n      <th>1</th>\n      <td>Arsenal</td>\n      <td>#EF0107</td>\n    </tr>\n    <tr>\n      <th>2</th>\n      <td>Aston Villa</td>\n      <td>#670E36</td>\n    </tr>\n    <tr>\n      <th>3</th>\n      <td>Atalanta</td>\n      <td>#1E71B8</td>\n    </tr>\n    <tr>\n      <th>4</th>\n      <td>Benevento</td>\n      <td>#FFEE00</td>\n    </tr>\n  </tbody>\n</table>\n</div>"
     },
     "metadata": {},
     "execution_count": 1
    }
   ],
   "source": [
    "import pandas as pd\n",
    "from plotly.colors import hex_to_rgb\n",
    "from colorsys import rgb_to_hsv, hsv_to_rgb\n",
    "\n",
    "df = pd.read_csv('colors.csv')\n",
    "\n",
    "df.head()"
   ]
  },
  {
   "cell_type": "code",
   "execution_count": 2,
   "metadata": {},
   "outputs": [],
   "source": [
    "v_reg = 0.4\n",
    "v_darker = 0.65\n",
    "v_lower = 0.2\n",
    "v_lowest = 0.15\n",
    "\n",
    "def darken(color):\n",
    "    color_rgb = hex_to_rgb(color)\n",
    "    color_hsv = rgb_to_hsv(*color_rgb)\n",
    "\n",
    "    v = v_reg\n",
    "    if 100 > color_hsv[0]*360 > 44 or  203 > color_hsv[0]*360 > 163:\n",
    "        v = v_darker\n",
    "\n",
    "    if color_hsv[2] < 0.5*255:\n",
    "        v = v_lower\n",
    "\n",
    "    if 270 > color_hsv[0]*360 > 225:\n",
    "        v = v_lowest\n",
    "\n",
    "    darken_hsv = (color_hsv[0], color_hsv[1], color_hsv[2]-color_hsv[2]*v)\n",
    "    darken_rgb = hsv_to_rgb(*darken_hsv)\n",
    "    darken = '#%02x%02x%02x' % (int(darken_rgb[0]), int(darken_rgb[1]), int(darken_rgb[2]))\n",
    "\n",
    "    return darken"
   ]
  },
  {
   "cell_type": "code",
   "execution_count": 3,
   "metadata": {},
   "outputs": [],
   "source": [
    "value = 0.35\n",
    "\n",
    "df['darken'] = df['color'].apply(lambda x: darken(x))\n",
    "\n",
    "df.to_csv('colors_darken.csv', index=None)"
   ]
  }
 ]
}
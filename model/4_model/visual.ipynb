{
 "metadata": {
  "language_info": {
   "codemirror_mode": {
    "name": "ipython",
    "version": 3
   },
   "file_extension": ".py",
   "mimetype": "text/x-python",
   "name": "python",
   "nbconvert_exporter": "python",
   "pygments_lexer": "ipython3",
   "version": "3.8.3-final"
  },
  "orig_nbformat": 2,
  "kernelspec": {
   "name": "python3",
   "display_name": "Python 3",
   "language": "python"
  }
 },
 "nbformat": 4,
 "nbformat_minor": 2,
 "cells": [
  {
   "cell_type": "code",
   "execution_count": 4,
   "metadata": {},
   "outputs": [
    {
     "output_type": "execute_result",
     "data": {
      "text/plain": [
       "           x          y position\n",
       "0  52.469118  11.530000       RW\n",
       "1  48.375000  39.556571       CM\n",
       "2  33.618750  46.048143       CB\n",
       "3  52.906452  30.696516       CM\n",
       "4  24.546000  25.560229       CB"
      ],
      "text/html": "<div>\n<style scoped>\n    .dataframe tbody tr th:only-of-type {\n        vertical-align: middle;\n    }\n\n    .dataframe tbody tr th {\n        vertical-align: top;\n    }\n\n    .dataframe thead th {\n        text-align: right;\n    }\n</style>\n<table border=\"1\" class=\"dataframe\">\n  <thead>\n    <tr style=\"text-align: right;\">\n      <th></th>\n      <th>x</th>\n      <th>y</th>\n      <th>position</th>\n    </tr>\n  </thead>\n  <tbody>\n    <tr>\n      <th>0</th>\n      <td>52.469118</td>\n      <td>11.530000</td>\n      <td>RW</td>\n    </tr>\n    <tr>\n      <th>1</th>\n      <td>48.375000</td>\n      <td>39.556571</td>\n      <td>CM</td>\n    </tr>\n    <tr>\n      <th>2</th>\n      <td>33.618750</td>\n      <td>46.048143</td>\n      <td>CB</td>\n    </tr>\n    <tr>\n      <th>3</th>\n      <td>52.906452</td>\n      <td>30.696516</td>\n      <td>CM</td>\n    </tr>\n    <tr>\n      <th>4</th>\n      <td>24.546000</td>\n      <td>25.560229</td>\n      <td>CB</td>\n    </tr>\n  </tbody>\n</table>\n</div>"
     },
     "metadata": {},
     "execution_count": 4
    }
   ],
   "source": [
    "import pandas as pd\n",
    "import matplotlib.pyplot as plt\n",
    "\n",
    "df = pd.read_csv('../3_merge_features_and_positions/data/data.csv')\n",
    "df = df[['x', 'y', 'position']]\n",
    "df.head()"
   ]
  },
  {
   "cell_type": "code",
   "execution_count": null,
   "metadata": {},
   "outputs": [],
   "source": []
  }
 ]
}
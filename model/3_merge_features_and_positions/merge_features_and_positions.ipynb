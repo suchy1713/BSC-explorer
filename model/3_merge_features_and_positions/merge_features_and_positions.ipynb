{
 "metadata": {
  "language_info": {
   "codemirror_mode": {
    "name": "ipython",
    "version": 3
   },
   "file_extension": ".py",
   "mimetype": "text/x-python",
   "name": "python",
   "nbconvert_exporter": "python",
   "pygments_lexer": "ipython3",
   "version": "3.8.3-final"
  },
  "orig_nbformat": 2,
  "kernelspec": {
   "name": "python3",
   "display_name": "Python 3",
   "language": "python"
  }
 },
 "nbformat": 4,
 "nbformat_minor": 2,
 "cells": [
  {
   "cell_type": "code",
   "execution_count": 1,
   "metadata": {},
   "outputs": [],
   "source": [
    "import pandas as pd\n",
    "\n",
    "p_directory = '../2_label_positions/data/'\n",
    "f_directory = '../1_generate_features/data/'\n",
    "f_directory_ens = '../1_generate_features/data_ensemble/'\n",
    "save_directory = 'data/'\n",
    "\n",
    "def get_f_filename(p_filename):\n",
    "    f_filename = list(p_filename)\n",
    "    f_filename[0] = 'f'\n",
    "    return ''.join(f_filename)\n",
    "\n",
    "def get_f_filenames(p_filename):\n",
    "    file_id = '.'.join('_'.join(p_filename.split('_')[1:]).split('.')[:-1])\n",
    "    all_f_files = os.listdir(f_directory_ens)\n",
    "    return list(filter(lambda f: file_id in f, all_f_files))"
   ]
  },
  {
   "cell_type": "code",
   "execution_count": 2,
   "metadata": {},
   "outputs": [],
   "source": [
    "# dfs = []\n",
    "# for p_filename in os.listdir(p_directory):\n",
    "#     if p_filename.endswith(\".csv\"):\n",
    "#         f_filenames = get_f_filenames(p_filename)\n",
    "#         for f_filename in f_filenames:\n",
    "#             p_df = pd.read_csv(p_directory + p_filename)\n",
    "#             f_df = pd.read_csv(f_directory_ens + f_filename)\n",
    "#             merged_df = f_df.merge(p_df, on='name')\n",
    "#             dfs.append(merged_df)\n",
    "\n",
    "# df = pd.concat(dfs)\n",
    "# df.to_csv(f'{save_directory}data.csv', index=False)\n",
    "\n",
    "\n",
    "\n",
    "dfs = []\n",
    "for p_filename in os.listdir(p_directory):\n",
    "    if p_filename.endswith(\".csv\"):\n",
    "        f_filename = get_f_filename(p_filename)\n",
    "        if f_filename in os.listdir(f_directory):\n",
    "            p_df = pd.read_csv(p_directory + p_filename)\n",
    "            f_df = pd.read_csv(f_directory + f_filename)\n",
    "            merged_df = f_df.merge(p_df, on='name')\n",
    "            dfs.append(merged_df)\n",
    "\n",
    "df = pd.concat(dfs)\n",
    "df.to_csv(f'{save_directory}data.csv', index=False)"
   ]
  }
 ]
}